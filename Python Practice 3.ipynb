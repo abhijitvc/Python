{
 "cells": [
  {
   "cell_type": "markdown",
   "metadata": {},
   "source": [
    "**1.  Given an array of integers, return a new array length 2 containing the first and last elements from the original array. The original array will be length 1 or more.**"
   ]
  },
  {
   "cell_type": "code",
   "execution_count": 6,
   "metadata": {},
   "outputs": [
    {
     "name": "stdout",
     "output_type": "stream",
     "text": [
      "[1, 6]\n"
     ]
    }
   ],
   "source": [
    "arr1 = [1,2,3,4,5,6]\n",
    "\n",
    "a = arr1[0]\n",
    "b = arr1[-1]\n",
    "\n",
    "c = [a,b]\n",
    "\n",
    "print(c)"
   ]
  },
  {
   "cell_type": "markdown",
   "metadata": {},
   "source": [
    "**2. Write a Python program to find the Mean, Median and Mode of three user entered values**"
   ]
  },
  {
   "cell_type": "code",
   "execution_count": 8,
   "metadata": {},
   "outputs": [
    {
     "name": "stdout",
     "output_type": "stream",
     "text": [
      "Enter a number:5\n",
      "Enter a number:8\n",
      "Enter a number:5\n",
      "6.0\n",
      "5.0\n",
      "5\n"
     ]
    }
   ],
   "source": [
    "import numpy as np\n",
    "import statistics as st\n",
    "\n",
    "a = int(input(\"Enter a number:\"))\n",
    "b = int(input(\"Enter a number:\"))\n",
    "c = int(input(\"Enter a number:\"))\n",
    "\n",
    "d = [a,b,c]\n",
    "\n",
    "print(np.mean(d))\n",
    "print(np.median(d))\n",
    "print(st.mode(d))"
   ]
  },
  {
   "cell_type": "markdown",
   "metadata": {},
   "source": [
    "**3. Write a program to find the average of 10 numbers entered from the user.**"
   ]
  },
  {
   "cell_type": "code",
   "execution_count": 10,
   "metadata": {},
   "outputs": [
    {
     "name": "stdout",
     "output_type": "stream",
     "text": [
      "Enter numbers:1\n",
      "Enter numbers:203\n",
      "Enter numbers:3\n",
      "Enter numbers:4\n",
      "Enter numbers:5\n",
      "Enter numbers:66\n",
      "Enter numbers:99\n",
      "Enter numbers:89\n",
      "Enter numbers:702\n",
      "Enter numbers:111156\n",
      "11232.8\n"
     ]
    }
   ],
   "source": [
    "import numpy as np\n",
    "\n",
    "l = []\n",
    "\n",
    "for i in range(10):\n",
    "    i = int(input(\"Enter numbers:\"))\n",
    "    l.append(i)\n",
    "    \n",
    "print(np.mean(l))"
   ]
  },
  {
   "cell_type": "code",
   "execution_count": 13,
   "metadata": {},
   "outputs": [
    {
     "name": "stdout",
     "output_type": "stream",
     "text": [
      "[5, 3, 1, 2, 8, 5, 8, 7, 6, 1]\n",
      "4.6\n"
     ]
    }
   ],
   "source": [
    "import numpy as np\n",
    "import random\n",
    "\n",
    "l = []\n",
    "\n",
    "for i in range(10):\n",
    "    i = np.random.randint(1,11)\n",
    "    l.append(i)\n",
    "    \n",
    "print(l)\n",
    "print(np.mean(l))"
   ]
  },
  {
   "cell_type": "markdown",
   "metadata": {},
   "source": [
    "**4. Write a program to find even and odd numbers from the given list.**"
   ]
  },
  {
   "cell_type": "code",
   "execution_count": 32,
   "metadata": {},
   "outputs": [
    {
     "name": "stdout",
     "output_type": "stream",
     "text": [
      "[2, 4, 6, 8]\n",
      "[1, 3, 5, 7, 9]\n"
     ]
    }
   ],
   "source": [
    "odd = []\n",
    "even = []\n",
    "\n",
    "nums = [1,2,3,4,5,6,7,8,9]\n",
    "\n",
    "for i in nums:\n",
    "    if i%2==0:\n",
    "        even.append(i)\n",
    "print(even)\n",
    "for j in nums:\n",
    "    if j%2!=0:\n",
    "        odd.append(j)\n",
    "print(odd)"
   ]
  },
  {
   "cell_type": "markdown",
   "metadata": {},
   "source": [
    "**5. Write a program to append elements of various datatypes (total three elements 1 integer, 1 float and 1 string).**"
   ]
  },
  {
   "cell_type": "code",
   "execution_count": 33,
   "metadata": {},
   "outputs": [
    {
     "name": "stdout",
     "output_type": "stream",
     "text": [
      "[1, 1.2, 'abhijit']\n"
     ]
    }
   ],
   "source": [
    "x = 1\n",
    "y = 1.2\n",
    "z = 'abhijit'\n",
    "\n",
    "zz = []\n",
    "\n",
    "for i in x,y,z:\n",
    "    zz.append(i)\n",
    "print(zz)"
   ]
  },
  {
   "cell_type": "markdown",
   "metadata": {},
   "source": [
    "**6.Write a program to reverse a string input should be taken from the user.**"
   ]
  },
  {
   "cell_type": "code",
   "execution_count": 35,
   "metadata": {},
   "outputs": [
    {
     "name": "stdout",
     "output_type": "stream",
     "text": [
      "Enter a word:reverse\n",
      "esrever\n"
     ]
    }
   ],
   "source": [
    "a = input(\"Enter a word:\")\n",
    "\n",
    "print(a[::-1])"
   ]
  },
  {
   "cell_type": "markdown",
   "metadata": {},
   "source": [
    "**7.  Write a program to reverse a number input should be taken from the user.**"
   ]
  },
  {
   "cell_type": "code",
   "execution_count": 37,
   "metadata": {},
   "outputs": [
    {
     "name": "stdout",
     "output_type": "stream",
     "text": [
      "Enter a word:123456789\n",
      "987654321\n"
     ]
    }
   ],
   "source": [
    "a = int(input(\"Enter a word:\"))\n",
    "\n",
    "a = str(a)\n",
    "\n",
    "print(a[::-1])"
   ]
  },
  {
   "cell_type": "markdown",
   "metadata": {},
   "source": [
    "**8.  Write a program to find squares of even numbers in a list using list comprehension.**"
   ]
  },
  {
   "cell_type": "code",
   "execution_count": 38,
   "metadata": {},
   "outputs": [
    {
     "data": {
      "text/plain": [
       "[4, 16, 36, 64]"
      ]
     },
     "execution_count": 38,
     "metadata": {},
     "output_type": "execute_result"
    }
   ],
   "source": [
    "list4 = [1,2,3,4,5,6,7,8,9]\n",
    "\n",
    "squares = [n*n for n in list4 if n%2==0]\n",
    "\n",
    "squares"
   ]
  },
  {
   "cell_type": "markdown",
   "metadata": {},
   "source": [
    "**9.  Write a program to find squares of odd numbers in a list using list comprehension.**"
   ]
  },
  {
   "cell_type": "code",
   "execution_count": 39,
   "metadata": {},
   "outputs": [
    {
     "data": {
      "text/plain": [
       "[1, 9, 25, 49, 81]"
      ]
     },
     "execution_count": 39,
     "metadata": {},
     "output_type": "execute_result"
    }
   ],
   "source": [
    "list4 = [1,2,3,4,5,6,7,8,9]\n",
    "\n",
    "odds = [num*num for num in list4 if num%2!=0]\n",
    "odds"
   ]
  },
  {
   "cell_type": "markdown",
   "metadata": {},
   "source": [
    "**10. Find common numbers in 2 lists.**"
   ]
  },
  {
   "cell_type": "code",
   "execution_count": 42,
   "metadata": {},
   "outputs": [
    {
     "name": "stdout",
     "output_type": "stream",
     "text": [
      "[2, 3, 4]\n"
     ]
    }
   ],
   "source": [
    "list_a = [1, 2, 3, 4]\n",
    "list_b = [2, 3, 4, 5]\n",
    "\n",
    "common = [i for i in list_a for j in list_b if i==j]\n",
    "print(common)"
   ]
  }
 ],
 "metadata": {
  "kernelspec": {
   "display_name": "Python 3",
   "language": "python",
   "name": "python3"
  },
  "language_info": {
   "codemirror_mode": {
    "name": "ipython",
    "version": 3
   },
   "file_extension": ".py",
   "mimetype": "text/x-python",
   "name": "python",
   "nbconvert_exporter": "python",
   "pygments_lexer": "ipython3",
   "version": "3.7.4"
  }
 },
 "nbformat": 4,
 "nbformat_minor": 2
}
