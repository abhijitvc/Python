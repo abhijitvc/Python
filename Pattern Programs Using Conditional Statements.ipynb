{
 "cells": [
  {
   "cell_type": "code",
   "execution_count": 1,
   "metadata": {},
   "outputs": [
    {
     "name": "stdout",
     "output_type": "stream",
     "text": [
      "      *\n",
      "     *  *\n",
      "    *    * \n",
      "   ********\n",
      "  *        *\n",
      " *          *\n"
     ]
    }
   ],
   "source": [
    "#pattern for A\n",
    "for i in range(8):\n",
    "    if i==0:\n",
    "        print(' '*5,'*')\n",
    "    elif i==1:\n",
    "        print('   ',''*1,'*','','*')\n",
    "    elif i==2:\n",
    "        print('   ','*',' '*2,'*','')\n",
    "    elif i==3:\n",
    "        print(' '*2,'*'*8)\n",
    "    elif i==4:\n",
    "        print('  *',' '*6,'*')\n",
    "    elif i==5:\n",
    "        print(\" *\",' '*8,'*')"
   ]
  },
  {
   "cell_type": "code",
   "execution_count": 2,
   "metadata": {},
   "outputs": [
    {
     "name": "stdout",
     "output_type": "stream",
     "text": [
      "******\n",
      "*      *\n",
      "*      *\n",
      "********\n",
      "*      *\n",
      "*      *\n",
      "******\n"
     ]
    }
   ],
   "source": [
    "#pattern for B\n",
    "\n",
    "for i in range(8):\n",
    "    if i==0:\n",
    "        print('*'*6)\n",
    "    elif i in (2,3):\n",
    "        print('*',' '*4,'*')\n",
    "    elif i==4:\n",
    "        print('*'*8)\n",
    "    elif i in(5,6):\n",
    "        print('*',' '*4,'*')\n",
    "    elif i==7:\n",
    "        print('*'*6)"
   ]
  },
  {
   "cell_type": "code",
   "execution_count": 3,
   "metadata": {},
   "outputs": [
    {
     "name": "stdout",
     "output_type": "stream",
     "text": [
      "  ********\n",
      "*\n",
      "*\n",
      "*\n",
      "*\n",
      "*\n",
      "  ********\n"
     ]
    }
   ],
   "source": [
    "#pattern for C\n",
    "\n",
    "for i in range(8):\n",
    "    if i==0:\n",
    "        print(' ','*'*8)\n",
    "    elif i in (2,3,4,5,6):\n",
    "        print('*')\n",
    "    elif i==7:\n",
    "        print(' ','*'*8)"
   ]
  },
  {
   "cell_type": "code",
   "execution_count": 4,
   "metadata": {},
   "outputs": [
    {
     "name": "stdout",
     "output_type": "stream",
     "text": [
      "********\n",
      "*      *\n",
      "*      *\n",
      "*      *\n",
      "*      *\n",
      "*      *\n",
      "********\n"
     ]
    }
   ],
   "source": [
    "#pattern for D\n",
    "\n",
    "for i in range(8):\n",
    "    if i==0:\n",
    "        print('*'*8)\n",
    "    elif i in (2,3,4,5,6):\n",
    "        print('*',' '*4,'*')\n",
    "    elif i==7:\n",
    "        print('*'*8)"
   ]
  },
  {
   "cell_type": "code",
   "execution_count": 5,
   "metadata": {},
   "outputs": [
    {
     "name": "stdout",
     "output_type": "stream",
     "text": [
      "*******\n",
      "*      *\n",
      "*      *\n",
      "*      *\n",
      "*      *\n",
      "*      *\n",
      "*******\n"
     ]
    }
   ],
   "source": [
    "#pattern for D, curved edges\n",
    "\n",
    "for i in range(8):\n",
    "    if i==0:\n",
    "        print('*'*7)\n",
    "    elif i in (2,3,4,5,6):\n",
    "        print('*',' '*4,'*')\n",
    "    elif i==7:\n",
    "        print('*'*7)"
   ]
  },
  {
   "cell_type": "code",
   "execution_count": 6,
   "metadata": {},
   "outputs": [
    {
     "name": "stdout",
     "output_type": "stream",
     "text": [
      "********\n",
      "*\n",
      "*\n",
      "********\n",
      "*\n",
      "*\n",
      "********\n"
     ]
    }
   ],
   "source": [
    "#pattern for E\n",
    "\n",
    "for i in range(8):\n",
    "    if i==0:\n",
    "        print('*'*8)\n",
    "    elif i in (2,3):\n",
    "        print('*')\n",
    "    elif i==4:\n",
    "        print('*'*8)\n",
    "    elif i in(5,6):\n",
    "        print('*')\n",
    "    elif i==7:\n",
    "        print('*'*8)"
   ]
  },
  {
   "cell_type": "code",
   "execution_count": 7,
   "metadata": {},
   "outputs": [
    {
     "name": "stdout",
     "output_type": "stream",
     "text": [
      "********\n",
      "*\n",
      "*\n",
      "********\n",
      "*\n",
      "*\n",
      "*\n"
     ]
    }
   ],
   "source": [
    "#pattern for F\n",
    "\n",
    "for i in range(8):\n",
    "    if i==0:\n",
    "        print('*'*8)\n",
    "    elif i in (2,3):\n",
    "        print('*')\n",
    "    elif i==4:\n",
    "        print('*'*8)\n",
    "    elif i in(5,6):\n",
    "        print('*')\n",
    "    elif i==7:\n",
    "        print('*')"
   ]
  },
  {
   "cell_type": "code",
   "execution_count": 8,
   "metadata": {},
   "outputs": [
    {
     "name": "stdout",
     "output_type": "stream",
     "text": [
      "********\n",
      "*\n",
      "*\n",
      "********\n",
      "*      *\n",
      "*      *\n",
      "********\n"
     ]
    }
   ],
   "source": [
    "#pattern for G\n",
    "\n",
    "for i in range(8):\n",
    "    if i==0:\n",
    "        print('*'*8)\n",
    "    elif i in (2,3):\n",
    "        print('*')\n",
    "    elif i==4:\n",
    "        print('*'*8)\n",
    "    elif i in(5,6):\n",
    "        print('*',' '*4,'*')\n",
    "    elif i==7:\n",
    "        print('*'*8)"
   ]
  },
  {
   "cell_type": "code",
   "execution_count": 9,
   "metadata": {},
   "outputs": [
    {
     "name": "stdout",
     "output_type": "stream",
     "text": [
      "********\n",
      "*\n",
      "*\n",
      "*   ****\n",
      "*      *\n",
      "*      *\n",
      "********\n"
     ]
    }
   ],
   "source": [
    "#pattern for G\n",
    "\n",
    "for i in range(8):\n",
    "    if i==0:\n",
    "        print('*'*8)\n",
    "    elif i in (2,3):\n",
    "        print('*')\n",
    "    elif i==4:\n",
    "        print('*',' '*1,'*'*4)\n",
    "    elif i in(5,6):\n",
    "        print('*',' '*4,'*')\n",
    "    elif i==7:\n",
    "        print('*'*8)"
   ]
  },
  {
   "cell_type": "code",
   "execution_count": 10,
   "metadata": {},
   "outputs": [
    {
     "name": "stdout",
     "output_type": "stream",
     "text": [
      "*      *\n",
      "*      *\n",
      "*      *\n",
      "********\n",
      "*      *\n",
      "*      *\n",
      "*      *\n"
     ]
    }
   ],
   "source": [
    "#pattern for H\n",
    "\n",
    "for i in range(8):\n",
    "    if i==0:\n",
    "        print('*',' '*4,'*')\n",
    "    elif i in (2,3):\n",
    "        print('*',' '*4,'*')\n",
    "    elif i==4:\n",
    "        print('*'*8)\n",
    "    elif i in(5,6):\n",
    "        print('*',' '*4,'*')\n",
    "    elif i==7:\n",
    "        print('*',' '*4,'*')"
   ]
  },
  {
   "cell_type": "code",
   "execution_count": 11,
   "metadata": {},
   "outputs": [
    {
     "name": "stdout",
     "output_type": "stream",
     "text": [
      "*********\n",
      "    *    \n",
      "    *    \n",
      "    *    \n",
      "    *    \n",
      "    *    \n",
      "*********\n"
     ]
    }
   ],
   "source": [
    "#pattern for I\n",
    "\n",
    "for i in range(8):\n",
    "    if i==0:\n",
    "        print('*'*9)\n",
    "    elif i in (2,3,4,5,6):\n",
    "        print(' '*3,'*',' '*3)\n",
    "    elif i==7:\n",
    "        print('*'*9)"
   ]
  },
  {
   "cell_type": "code",
   "execution_count": 12,
   "metadata": {},
   "outputs": [
    {
     "name": "stdout",
     "output_type": "stream",
     "text": [
      "*********\n",
      "    *    \n",
      "    *    \n",
      "    *    \n",
      "    *    \n",
      "*   *\n",
      "  ***\n"
     ]
    }
   ],
   "source": [
    "#pattern for J\n",
    "\n",
    "for i in range(8):\n",
    "    if i==0:\n",
    "        print('*'*9)\n",
    "    elif i in (2,3,4,5):\n",
    "        print(' '*3,'*',' '*3)\n",
    "    elif i ==6:\n",
    "        print('*',' '*1,'*')\n",
    "    elif i==7:\n",
    "        print(' ','*'*3)"
   ]
  },
  {
   "cell_type": "code",
   "execution_count": 13,
   "metadata": {},
   "outputs": [
    {
     "name": "stdout",
     "output_type": "stream",
     "text": [
      "*      *\n",
      "*     *\n",
      "*    *\n",
      "*   *\n",
      "****\n",
      "*   *\n",
      "*    *\n",
      "*     *\n",
      "*      *\n"
     ]
    }
   ],
   "source": [
    "#pattern for K\n",
    "\n",
    "for i in range(9):\n",
    "    if i==0:\n",
    "        print('*',' '*4,'*')\n",
    "    elif i==1:\n",
    "        print('*',' '*3,'*')\n",
    "    elif i==2:\n",
    "        print('*',' '*2,'*')\n",
    "    elif i ==3:\n",
    "        print('*',' '*1,'*')\n",
    "    elif i==4:\n",
    "        print('*'*4)\n",
    "    elif i==5:\n",
    "        print('*',' '*1,'*')\n",
    "    elif i==6:\n",
    "        print('*',' '*2,'*')\n",
    "    elif i==7:\n",
    "        print('*',' '*3,'*')\n",
    "    elif i==8:\n",
    "        print('*',' '*4,'*')"
   ]
  },
  {
   "cell_type": "code",
   "execution_count": 14,
   "metadata": {},
   "outputs": [
    {
     "name": "stdout",
     "output_type": "stream",
     "text": [
      "*\n",
      "*\n",
      "*\n",
      "*\n",
      "*\n",
      "*\n",
      "********\n"
     ]
    }
   ],
   "source": [
    "#pattern for L\n",
    "\n",
    "for i in range(8):\n",
    "    if i==0:\n",
    "        print('*')\n",
    "    elif i in (2,3,4,5,6):\n",
    "        print('*')\n",
    "    elif i==7:\n",
    "        print('*'*8)"
   ]
  },
  {
   "cell_type": "code",
   "execution_count": 15,
   "metadata": {},
   "outputs": [
    {
     "name": "stdout",
     "output_type": "stream",
     "text": [
      "**            **\n",
      "* *          * *\n",
      "*   *       *  *\n",
      "*    *    *    *\n",
      "*     * *      *\n",
      "*      *       *\n"
     ]
    }
   ],
   "source": [
    "#pattern for N\n",
    "\n",
    "for i in range(9):\n",
    "    if i ==0:\n",
    "        print('**',' '*10,'**')\n",
    "    elif i==1:\n",
    "        print('*','*',' '*8,'*','*')\n",
    "    elif i==2:\n",
    "        print('*',' '*1,'*',' '*4,'','*','','*')\n",
    "    elif i==3:\n",
    "        print('*',' '*2,'*',' '*2,'*','  ','*')\n",
    "    elif i==4:\n",
    "        print('*',' '*3,'*','*',' '*4,'*')\n",
    "    elif i==5:\n",
    "        print('*',' '*4,'*',' '*5,'*')"
   ]
  },
  {
   "cell_type": "code",
   "execution_count": 16,
   "metadata": {},
   "outputs": [
    {
     "name": "stdout",
     "output_type": "stream",
     "text": [
      "  ***** \n",
      "*       *\n",
      "*       *\n",
      "*       *\n",
      "*       *\n",
      "*       *\n",
      "  ***** \n"
     ]
    }
   ],
   "source": [
    "#pattern for O\n",
    "\n",
    "for i in range(8):\n",
    "    if i==0:\n",
    "        print(' ','*'*5,'')\n",
    "    elif i in (2,3,4,5,6):\n",
    "        print('*',' '*5,'*')\n",
    "    elif i==7:\n",
    "        print(' ','*'*5,'')"
   ]
  },
  {
   "cell_type": "code",
   "execution_count": 17,
   "metadata": {},
   "outputs": [
    {
     "name": "stdout",
     "output_type": "stream",
     "text": [
      "*******\n",
      "*      *\n",
      "*      *\n",
      "*******\n",
      "*\n",
      "*\n",
      "*\n"
     ]
    }
   ],
   "source": [
    "#pattern for P\n",
    "\n",
    "for i in range(8):\n",
    "    if i==0:\n",
    "        print('*'*7)\n",
    "    elif i in (2,3):\n",
    "        print('*',' '*4,'*')\n",
    "    elif i==4:\n",
    "        print('*'*7)\n",
    "    elif i in(5,6):\n",
    "        print('*')\n",
    "    elif i==7:\n",
    "        print('*')"
   ]
  },
  {
   "cell_type": "code",
   "execution_count": 18,
   "metadata": {},
   "outputs": [
    {
     "name": "stdout",
     "output_type": "stream",
     "text": [
      "  ***** \n",
      "*       *\n",
      "*       *\n",
      "*       *\n",
      "*       *\n",
      "*       *\n",
      "  ****** \n",
      "         *\n",
      "          *\n"
     ]
    }
   ],
   "source": [
    "#pattern for Q\n",
    "\n",
    "for i in range(10):\n",
    "    if i==0:\n",
    "        print(' ','*'*5,'')\n",
    "    elif i in (2,3,4,5,6):\n",
    "        print('*',' '*5,'*')\n",
    "    elif i==7:\n",
    "        print(' ','*'*6,'')\n",
    "    elif i==8:\n",
    "        print(' '*8,'*')\n",
    "    elif i==9:\n",
    "        print(' '*9,'*')"
   ]
  },
  {
   "cell_type": "code",
   "execution_count": 19,
   "metadata": {},
   "outputs": [
    {
     "name": "stdout",
     "output_type": "stream",
     "text": [
      "*********\n",
      "*       *\n",
      "*       *\n",
      "*       *\n",
      "*********\n",
      "*   *\n",
      "*     *\n",
      "*      *\n",
      "*       *\n"
     ]
    }
   ],
   "source": [
    "#pattern for R\n",
    "\n",
    "for i in range(9):\n",
    "    if i==0:\n",
    "        print('*'*9)\n",
    "    elif i==1:\n",
    "        print('*',' '*5,'*')\n",
    "    elif i==2:\n",
    "        print('*',' '*5,'*')\n",
    "    elif i ==3:\n",
    "        print('*',' '*5,'*')\n",
    "    elif i==4:\n",
    "        print('*'*9)\n",
    "    elif i==5:\n",
    "        print('*   *')\n",
    "    elif i==6:\n",
    "        print('*     *')\n",
    "    elif i==7:\n",
    "        print('*      *')\n",
    "    elif i==8:\n",
    "        print('*',' '*5,'*')"
   ]
  },
  {
   "cell_type": "code",
   "execution_count": 20,
   "metadata": {},
   "outputs": [
    {
     "name": "stdout",
     "output_type": "stream",
     "text": [
      "********\n",
      "*\n",
      "*\n",
      "********\n",
      "       *\n",
      "       *\n",
      "********\n"
     ]
    }
   ],
   "source": [
    "#pattern for S\n",
    "\n",
    "for i in range(8):\n",
    "    if i==0:\n",
    "        print('*'*8)\n",
    "    elif i in (2,3):\n",
    "        print('*')\n",
    "    elif i==4:\n",
    "        print('*'*8)\n",
    "    elif i in(5,6):\n",
    "        print(' '*6,'*')\n",
    "    elif i==7:\n",
    "        print('*'*8)"
   ]
  },
  {
   "cell_type": "code",
   "execution_count": 21,
   "metadata": {},
   "outputs": [
    {
     "name": "stdout",
     "output_type": "stream",
     "text": [
      "*********\n",
      "    *    \n",
      "    *    \n",
      "    *    \n",
      "    *    \n",
      "    *    \n",
      "    *    \n"
     ]
    }
   ],
   "source": [
    "#pattern for T\n",
    "\n",
    "for i in range(8):\n",
    "    if i==0:\n",
    "        print('*'*9)\n",
    "    elif i in (2,3,4,5,6,7):\n",
    "        print(' '*3,'*',' '*3)"
   ]
  },
  {
   "cell_type": "code",
   "execution_count": 22,
   "metadata": {},
   "outputs": [
    {
     "name": "stdout",
     "output_type": "stream",
     "text": [
      "*       *\n",
      "*       *\n",
      "*       *\n",
      "*       *\n",
      "*       *\n",
      "*       *\n",
      "  ***** \n"
     ]
    }
   ],
   "source": [
    "#pattern for U\n",
    "\n",
    "for i in range(8):\n",
    "    if i==0:\n",
    "        print('*',' '*5,'*')\n",
    "    elif i in (2,3,4,5,6):\n",
    "        print('*',' '*5,'*')\n",
    "    elif i==7:\n",
    "        print(' ','*'*5,'')"
   ]
  },
  {
   "cell_type": "code",
   "execution_count": 23,
   "metadata": {},
   "outputs": [
    {
     "name": "stdout",
     "output_type": "stream",
     "text": [
      " *            * \n",
      "  *          *  \n",
      "    *       *    \n",
      "     *    *\n",
      "       * *\n",
      "        *\n"
     ]
    }
   ],
   "source": [
    "#pattern for V\n",
    "\n",
    "for i in range(9):\n",
    "    if i ==0:\n",
    "        print('','*',' '*10,'*','')\n",
    "    elif i==1:\n",
    "        print(' ','*',' '*8,'*',' ')\n",
    "    elif i==2:\n",
    "        print(' ',' '*1,'*',' '*4,'','*','','  ')\n",
    "    elif i==3:\n",
    "        print(' ',' '*2,'*',' '*2,'*')\n",
    "    elif i==4:\n",
    "        print('  ',' '*3,'*','*')\n",
    "    elif i==5:\n",
    "        print(' '*7,'*')"
   ]
  },
  {
   "cell_type": "code",
   "execution_count": 24,
   "metadata": {},
   "outputs": [
    {
     "name": "stdout",
     "output_type": "stream",
     "text": [
      " *            *            *\n",
      "  *          *  *         *\n",
      "    *      *      *      *\n",
      "     *    *        *   *\n",
      "       * *          *  *\n",
      "        *             *\n"
     ]
    }
   ],
   "source": [
    "for i in range(9):\n",
    "    if i ==0:\n",
    "        print('','*',' '*10,'*',' '*10,'*')\n",
    "    elif i==1:\n",
    "        print(' ','*',' '*8,'* ','*',' '*7,'*')\n",
    "    elif i==2:\n",
    "        print(' ',' '*1,'*',' '*3,'','*',' '*4,'*      *')\n",
    "    elif i==3:\n",
    "        print(' ',' '*2,'*',' '*2,'*',' '*6,'*   *')\n",
    "    elif i==4:\n",
    "        print('  ',' '*3,'*','*',' '*8,'*  *')\n",
    "    elif i==5:\n",
    "        print(' '*7,'*',' '*11,'*')"
   ]
  },
  {
   "cell_type": "code",
   "execution_count": null,
   "metadata": {},
   "outputs": [],
   "source": []
  }
 ],
 "metadata": {
  "kernelspec": {
   "display_name": "Python 3",
   "language": "python",
   "name": "python3"
  },
  "language_info": {
   "codemirror_mode": {
    "name": "ipython",
    "version": 3
   },
   "file_extension": ".py",
   "mimetype": "text/x-python",
   "name": "python",
   "nbconvert_exporter": "python",
   "pygments_lexer": "ipython3",
   "version": "3.7.4"
  }
 },
 "nbformat": 4,
 "nbformat_minor": 2
}
