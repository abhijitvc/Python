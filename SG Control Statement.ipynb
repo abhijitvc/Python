{
 "cells": [
  {
   "cell_type": "markdown",
   "metadata": {},
   "source": [
    "### Q.1 Take values of length and breadth of a rectangle from user and check if it is square or not."
   ]
  },
  {
   "cell_type": "code",
   "execution_count": 6,
   "metadata": {},
   "outputs": [
    {
     "name": "stdout",
     "output_type": "stream",
     "text": [
      "Enter the length of the rectangle :4\n",
      "Enter the breath of the rectangle :6\n",
      "Rectangle\n"
     ]
    }
   ],
   "source": [
    "l = int(input('Enter the length of the rectangle :'))\n",
    "b = int(input('Enter the breath of the rectangle :'))\n",
    "if l == b:\n",
    "    print('Square')\n",
    "else:\n",
    "    print('Rectangle')"
   ]
  },
  {
   "cell_type": "markdown",
   "metadata": {},
   "source": [
    "### Q.2 Take 3 integer values from user and print greatest among them."
   ]
  },
  {
   "cell_type": "code",
   "execution_count": 7,
   "metadata": {},
   "outputs": [
    {
     "name": "stdout",
     "output_type": "stream",
     "text": [
      "Enter the n1 :256\n",
      "Enter the n2 :128\n",
      "Enter the n3:64\n",
      "This is largest 256\n"
     ]
    }
   ],
   "source": [
    "a = int(input('Enter the n1 :'))\n",
    "b = int(input('Enter the n2 :'))\n",
    "c = int(input('Enter the n3:'))\n",
    "if a > b > c:\n",
    "    print('This is largest',a)\n",
    "elif b > c > a:\n",
    "    print('This is largest',b)\n",
    "else:\n",
    "    print('This is largest',c)    "
   ]
  },
  {
   "cell_type": "markdown",
   "metadata": {},
   "source": [
    "### Q.3 A shop will give discount of 10% if the cost of purchased quantity is more than 1000. Ask user for quantity Suppose, one unit will cost 100. Judge and print total cost for user."
   ]
  },
  {
   "cell_type": "code",
   "execution_count": 13,
   "metadata": {},
   "outputs": [
    {
     "name": "stdout",
     "output_type": "stream",
     "text": [
      "Enter the quantity :9\n",
      "Cost of single quantity :10\n",
      "Discount not applicable and total amount payable is 90\n"
     ]
    }
   ],
   "source": [
    "a = int(input('Enter the quantity :'))\n",
    "b = int(input('Cost of single quantity :'))\n",
    "cost = a * b\n",
    "dis = cost * 0.1\n",
    "if cost > 1000:\n",
    "    cost = cost - dis \n",
    "    print('Discount applicable 10 % and amount payable is',cost)\n",
    "else:\n",
    "    print('Discount not applicable and total amount payable is',cost)"
   ]
  },
  {
   "cell_type": "markdown",
   "metadata": {},
   "source": [
    "### Q.4 A company decided to give bonus of 5% to employee if his/her year of service is more than 5 years. Ask user for their salary and year of service and print the net bonus amount."
   ]
  },
  {
   "cell_type": "code",
   "execution_count": 18,
   "metadata": {},
   "outputs": [
    {
     "name": "stdout",
     "output_type": "stream",
     "text": [
      "Enter your salary :75000\n",
      "Enter your years of service :10\n",
      "Bonus is applicable and bonus amount is 3750.0\n"
     ]
    }
   ],
   "source": [
    "sal = eval(input('Enter your salary :'))\n",
    "yr = eval(input('Enter your years of service :'))\n",
    "\n",
    "if yr > 5:\n",
    "    bonus = (sal * 0.05)\n",
    "    print('Bonus is applicable and bonus amount is {}'.format(bonus))\n",
    "else:\n",
    "    print('Bonus not applicable')"
   ]
  },
  {
   "cell_type": "markdown",
   "metadata": {},
   "source": [
    "### Q.5 Take input of age of 3 people by user and determine oldest and youngest among them."
   ]
  },
  {
   "cell_type": "code",
   "execution_count": 19,
   "metadata": {},
   "outputs": [
    {
     "name": "stdout",
     "output_type": "stream",
     "text": [
      "Enter the age of a :5\n",
      "Enter the age of b :41\n",
      "Enter the age of c :43\n",
      "The Oldest among them is 43 and the youngest among them is 5\n"
     ]
    }
   ],
   "source": [
    "a = int(input('Enter the age of a :'))\n",
    "b = int(input('Enter the age of b :'))\n",
    "c = int(input('Enter the age of c :'))\n",
    "if a > b > c:\n",
    "    print('The Oldest among them is {} and the youngest among them is {}'.format(a,c))\n",
    "elif b > a > c:\n",
    "    print('The Oldest among them is {} and the youngest among them is {}'.format(b,c))\n",
    "else:\n",
    "    print('The Oldest among them is {} and the youngest among them is {}'.format(c,a))    "
   ]
  },
  {
   "cell_type": "markdown",
   "metadata": {},
   "source": [
    "### Q.6 Write a program to check if a year is leap year or not. If a year is divisible by 4 then it is leap year but if the year is century year like 2000, 1900, 2100 then it must be divisible by 400."
   ]
  },
  {
   "cell_type": "code",
   "execution_count": 21,
   "metadata": {},
   "outputs": [
    {
     "name": "stdout",
     "output_type": "stream",
     "text": [
      "Enter the year of your choice :2020\n",
      "Its a leap year.\n"
     ]
    }
   ],
   "source": [
    "yr = int(input('Enter the year of your choice :'))\n",
    "if yr % 4 == 0 or yr % 400 == 0:\n",
    "    print('Its a leap year.')\n",
    "else:\n",
    "    print('Not a leap year.')"
   ]
  },
  {
   "cell_type": "markdown",
   "metadata": {},
   "source": [
    "### Q.7 Write a program that consists of at least ten lines, each of which has a logical statement on it. The output of your program should be 5 True and 5 False."
   ]
  },
  {
   "cell_type": "code",
   "execution_count": null,
   "metadata": {},
   "outputs": [],
   "source": [
    "a = int(input('Enter a number :'))\n",
    "n = int(input('Enter another number :'))\n",
    "if n == 1 & n < a:\n",
    "    print('True')\n",
    "elif n == 2 & n < a:\n",
    "    print('True')\n",
    "elif n == 3 & n < a:\n",
    "    print('True')\n",
    "elif n == 4 & n < a:\n",
    "    print('True')\n",
    "elif n == 5 & n < a:\n",
    "    print('True')\n",
    "elif n == 6 or n < a:\n",
    "    print('False')\n",
    "elif n == 7 or n < a:\n",
    "    print('False')\n",
    "elif n == 8 or n < a:\n",
    "    print('False')\n",
    "elif n == 9 or n < a:\n",
    "    print('False')\n",
    "elif n == 10 or n < a:\n",
    "    print('False')\n",
    "    "
   ]
  },
  {
   "cell_type": "markdown",
   "metadata": {},
   "source": [
    "### Q.8 Write a Python program to get a number from the user and print whether it is positive or negative."
   ]
  },
  {
   "cell_type": "code",
   "execution_count": 22,
   "metadata": {},
   "outputs": [
    {
     "name": "stdout",
     "output_type": "stream",
     "text": [
      "Enter a number :256\n",
      "Positive\n"
     ]
    }
   ],
   "source": [
    "a = int(input('Enter a number :'))\n",
    "if a < 0:\n",
    "    print('Negative')\n",
    "else:\n",
    "    print('Positive')      "
   ]
  },
  {
   "cell_type": "markdown",
   "metadata": {},
   "source": [
    "### Q.9 Write a program to solve quadratic equations (use if, else if and else)."
   ]
  },
  {
   "cell_type": "code",
   "execution_count": null,
   "metadata": {},
   "outputs": [],
   "source": [
    "import numpy as np\n",
    "print(\"Enter 'x' for exit.\")\n",
    "num1 = float(input(\"Enter value of a: \"))\n",
    "if num1 == type('x'):\n",
    "    exit();\n",
    "else:\n",
    "    num2 = float(input(\"Enter value of b: \"))\n",
    "    num3 = float(input(\"Enter value of c: \"))\n",
    "    d = (num2 ** 2 ) - ( 4 * num1 * num3 )\n",
    "    r1 = (-num2-np.sqrt(d)) / (2*num1)\n",
    "    r2 = (-num2+np.sqrt(d)) / (2*num1)\n",
    "    print(\"The solutions = {0} and {1}\" .format(r1,r2))"
   ]
  },
  {
   "cell_type": "markdown",
   "metadata": {},
   "source": [
    "### Q.10 Write a program that reads a floating-point number and prints \"zero\" if the number is zero. Otherwise, print \"positive\" or \"negative\". Add \"small\" if the absolute value of the number is less than 1, or \"large\" if it exceeds 1,000,000."
   ]
  },
  {
   "cell_type": "code",
   "execution_count": 26,
   "metadata": {},
   "outputs": [
    {
     "name": "stdout",
     "output_type": "stream",
     "text": [
      "Enter a number :-1\n",
      "Negative\n"
     ]
    }
   ],
   "source": [
    "n = float(input('Enter a number :'))\n",
    "if n == 0:\n",
    "    print('Zero')\n",
    "elif n < 0:\n",
    "    print('Negative')\n",
    "else:\n",
    "    if n < 1:\n",
    "        print('Positive and small')\n",
    "    elif n > 1000000:\n",
    "        print('Positive and large')\n",
    "    else:\n",
    "        print('Positive')"
   ]
  },
  {
   "cell_type": "markdown",
   "metadata": {},
   "source": [
    "### Q.11 Write a program that keeps a number from the user and generates an integer between 1 and 7 and displays the name of the weekday."
   ]
  },
  {
   "cell_type": "code",
   "execution_count": 29,
   "metadata": {},
   "outputs": [
    {
     "name": "stdout",
     "output_type": "stream",
     "text": [
      "Enter the number :2\n",
      "Tuesday\n"
     ]
    }
   ],
   "source": [
    "i = int(input('Enter the number :')) \n",
    "if i == 1:\n",
    "    print('Monday')\n",
    "elif i == 2:\n",
    "    print('Tuesday')\n",
    "elif i == 3:\n",
    "    print('Wednesday')\n",
    "elif i == 4:\n",
    "    print('Thursday')\n",
    "elif i == 5:\n",
    "    print('Friday')\n",
    "elif i == 6:\n",
    "    print('Saturday')\n",
    "elif i == 7:\n",
    "    print('Sunday')"
   ]
  },
  {
   "cell_type": "markdown",
   "metadata": {},
   "source": [
    "### Q.12 Write a program that takes the user to provide a single character from the alphabet. Print Vowel or Consonant, depending on the user input. If the user input is not a letter (between a and z or A and Z), or is a string of length > 1, print an error message."
   ]
  },
  {
   "cell_type": "code",
   "execution_count": 38,
   "metadata": {},
   "outputs": [
    {
     "name": "stdout",
     "output_type": "stream",
     "text": [
      "Enter an alphabet:tt\n",
      "Error: Please enter a single alphablet.\n"
     ]
    }
   ],
   "source": [
    "a = input('Enter an alphabet:')\n",
    "b = 'ABCDEFGHIJKLMNOPQRSTUVWXYZabcdefghijklmnopqrstuvwxyz'\n",
    "v = 'aeiou'\n",
    "if a in b and a in v:\n",
    "    print(a, 'is a vowel.')\n",
    "elif a in b and a not in v:\n",
    "    print(a, 'is a consonant.')\n",
    "else:\n",
    "    print('Error: Please enter a single alphablet.')"
   ]
  },
  {
   "cell_type": "markdown",
   "metadata": {},
   "source": [
    "### Q.13 Write a program that accepts three numbers from the user and prints \"increasing\" if the numbers are in increasing order, \"decreasing\" if the numbers are in decreasing order, and \"Neither increasing nor decreasing order\" otherwise."
   ]
  },
  {
   "cell_type": "code",
   "execution_count": 45,
   "metadata": {},
   "outputs": [
    {
     "name": "stdout",
     "output_type": "stream",
     "text": [
      "Enter the no1 :111\n",
      "Enter the no2 :1112\n",
      "Enter the no3 :11123\n",
      "The numbers are in an increasing order 111 < 1112 < 11123\n"
     ]
    }
   ],
   "source": [
    "a = int(input('Enter the no1 :'))\n",
    "b = int(input('Enter the no2 :'))\n",
    "c = int(input('Enter the no3 :'))\n",
    "if a > b > c:\n",
    "    print('The numbers are in a decreasing order {} > {} > {}'.format(a,b,c))\n",
    "elif c > b > a:\n",
    "    print('The numbers are in an increasing order {} < {} < {}'.format(a,b,c))\n",
    "else:\n",
    "    print('The numbers are neither in a increasing nor decreasing order.')"
   ]
  },
  {
   "cell_type": "markdown",
   "metadata": {},
   "source": [
    "### Q.14 Write a program to check whether triangle is equilateral, scalene or isosceles."
   ]
  },
  {
   "cell_type": "code",
   "execution_count": 47,
   "metadata": {},
   "outputs": [
    {
     "name": "stdout",
     "output_type": "stream",
     "text": [
      "Enter first side of the triangle :60\n",
      "Enter second side of the triangle :60\n",
      "Enter third side of the triangle :60\n",
      "Triangle is a equilateral triangle\n"
     ]
    }
   ],
   "source": [
    "a = int(input('Enter first side of the triangle :'))\n",
    "b = int(input('Enter second side of the triangle :'))\n",
    "c = int(input('Enter third side of the triangle :'))\n",
    "if a == b == c:\n",
    "    print(\"Triangle is a equilateral triangle\")\n",
    "elif a == b or b == c or c == a:\n",
    "    print(\"Triangle is a isoceles triangle\")\n",
    "else:\n",
    "    print('Triangle is a scalene triangle')"
   ]
  },
  {
   "cell_type": "markdown",
   "metadata": {},
   "source": [
    "### Q.15 Write a program to enter basic salary and calculate gross salary of an employee.   "
   ]
  },
  {
   "cell_type": "code",
   "execution_count": 48,
   "metadata": {},
   "outputs": [
    {
     "name": "stdout",
     "output_type": "stream",
     "text": [
      "Enter basic salary :50000\n",
      "The total salary of the employee is : 61000.0\n"
     ]
    }
   ],
   "source": [
    "bas = float(input('Enter basic salary :'))\n",
    "da = (10 * bas) / 100\n",
    "ta = (12 * bas) / 100\n",
    "total = float(bas + da + ta)\n",
    "print('The total salary of the employee is :',total)"
   ]
  },
  {
   "cell_type": "markdown",
   "metadata": {},
   "source": [
    "### Q.16 Write a python program to input electricity unit charge and calculate the total electricity bill according to the given condition: For first 50 units Rs. 0.50/unit For next 100 units Rs. 0.75/unit For next 100 units Rs. 1.20/unit For unit above 250 Rs. 1.50/unit An additional surcharge of 20% is added to the bill."
   ]
  },
  {
   "cell_type": "code",
   "execution_count": 5,
   "metadata": {},
   "outputs": [
    {
     "name": "stdout",
     "output_type": "stream",
     "text": [
      "Enter the no of units:1000\n",
      "A bill amount of 1800.0 has to be paid and 300.0 is the additional surcharge applied.\n"
     ]
    }
   ],
   "source": [
    "u = int(input('Enter the no of units:'))\n",
    "n = 0.50\n",
    "extra = 0.00\n",
    "if u in range(0,50):\n",
    "    n = 0.50\n",
    "    bill = u * n\n",
    "    \n",
    "elif u in range(50,150):\n",
    "    n = 0.75\n",
    "    bill = u * n\n",
    "\n",
    "elif u in range(150,250):\n",
    "    n = 1.20\n",
    "    bill = u * n\n",
    "else:\n",
    "    n = 1.50\n",
    "    bill = u * n\n",
    "    extra = (bill * 20/100)\n",
    "    bill = bill + extra\n",
    "\n",
    "print('A bill amount of {} has to be paid and {} is the additional surcharge applied.'.format(bill,extra))"
   ]
  }
 ],
 "metadata": {
  "kernelspec": {
   "display_name": "Python 3",
   "language": "python",
   "name": "python3"
  },
  "language_info": {
   "codemirror_mode": {
    "name": "ipython",
    "version": 3
   },
   "file_extension": ".py",
   "mimetype": "text/x-python",
   "name": "python",
   "nbconvert_exporter": "python",
   "pygments_lexer": "ipython3",
   "version": "3.7.4"
  }
 },
 "nbformat": 4,
 "nbformat_minor": 2
}
