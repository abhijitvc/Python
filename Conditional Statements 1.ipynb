{
 "cells": [
  {
   "cell_type": "code",
   "execution_count": 35,
   "metadata": {
    "scrolled": true
   },
   "outputs": [
    {
     "name": "stdout",
     "output_type": "stream",
     "text": [
      "Enter length: \n",
      "12\n",
      "Enter breadth: \n",
      "12\n",
      "Yes, it is a square.\n"
     ]
    }
   ],
   "source": [
    "#Q.1 Take values of length and breadth of a rectangle from user and check if it is square or not.\n",
    "\n",
    "print(\"Enter length: \")\n",
    "length = input()\n",
    "print(\"Enter breadth: \")\n",
    "breadth = input()\n",
    "if length == breadth:\n",
    "    print(\"Yes, it is a square.\")\n",
    "else:\n",
    "    print(\"No, it is a rectangle.\")"
   ]
  },
  {
   "cell_type": "code",
   "execution_count": 33,
   "metadata": {},
   "outputs": [
    {
     "name": "stdout",
     "output_type": "stream",
     "text": [
      "Enter value: 50\n",
      "50\n",
      "Enter value: 25\n",
      "25\n",
      "Enter value: 69\n",
      "69\n",
      "int3 is greatest\n"
     ]
    }
   ],
   "source": [
    "#Q.2 Take 3 integer values from user and print greatest among them.\n",
    "\n",
    "int1 = input(\"Enter value: \")\n",
    "print(int1)\n",
    "int2 = input(\"Enter value: \")\n",
    "print(int2)\n",
    "int3 = input(\"Enter value: \")\n",
    "print(int3)\n",
    "if int1>int2 and int1>int3:\n",
    "    print(\"int1 is greatest\")\n",
    "    if int2>int1 and int2>int3:\n",
    "        print(\"int2 is the greatest\")\n",
    "else:\n",
    "    print(\"int3 is greatest\")"
   ]
  },
  {
   "cell_type": "code",
   "execution_count": 32,
   "metadata": {},
   "outputs": [
    {
     "name": "stdout",
     "output_type": "stream",
     "text": [
      "Enter total quantity20\n",
      "You will get a total discount of 200.0 and the total cost is: 1800.0\n"
     ]
    }
   ],
   "source": [
    "#3.  Q.3 A shop will give discount of 10% if the cost of purchased quantity is more than 1000.\n",
    "#a.  Ask user for quantity\n",
    "#b.  Suppose, one unit will cost 100.\n",
    "#c.  Judge and print total cost for user.\n",
    "\n",
    "q = int(input(\"Enter total quantity\"))\n",
    "p = q*100\n",
    "if p>1000:\n",
    "    d = 0.1*p #d = discount\n",
    "    t = p-d #t = total cost\n",
    "    print(\"You will get a total discount of\", d, \"and the total cost is:\", t)\n",
    "else:\n",
    "    print(\"Discount is not available\")"
   ]
  },
  {
   "cell_type": "code",
   "execution_count": 31,
   "metadata": {},
   "outputs": [
    {
     "name": "stdout",
     "output_type": "stream",
     "text": [
      "Enter salary: 20000\n",
      "Enter years of service14\n",
      "You are eligible for a bonus of 10000.0\n"
     ]
    }
   ],
   "source": [
    "#Q.4 A company decided to give bonus of 5% to employee if his/her year of service is more than 5 years.\n",
    "#a.  Ask user for their salary and year of service and print the net bonus amount.\n",
    "\n",
    "sal = int(input(\"Enter salary: \"))\n",
    "serv = int(input(\"Enter years of service\"))\n",
    "if serv>5:\n",
    "    print(\"You are eligible for a bonus of\", 0.5*sal)\n",
    "else:\n",
    "    print(\"You are not eligible for the bonus\")"
   ]
  },
  {
   "cell_type": "code",
   "execution_count": 29,
   "metadata": {},
   "outputs": [
    {
     "name": "stdout",
     "output_type": "stream",
     "text": [
      "Your age is: 26\n",
      "Your age is: 56\n",
      "Your age is: 89\n",
      "sia is the youngest\n"
     ]
    }
   ],
   "source": [
    "#Q.5 Take input of age of 3 people by user and determine oldest and youngest among them.\n",
    "\n",
    "ria = int(input(\"Your age is: \"))\n",
    "adi = int(input(\"Your age is: \"))\n",
    "sia = int(input(\"Your age is: \"))\n",
    "if ria>adi and ria>sia:\n",
    "    print(\"ria is older than the rest\")\n",
    "    if adi>ria and adi>sia:\n",
    "        print(\"adi is older than the rest\")\n",
    "else:\n",
    "    print(\"sia is the youngest\")"
   ]
  },
  {
   "cell_type": "code",
   "execution_count": 28,
   "metadata": {},
   "outputs": [
    {
     "name": "stdout",
     "output_type": "stream",
     "text": [
      "Enter Year: 1900\n",
      "1900 is not a Leap Year\n"
     ]
    }
   ],
   "source": [
    "#Q6. Write a program to check if a year is leap year or not.\n",
    "#a.  If a year is divisible by 4, then it is leap year,\n",
    "#but if the year is century year like 2000, 1900, 2100 then it must be divisible by 400.\n",
    "\n",
    "year = int(input(\"Enter Year: \"))\n",
    "if year % 4 == 0 and year % 100 != 0:\n",
    "    print(year, \"is a Leap Year\")\n",
    "elif year % 100 == 0:\n",
    "    print(year, \"is not a Leap Year\")\n",
    "elif year % 400 ==0:\n",
    "    print(year, \"is a Leap Year\")\n",
    "else:\n",
    "    print(year, \"is not a Leap Year\")"
   ]
  },
  {
   "cell_type": "code",
   "execution_count": 25,
   "metadata": {},
   "outputs": [
    {
     "name": "stdout",
     "output_type": "stream",
     "text": [
      "Enter a number:1\n",
      "Enter another number: 8\n",
      "False\n"
     ]
    }
   ],
   "source": [
    "#Q.7 Write a program that consists  of at least ten lines, each of which has a logical statement on it.\n",
    "#The output of your program should be 5 True and 5 False.\n",
    "\n",
    "x = int(input('Enter a number:'))\n",
    "y = int(input('Enter another number: '))\n",
    "if y == 1 and y < x:\n",
    "    print('True')\n",
    "elif y == 2 and y < x:\n",
    "    print('True')\n",
    "elif y == 3 and y < x:\n",
    "    print('True')\n",
    "elif y == 4 and y < x:\n",
    "    print('True')\n",
    "elif y == 5 and y < x:\n",
    "    print('True')\n",
    "elif y == 6 or y < x:\n",
    "    print('False')\n",
    "elif y == 7 or y < x:\n",
    "    print('False')\n",
    "elif y == 8 or y < x:\n",
    "    print('False')\n",
    "elif y == 9 or y < x:\n",
    "    print('False')\n",
    "elif y == 10 or y < x:\n",
    "    print('False')"
   ]
  },
  {
   "cell_type": "code",
   "execution_count": 1,
   "metadata": {},
   "outputs": [
    {
     "name": "stdout",
     "output_type": "stream",
     "text": [
      "Enter the values ==256\n",
      "a is a postive value\n"
     ]
    }
   ],
   "source": [
    "#Q.8 Write a Python program to get a number from the user and print whether it is positive or negative.\n",
    "\n",
    "a = int(input(\"Enter the values ==\"))\n",
    "if a>0:\n",
    "    print(\"a is a postive value\")\n",
    "else:\n",
    "    print(\"a is a negative value\")"
   ]
  },
  {
   "cell_type": "code",
   "execution_count": 3,
   "metadata": {},
   "outputs": [
    {
     "name": "stdout",
     "output_type": "stream",
     "text": [
      "Enter a number: 2\n",
      "This is a positive number\n"
     ]
    }
   ],
   "source": [
    "#Q.10 Write a program that reads a floating-point number and prints \"zero\" if the number is zero.\n",
    "#Otherwise, print \"positive\" or \"negative\".\n",
    "#Add \"small\" if the absolute value of the number is less than 1, or \"large\" if it exceeds 1,000,000.\n",
    "\n",
    "num = float(input(\"Enter a number: \"))\n",
    "if num>0:\n",
    "    print(\"This is a positive number\")\n",
    "elif num==0:\n",
    "    print(\"Zero\")\n",
    "else:\n",
    "    print(\"This is a negative number\")\n",
    "if num<1:\n",
    "    print(\"Small\")\n",
    "elif num>1000000:\n",
    "        print(\"Large\")"
   ]
  },
  {
   "cell_type": "code",
   "execution_count": 3,
   "metadata": {},
   "outputs": [
    {
     "name": "stdout",
     "output_type": "stream",
     "text": [
      "Enter a number between 1 and 7: 4\n",
      "Thursday\n"
     ]
    }
   ],
   "source": [
    "#Q.11 Write a program that keeps a number from the user and generates an integer between 1 and 7 \n",
    "#and displays the name of the weekday.\n",
    "\n",
    "day = int(input(\"Enter a number between 1 and 7: \"))\n",
    "if day == 1:\n",
    "    print('Monday')\n",
    "elif day == 2:\n",
    "    print('Tuesday')\n",
    "elif day == 3:\n",
    "    print(\"Wednesday\")\n",
    "elif day == 4:\n",
    "    print('Thursday')\n",
    "elif day == 5:\n",
    "    print('Friday')\n",
    "elif day == 6:\n",
    "    print('Saturday')\n",
    "elif day == 7:\n",
    "    print('Sunday')"
   ]
  },
  {
   "cell_type": "code",
   "execution_count": 10,
   "metadata": {},
   "outputs": [
    {
     "name": "stdout",
     "output_type": "stream",
     "text": [
      "Enter an alphabet of your choice: r\n",
      "The alphabet r is present & also r is a vowel\n"
     ]
    }
   ],
   "source": [
    "#Q.12 Write a program that takes the user to provide a single character from the alphabet\n",
    "#Print Vowel or Consonant, depending on the user input.\n",
    "#If the user input is not a letter (between a and z or A and Z), or is a string of length > 1, print an error message.\n",
    "\n",
    "a = input('Enter an alphabet of your choice: ')\n",
    "b = 'ABCDEFGHIJKLMNOPQRSTUVWXYZ'\n",
    "v = 'aeiou'\n",
    "if a in b.lower() or b.upper() and len(a) == 1:\n",
    "    if a in v.lower() or v.upper():\n",
    "        print('The alphabet {} is present & also {} is a vowel'.format(a,a))\n",
    "elif len(a) > 1:\n",
    "    print('Error. Please enter only 1 alphabet at a time.')\n",
    "    \n",
    "#????????????????????"
   ]
  },
  {
   "cell_type": "code",
   "execution_count": 11,
   "metadata": {},
   "outputs": [
    {
     "name": "stdout",
     "output_type": "stream",
     "text": [
      "Please enter the first number: 18\n",
      "Please enter the second number: 11\n",
      "Please enter the third number: 2014\n",
      "The numbers are neither increasing nor decreasing in order\n"
     ]
    }
   ],
   "source": [
    "#Q.13 Write a program that accepts three numbers from the user and prints \"increasing\" if the numbers are in increasing order,\n",
    "#\"decreasing\" if the numbers are in decreasing order, and \"Neither increasing nor decreasing order\" otherwise.\n",
    "\n",
    "a = int(input('Please enter the first number: '))\n",
    "b = int(input('Please enter the second number: '))\n",
    "c = int(input('Please enter the third number: '))\n",
    "if a > b > c:\n",
    "    print('The numbers are in a decreasing {} > {} > {}'.format(a,b,c))\n",
    "elif c > b > a:\n",
    "    print('The numbers are in an increasing order {} > {} > {}'.format(a,b,c))\n",
    "else:\n",
    "    print('The numbers are neither increasing nor decreasing in order')"
   ]
  },
  {
   "cell_type": "code",
   "execution_count": 12,
   "metadata": {},
   "outputs": [
    {
     "name": "stdout",
     "output_type": "stream",
     "text": [
      "Please enter the first angle of the triangle: 80\n",
      "Please enter the second angle of the triangle: 80\n",
      "Please enter the third angle of the triangle: 20\n",
      "This triangle is an isoceles triangle.\n"
     ]
    }
   ],
   "source": [
    "#Q.14 Write a program to check whether triangle is equilateral, scalene or isosceles.\n",
    "\n",
    "ang1 = int(input('Please enter the first angle of the triangle: '))\n",
    "ang2 = int(input('Please enter the second angle of the triangle: '))\n",
    "ang3 = int(input('Please enter the third angle of the triangle: '))\n",
    "if ang1 == ang2 == ang3:\n",
    "    print(\"This triangle is an equilateral triangle.\")\n",
    "elif ang1 == ang2 or ang2 == ang3 or ang3 == ang1:\n",
    "    print(\"This triangle is an isoceles triangle.\")\n",
    "else:\n",
    "    print('Triangle is a scalene triangle.')"
   ]
  },
  {
   "cell_type": "code",
   "execution_count": 17,
   "metadata": {},
   "outputs": [
    {
     "name": "stdout",
     "output_type": "stream",
     "text": [
      "Enter basic salary :5000\n",
      "The total salary of the employee is : 6100.0\n"
     ]
    }
   ],
   "source": [
    "#Q.15 Write a program to enter basic salary and calculate gross salary of an employee.\n",
    "\n",
    "bsal = float(input('Enter basic salary :'))\n",
    "da = (10 * bsal) / 100\n",
    "ta = (12 * bsal) / 100\n",
    "totsal = float(bsal + da + ta)\n",
    "print('The total salary of the employee is :',totsal)"
   ]
  }
 ],
 "metadata": {
  "kernelspec": {
   "display_name": "Python 3",
   "language": "python",
   "name": "python3"
  },
  "language_info": {
   "codemirror_mode": {
    "name": "ipython",
    "version": 3
   },
   "file_extension": ".py",
   "mimetype": "text/x-python",
   "name": "python",
   "nbconvert_exporter": "python",
   "pygments_lexer": "ipython3",
   "version": "3.7.4"
  }
 },
 "nbformat": 4,
 "nbformat_minor": 2
}
