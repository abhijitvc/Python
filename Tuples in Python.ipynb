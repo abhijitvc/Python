{
 "cells": [
  {
   "cell_type": "markdown",
   "metadata": {},
   "source": [
    "# TUPLES "
   ]
  },
  {
   "cell_type": "markdown",
   "metadata": {},
   "source": [
    "### What are tuples?\n",
    " * It is an immutable Datatype.\n",
    " * tuple is a collection which is ordered and unchangeable that is they are immutable.\n",
    " * A tuple consists of a number of values separated by commas, with parentheses for instance:\n",
    " Tuple =  ( ‘Audumbar’ , ‘Abhijit’ , ‘Vivek’)\n",
    "\n"
   ]
  },
  {
   "cell_type": "markdown",
   "metadata": {},
   "source": [
    "#### how to create empty  tuple?"
   ]
  },
  {
   "cell_type": "code",
   "execution_count": null,
   "metadata": {},
   "outputs": [],
   "source": [
    "empty = ()\n",
    "print(empty)"
   ]
  },
  {
   "cell_type": "markdown",
   "metadata": {},
   "source": [
    "#### how to produce single element tuple?"
   ]
  },
  {
   "cell_type": "code",
   "execution_count": null,
   "metadata": {},
   "outputs": [],
   "source": [
    "tup = 'hello'\n",
    "print(\"TYPE OF tup1 =('hello') : \",type(tup))\n",
    "# here definately the type of tup is data becase in tuple values are seperated by commas\n",
    "print()\n",
    "\n",
    "tup1 =  ('hello',)\n",
    "print(\"TYPE OF tup1 =('hello,') : \",type(tup1)) \n",
    "# here the value is separated by comma so the datetype is \"tuple\"\n",
    "print()\n",
    "tup2 = \"hello\",\n",
    "print('TYPE OF tup2 = \"hello\", : ',type(tup2))\n",
    "# parentheses is not required to represent a tuple."
   ]
  },
  {
   "cell_type": "markdown",
   "metadata": {},
   "source": [
    "#### how to produce multiple elements tuple of same date type?"
   ]
  },
  {
   "cell_type": "code",
   "execution_count": null,
   "metadata": {},
   "outputs": [],
   "source": [
    "tup4= (1,2,3,4,5,6,7,8,9)\n",
    "print(tup4)\n",
    "\n",
    "tup41=1,2,3,4,5,6,7,8,9\n",
    "print(tup4)\n",
    "print(type(tup41))\n",
    "print()\n",
    "tup5 = ('a','b','c','d','e','f')\n",
    "print(tup5)\n",
    "tup51 = 'a','b','c','d','e','f'\n",
    "print(tup51)\n",
    "print(type(tup51))\n",
    "\n",
    "# output of tuple is always represted in parentheses "
   ]
  },
  {
   "cell_type": "markdown",
   "metadata": {},
   "source": [
    "#### tuples with mixed datatype"
   ]
  },
  {
   "cell_type": "code",
   "execution_count": null,
   "metadata": {},
   "outputs": [],
   "source": [
    "tup6 = 12345, 54321, 'hello!'\n",
    "print(tup6)"
   ]
  },
  {
   "cell_type": "markdown",
   "metadata": {},
   "source": [
    "#### how to get the total number of elements inside a tuple?"
   ]
  },
  {
   "cell_type": "code",
   "execution_count": null,
   "metadata": {},
   "outputs": [],
   "source": [
    "# using len \n",
    "tup6 = 12345, 54321, 'hello!'\n",
    "print(tup6)\n",
    "print('length of tuple : ',len(tup6))"
   ]
  },
  {
   "cell_type": "markdown",
   "metadata": {},
   "source": [
    "#### creating a tuple with in-build function"
   ]
  },
  {
   "cell_type": "code",
   "execution_count": null,
   "metadata": {},
   "outputs": [],
   "source": [
    "tup7 = tuple ()\n",
    "print(tup7)\n",
    "print(type(tup7))\n",
    "print(len(tup7))"
   ]
  },
  {
   "cell_type": "markdown",
   "metadata": {},
   "source": [
    "#### creating a tuple with iterable objects"
   ]
  },
  {
   "cell_type": "code",
   "execution_count": 14,
   "metadata": {},
   "outputs": [
    {
     "name": "stdout",
     "output_type": "stream",
     "text": [
      "('helo', 'hi', 'nice', 'beautiful')\n",
      "<class 'tuple'>\n",
      "lngth of tuple : 4\n",
      "\n",
      "(['helo', 'hi', 'nice', 'beautiful'],)\n",
      "lngth of tuple : 1\n",
      "<class 'tuple'>\n"
     ]
    }
   ],
   "source": [
    "# iterable object = list\n",
    "tp1 = tuple(['helo','hi','nice','beautiful'])\n",
    "print(tp1)\n",
    "print(type(tp1))\n",
    "print('lngth of tuple :', len(tp1))\n",
    "print()\n",
    "tp2 =(['helo','hi','nice','beautiful'],)\n",
    "print(tp2)\n",
    "print('lngth of tuple :', len(tp2))\n",
    "print(type(tp2))\n",
    "\n"
   ]
  },
  {
   "cell_type": "code",
   "execution_count": 15,
   "metadata": {},
   "outputs": [
    {
     "name": "stdout",
     "output_type": "stream",
     "text": [
      "('b', 'c', 'd', 'a')\n",
      "<class 'tuple'>\n",
      "length of tuple : 4\n",
      "\n",
      "({'b', 'c', 'd', 'a'},)\n",
      "length of tuple : 1\n",
      "<class 'tuple'>\n"
     ]
    }
   ],
   "source": [
    "#iterable object = set\n",
    "tp4 = tuple({'a','b','c','d','a'})\n",
    "print(tp4)\n",
    "print(type(tp4))\n",
    "print('length of tuple :' ,len(tp4))\n",
    "\n",
    "print()\n",
    "\n",
    "tp5 = ({'a','b','c','d'},)\n",
    "print(tp5)\n",
    "print('length of tuple :', len(tp5))\n",
    "print(type(tp5))"
   ]
  },
  {
   "cell_type": "code",
   "execution_count": 16,
   "metadata": {},
   "outputs": [
    {
     "name": "stdout",
     "output_type": "stream",
     "text": [
      "str1 : AUDUMBAR\n",
      "DATA TYPE OF STR1  <class 'str'>\n",
      "String converted to a tuple :  ('A', 'U', 'D', 'U', 'M', 'B', 'A', 'R')\n"
     ]
    }
   ],
   "source": [
    "str1 =  'AUDUMBAR'\n",
    "print('str1 :',str1)\n",
    "a=tuple(str1)\n",
    "print('DATA TYPE OF STR1 ',type(str1))\n",
    "print('String converted to a tuple : ',a)\n"
   ]
  },
  {
   "cell_type": "markdown",
   "metadata": {},
   "source": [
    "### accessing elements of tuples"
   ]
  },
  {
   "cell_type": "markdown",
   "metadata": {},
   "source": [
    "#### index"
   ]
  },
  {
   "cell_type": "code",
   "execution_count": 1,
   "metadata": {},
   "outputs": [
    {
     "name": "stdout",
     "output_type": "stream",
     "text": [
      "At index 1st :  b\n",
      "At index 4th : e\n",
      "\n",
      "at -1 index : f\n",
      "at -3 index:  d\n"
     ]
    }
   ],
   "source": [
    "t = ('a', 'b', 'c', 'd', 'e', 'f')\n",
    "# to get element 'b' with positive index\n",
    "print('At index 1st : ',t[1])\n",
    "print('At index 4th :',t[4])\n",
    "print()\n",
    "\n",
    "# to get an element with negative index\n",
    "print('at -1 index :', t[-1])\n",
    "print('at -3 index: ', t[-3])"
   ]
  },
  {
   "cell_type": "markdown",
   "metadata": {},
   "source": [
    "#### slicing of the elements"
   ]
  },
  {
   "cell_type": "code",
   "execution_count": null,
   "metadata": {},
   "outputs": [],
   "source": [
    "t1 = ('helo','hi','nice','beautiful')\n",
    "# tuple[start:stop]\n",
    "# to get 1st three elements i.e. hello , hi , nice\n",
    "print(t1[0:3])\n",
    "print(t[:3])\n",
    "# IMPORTANT : last index element is exclusive means it alway consider 0th , 1st , 2nd elment and 3rd is exclusive.\n",
    "print()\n",
    "t2 = ('a', 'b', 'c', 'd', 'e', 'f')\n",
    "# to get d and e\n",
    "print(t2[3:5]) \n"
   ]
  },
  {
   "cell_type": "code",
   "execution_count": null,
   "metadata": {},
   "outputs": [],
   "source": [
    "t1 = ('helo','hi','nice','beautiful')\n",
    "print(t1[-4:]) # automatically it will take the all the values till last element. \n"
   ]
  },
  {
   "cell_type": "code",
   "execution_count": null,
   "metadata": {},
   "outputs": [],
   "source": [
    "t2 = ('a', 'b', 'c', 'd', 'e', 'f') # to get d and e using -indexing \n",
    "print(t2[-3:-1]) "
   ]
  },
  {
   "cell_type": "code",
   "execution_count": 1,
   "metadata": {},
   "outputs": [
    {
     "name": "stdout",
     "output_type": "stream",
     "text": [
      "(0, 1, 2, 3, 4, 5, 6, 7, 8)\n",
      "(0, 1, 2, 3, 4, 5, 6, 7, 8)\n",
      "\n",
      "(0, 1, 2, 3, 4)\n",
      "(0, 1, 2, 3, 4)\n"
     ]
    }
   ],
   "source": [
    "t3 = (0,1,2,3,4,5,6,7,8)\n",
    "# to get all the elements\n",
    "print(t3[0:9]) # 9 because 9th index will be excusive\n",
    "print(t3[:]) # if neither is defined it will return full tuple.\n",
    "\n",
    "print()\n",
    "print(t3[0:5])\n",
    "print(t3[:5])# so here no need to mention 0 . it will automatically consider values from begining of the tuple.\n",
    "\n"
   ]
  },
  {
   "cell_type": "code",
   "execution_count": null,
   "metadata": {},
   "outputs": [],
   "source": [
    "#to get the reverse of the tuple using step value\n",
    "t3 = (0,1,2,3,4,5,6,7,8) \n",
    "print(t3[::-1])\n",
    "\n",
    "for i in reversed(t3):\n",
    "    print(i, end=\" \")\n"
   ]
  },
  {
   "cell_type": "code",
   "execution_count": null,
   "metadata": {},
   "outputs": [],
   "source": [
    "# #step specify an increment between the elements to cut of the tuple.\n",
    "t4=('a','b','c','d','e','f')\n",
    "print('alternate values : ',t4[::2])\n"
   ]
  },
  {
   "cell_type": "code",
   "execution_count": null,
   "metadata": {},
   "outputs": [],
   "source": [
    "# step value 3\n",
    "print(t4[::3])"
   ]
  },
  {
   "cell_type": "code",
   "execution_count": null,
   "metadata": {},
   "outputs": [],
   "source": [
    "print(t4[::-1])"
   ]
  },
  {
   "cell_type": "code",
   "execution_count": null,
   "metadata": {},
   "outputs": [],
   "source": [
    "# step value -2 , #when step is negative the jump is made back\n",
    "t4=('a','b','c','d','e','f')\n",
    "print(t4[::-2])"
   ]
  },
  {
   "cell_type": "code",
   "execution_count": null,
   "metadata": {},
   "outputs": [],
   "source": [
    "# step value -3 ,#when step is negative the jump is made back\n",
    "t4=('a','b','c','d','e','f')\n",
    "print(t4[::-3])"
   ]
  },
  {
   "cell_type": "code",
   "execution_count": null,
   "metadata": {},
   "outputs": [],
   "source": [
    "t4=('a','b','c','d','e','f')\n",
    "print(t4[1:5])\n",
    "print(t4[1:5:2])"
   ]
  },
  {
   "cell_type": "code",
   "execution_count": null,
   "metadata": {},
   "outputs": [],
   "source": [
    "t4=('a','b','c','d','e','f')\n",
    "print(t4[5:1:-2])"
   ]
  },
  {
   "cell_type": "markdown",
   "metadata": {},
   "source": [
    "### join two tuples"
   ]
  },
  {
   "cell_type": "code",
   "execution_count": null,
   "metadata": {},
   "outputs": [],
   "source": [
    "tup=(1,2,3,4,5)\n",
    "print('tup =',tup)\n",
    "tup1 = (6,7,8,9)\n",
    "print('tup1 = ',tup1)\n",
    "tup3 = tup+tup1\n",
    "print('tup+tup1 = ',tup3)"
   ]
  },
  {
   "cell_type": "code",
   "execution_count": null,
   "metadata": {},
   "outputs": [],
   "source": [
    "tup4 = tup[:2] + ('a','b','c') + tup3[:]\n",
    "tup4"
   ]
  },
  {
   "cell_type": "markdown",
   "metadata": {},
   "source": [
    "### to get the id of tuple"
   ]
  },
  {
   "cell_type": "code",
   "execution_count": null,
   "metadata": {},
   "outputs": [],
   "source": [
    "print(id(tup4))"
   ]
  },
  {
   "cell_type": "code",
   "execution_count": null,
   "metadata": {},
   "outputs": [],
   "source": [
    "pwd"
   ]
  },
  {
   "cell_type": "markdown",
   "metadata": {},
   "source": [
    "### looping through tuple:"
   ]
  },
  {
   "cell_type": "code",
   "execution_count": null,
   "metadata": {},
   "outputs": [],
   "source": [
    "tp1 = ('a','b','c','d','e')\n",
    "for i in tp1:\n",
    "    print(i)\n"
   ]
  },
  {
   "cell_type": "code",
   "execution_count": null,
   "metadata": {},
   "outputs": [],
   "source": [
    "tuple1= (1,2,3,4,5,6,7)\n",
    "for i in tuple1:\n",
    "    print(i,end=' ')\n",
    "    "
   ]
  },
  {
   "cell_type": "markdown",
   "metadata": {},
   "source": [
    "### membership operators:"
   ]
  },
  {
   "cell_type": "code",
   "execution_count": 12,
   "metadata": {},
   "outputs": [
    {
     "name": "stdout",
     "output_type": "stream",
     "text": [
      "True\n"
     ]
    }
   ],
   "source": [
    "# in \n",
    "# not in\n",
    "tp1 = ('a','b','c','d','e')\n",
    "print('d' in tp1)"
   ]
  },
  {
   "cell_type": "code",
   "execution_count": 13,
   "metadata": {},
   "outputs": [
    {
     "name": "stdout",
     "output_type": "stream",
     "text": [
      "False\n"
     ]
    }
   ],
   "source": [
    "print('d' not in tp1)"
   ]
  },
  {
   "cell_type": "markdown",
   "metadata": {},
   "source": [
    "### inbuilt functions in tuples  "
   ]
  },
  {
   "cell_type": "markdown",
   "metadata": {},
   "source": [
    "* min\n",
    "* max\n",
    "* sum\n",
    "* sorted\n",
    "* length \n",
    "* enumerate"
   ]
  },
  {
   "cell_type": "markdown",
   "metadata": {},
   "source": [
    "###### max"
   ]
  },
  {
   "cell_type": "code",
   "execution_count": null,
   "metadata": {},
   "outputs": [],
   "source": [
    "# max\n",
    "max(20, 10, 30, -5) "
   ]
  },
  {
   "cell_type": "code",
   "execution_count": null,
   "metadata": {},
   "outputs": [],
   "source": [
    "tup2 = ( 'a','b','c','aa','abc','ghijk','z')\n",
    "max(tup2,key=len)"
   ]
  },
  {
   "cell_type": "code",
   "execution_count": null,
   "metadata": {},
   "outputs": [],
   "source": [
    "tup2 = ( 'a','b','c','aa','abc','ghijk','z')\n",
    "max(tup2, key=str)"
   ]
  },
  {
   "cell_type": "markdown",
   "metadata": {},
   "source": [
    "######  min"
   ]
  },
  {
   "cell_type": "code",
   "execution_count": null,
   "metadata": {},
   "outputs": [],
   "source": [
    "# min\n",
    "min(20, 10, 30, -5) "
   ]
  },
  {
   "cell_type": "markdown",
   "metadata": {},
   "source": [
    "###### sum"
   ]
  },
  {
   "cell_type": "code",
   "execution_count": null,
   "metadata": {},
   "outputs": [],
   "source": [
    "#sum\n",
    "tup = (20, 10, 30, -5) \n",
    "sum(tup)"
   ]
  },
  {
   "cell_type": "markdown",
   "metadata": {},
   "source": [
    "###### len"
   ]
  },
  {
   "cell_type": "code",
   "execution_count": null,
   "metadata": {},
   "outputs": [],
   "source": [
    "#len\n",
    "tup = (20, 10, 30, -5) \n",
    "len(tup)"
   ]
  },
  {
   "cell_type": "markdown",
   "metadata": {},
   "source": [
    "###### enumerate()"
   ]
  },
  {
   "cell_type": "markdown",
   "metadata": {},
   "source": [
    "The enumerate() function assigns an index to each item in an iterable object that can be used to reference the item later. What does enumerate do in Python? It makes it easier to keep track of the content of an iterable object.\n",
    "\n",
    "The enumerate() function in Python is commonly used instead of the for loop. That’s because enumerate() can iterate over the index of an item, as well as the item itself.\n",
    "\n",
    "Using enumerate() also makes the code cleaner, since you have to write fewer lines."
   ]
  },
  {
   "cell_type": "code",
   "execution_count": 1,
   "metadata": {},
   "outputs": [
    {
     "name": "stdout",
     "output_type": "stream",
     "text": [
      "<enumerate object at 0x000002B2B9681B88>\n",
      "\n",
      "((0, 'kia'), (1, 'audi'), (2, 'bmw'))\n"
     ]
    }
   ],
   "source": [
    "#enumerte for iterable object \n",
    "\n",
    "cars = ('kia', 'audi', 'bmw')\n",
    "\n",
    "3#only enumerate gives you \n",
    "print(enumerate(cars))\n",
    "print()\n",
    "print(tuple(enumerate(cars)))"
   ]
  },
  {
   "cell_type": "code",
   "execution_count": null,
   "metadata": {},
   "outputs": [],
   "source": [
    "#enumerte for iterable object \n",
    "\n",
    "cars = ('kia', 'audi', 'bmw')\n",
    "\n",
    "#only enumerate gives you alphanumeric memmory referance\n",
    "print(enumerate(cars))\n",
    "print()\n",
    "print(tuple(enumerate(cars,start = 6)))  # index value start from 6 "
   ]
  },
  {
   "cell_type": "markdown",
   "metadata": {},
   "source": [
    "### inbuilt methods"
   ]
  },
  {
   "cell_type": "markdown",
   "metadata": {},
   "source": [
    "* .count()\n",
    "* .index()"
   ]
  },
  {
   "cell_type": "code",
   "execution_count": null,
   "metadata": {},
   "outputs": [],
   "source": [
    "tup = ( 1,2,3,4,5,6,6,6,6,8,9,7,8,5,7,6,6,6,6,6)\n",
    "# to count how many times 6 has repeated in tuple.\n",
    " \n",
    "print(tup.count(6))"
   ]
  },
  {
   "cell_type": "code",
   "execution_count": null,
   "metadata": {},
   "outputs": [],
   "source": [
    "# to get the index of a value\n",
    "print(tup.index(8))"
   ]
  },
  {
   "cell_type": "code",
   "execution_count": null,
   "metadata": {},
   "outputs": [],
   "source": [
    "tup = ( 1,2,3,4,5,6,6,6,6,8,9,7,8,5,7,6,6,6,6,6)\n",
    "print(tup.index(6))"
   ]
  },
  {
   "cell_type": "code",
   "execution_count": null,
   "metadata": {},
   "outputs": [],
   "source": []
  },
  {
   "cell_type": "markdown",
   "metadata": {},
   "source": [
    "### adding or appending any element in a defined tuple.\n",
    "* tuple is an immutable datatye.so nothing can be added or appended in a defined tuple.\n",
    "* you even cannot delete any element from a defined tuple.\n"
   ]
  },
  {
   "cell_type": "code",
   "execution_count": null,
   "metadata": {},
   "outputs": [],
   "source": [
    "tuple1= (1,2,3,4,5,6,7)\n",
    "del tuple1[3]\n",
    "\n",
    "# so you cannot delete any item from a defined tuple."
   ]
  },
  {
   "cell_type": "code",
   "execution_count": null,
   "metadata": {},
   "outputs": [],
   "source": [
    "# to delete a tuple's items you need to convert tuple to list and then delete the item.\n",
    "tuple1= (1,2,3,4,5,6,7)\n",
    "print('tuple1 = ',tuple1)\n",
    "print()\n",
    "lst=list(tuple1)\n",
    "print('tuple1 converted to list  = ',lst)\n",
    "\n",
    "lst.pop(3)\n",
    "print('list after deletion of item : ', lst)\n",
    "print()\n",
    "print('tuple after deletion of an item = ',tuple(lst))"
   ]
  },
  {
   "cell_type": "code",
   "execution_count": null,
   "metadata": {},
   "outputs": [],
   "source": [
    "tuple1= (1,2,3,4,5,6,7)\n",
    "del tuple1\n",
    "print(tuple1)"
   ]
  },
  {
   "cell_type": "markdown",
   "metadata": {},
   "source": [
    "### any and all"
   ]
  },
  {
   "cell_type": "markdown",
   "metadata": {},
   "source": [
    " any() If even one item in the tuple has a Boolean value of True, then this function returns True.\n",
    "Otherwise, it returns False. 2. all() Unlike any(), all() returns True only if all items have a Boolean\n",
    "value of True. Otherwise, it returns False.\n"
   ]
  },
  {
   "cell_type": "code",
   "execution_count": null,
   "metadata": {},
   "outputs": [],
   "source": [
    "t6 = (1,'','','')\n",
    "print(t6)\n",
    "print(any(t6))"
   ]
  },
  {
   "cell_type": "code",
   "execution_count": null,
   "metadata": {},
   "outputs": [],
   "source": [
    "t6 = ('1','' ' ',' ')\n",
    "print(t6)\n",
    "print(any(t6))"
   ]
  },
  {
   "cell_type": "code",
   "execution_count": null,
   "metadata": {},
   "outputs": [],
   "source": [
    "t6 = ('0','' ' ',' ')\n",
    "print(t6)\n",
    "print(any(t6))"
   ]
  },
  {
   "cell_type": "code",
   "execution_count": null,
   "metadata": {},
   "outputs": [],
   "source": [
    "t6 = (0,'','','')\n",
    "print(t6)\n",
    "print(any(t6))"
   ]
  },
  {
   "cell_type": "code",
   "execution_count": null,
   "metadata": {},
   "outputs": [],
   "source": [
    "t6 = ('','','')\n",
    "print(t6)\n",
    "print(any(t6))"
   ]
  },
  {
   "cell_type": "code",
   "execution_count": null,
   "metadata": {},
   "outputs": [],
   "source": [
    "t6 = ()\n",
    "print(any(t6))"
   ]
  },
  {
   "cell_type": "code",
   "execution_count": null,
   "metadata": {},
   "outputs": [],
   "source": [
    "t7 = ('a','b','c','d', 'e')\n",
    "print(t7)\n",
    "print( all(t7))"
   ]
  },
  {
   "cell_type": "code",
   "execution_count": null,
   "metadata": {},
   "outputs": [],
   "source": [
    "t7 = ('0','b','c','d', 'e')\n",
    "print(t7)\n",
    "print( all(t7))"
   ]
  },
  {
   "cell_type": "code",
   "execution_count": null,
   "metadata": {},
   "outputs": [],
   "source": [
    "t7 = (0,'b','c','d', 'e')\n",
    "print(t7)\n",
    "print('t7 (all) : ', all(t7))\n",
    "print('t7 (any) : ', any(t7))"
   ]
  },
  {
   "cell_type": "markdown",
   "metadata": {},
   "source": [
    "### apppending tuple to a list\n"
   ]
  },
  {
   "cell_type": "code",
   "execution_count": 3,
   "metadata": {},
   "outputs": [
    {
     "data": {
      "text/plain": [
       "[1, 2, 3, 4, 5, 6, 7, 34, 35]"
      ]
     },
     "execution_count": 3,
     "metadata": {},
     "output_type": "execute_result"
    }
   ],
   "source": [
    "numbers = [1,2,3,4,5,6,7]\n",
    "numbers += (34,35)\n",
    "\n",
    "\n",
    "numbers"
   ]
  },
  {
   "cell_type": "code",
   "execution_count": 4,
   "metadata": {},
   "outputs": [
    {
     "data": {
      "text/plain": [
       "['a', 'b', 'c', 'd', 4, 5]"
      ]
     },
     "execution_count": 4,
     "metadata": {},
     "output_type": "execute_result"
    }
   ],
   "source": [
    "list1 = ['a','b','c','d']\n",
    "a = (4,5)\n",
    "list1+=a\n",
    "\n",
    "list1"
   ]
  },
  {
   "cell_type": "markdown",
   "metadata": {},
   "source": [
    "### tuples with mutable objects "
   ]
  },
  {
   "cell_type": "code",
   "execution_count": 14,
   "metadata": {},
   "outputs": [
    {
     "name": "stdout",
     "output_type": "stream",
     "text": [
      "list inside a tuple : ([1, 2, 3, 43], ['a', 'b', 'c'])\n",
      "([1, 2, 3, 43], ['a', 'b', 9])\n"
     ]
    }
   ],
   "source": [
    "tup1 = ([1,2,3,43],['a','b','c'])\n",
    "\n",
    "print('list inside a tuple :',tup1)\n",
    "\n",
    "tup1[1][2]=9\n",
    "print(tup1)"
   ]
  },
  {
   "cell_type": "code",
   "execution_count": 15,
   "metadata": {},
   "outputs": [
    {
     "name": "stdout",
     "output_type": "stream",
     "text": [
      "([1, 2, 3, 43, 'c'], ['a', 'b', 9])\n"
     ]
    }
   ],
   "source": [
    "tup1[0].append('c')\n",
    "print(tup1)"
   ]
  },
  {
   "cell_type": "code",
   "execution_count": 16,
   "metadata": {},
   "outputs": [
    {
     "name": "stdout",
     "output_type": "stream",
     "text": [
      "tuple after appending value in 2nd list (value at 1st index) :  ([1, 2, 3, 43, 'c'], ['a', 'b', 9, 'J'])\n"
     ]
    }
   ],
   "source": [
    "tup1[1].append('J')\n",
    "print('tuple after appending value in 2nd list (value at 1st index) : ',tup1)"
   ]
  },
  {
   "cell_type": "markdown",
   "metadata": {},
   "source": [
    "### mapping one tuple to other "
   ]
  },
  {
   "cell_type": "code",
   "execution_count": 4,
   "metadata": {},
   "outputs": [
    {
     "name": "stdout",
     "output_type": "stream",
     "text": [
      "1\n",
      "2\n",
      "3\n",
      "\n",
      "1 2 3\n"
     ]
    }
   ],
   "source": [
    "(a,b,c)=(1,2,3)\n",
    "print(a)\n",
    "print(b)\n",
    "print(c)\n",
    "print()\n",
    "print(a,b,c)"
   ]
  },
  {
   "cell_type": "code",
   "execution_count": 19,
   "metadata": {},
   "outputs": [
    {
     "name": "stdout",
     "output_type": "stream",
     "text": [
      "audumbar abhijit Vivek\n",
      "abhijit\n"
     ]
    }
   ],
   "source": [
    "(a,b,c)=('audumbar','abhijit','Vivek')\n",
    "print(a,b,c)\n",
    "print(b)"
   ]
  },
  {
   "cell_type": "markdown",
   "metadata": {},
   "source": [
    "### unpacking of tuple \n",
    "In Python there is a very powerful tuple assignment feature that assigns right hand side of values into left hand side. In other way it is called unpacking of a tuple of values into a variable. In packing, we put values into a new tuple while in unpacking we extract those values into a single variable."
   ]
  },
  {
   "cell_type": "code",
   "execution_count": 20,
   "metadata": {},
   "outputs": [
    {
     "name": "stdout",
     "output_type": "stream",
     "text": [
      "MET BANDRA\n",
      "500\n",
      "Pharmacy\n"
     ]
    }
   ],
   "source": [
    "# this lines PACKS values into variable a \n",
    "a = (\"MET BANDRA\", 500, 'Pharmacy')  \n",
    "\n",
    "# this lines UNPACKS values   of variable a \n",
    "(college, student, type_ofcollege) = a \n",
    "# print college name \n",
    "print(college) \n",
    "  \n",
    "# print no of student \n",
    "print(student) \n",
    "  \n",
    "# print type of college \n",
    "print(type_ofcollege) \n",
    "  "
   ]
  },
  {
   "cell_type": "code",
   "execution_count": 24,
   "metadata": {},
   "outputs": [
    {
     "name": "stdout",
     "output_type": "stream",
     "text": [
      "x :  10\n",
      "y :  ['Audumbar', ' Vivek ', 'Abhijit ']\n",
      "z :  50\n",
      "\n",
      "x :  10\n",
      "y :  Audumbar\n",
      "z :  [' Vivek ', 'Abhijit ', 50]\n",
      "\n",
      "x :  [10, 'Audumbar', ' Vivek ']\n",
      "y :  Abhijit \n",
      "z :  50\n",
      "\n"
     ]
    }
   ],
   "source": [
    "# unpacking python tuple using * \n",
    "  \n",
    "# first and last will be assigned to x and z \n",
    "# remaining will be assined to y \n",
    "x, *y, z = (10, \"Audumbar\", \" Vivek \", \"Abhijit \", 50) \n",
    "  \n",
    "\n",
    "print('x : ',x) \n",
    "print('y : ',y) \n",
    "print('z : ',z) \n",
    "print()\n",
    "# first and second will be assigned to x and y \n",
    "# remaining will be assined to z \n",
    "x, y, *z = (10, \"Audumbar\", \" Vivek \", \"Abhijit \", 50) \n",
    "print('x : ',x) \n",
    "print('y : ',y) \n",
    "print('z : ',z) \n",
    "print()\n",
    "\n",
    "*x, y, z = (10, \"Audumbar\", \" Vivek \", \"Abhijit \", 50) \n",
    "print('x : ',x) \n",
    "print('y : ',y) \n",
    "print('z : ',z) \n",
    "print()"
   ]
  },
  {
   "cell_type": "markdown",
   "metadata": {},
   "source": [
    "### nested tuples "
   ]
  },
  {
   "cell_type": "code",
   "execution_count": 26,
   "metadata": {},
   "outputs": [
    {
     "name": "stdout",
     "output_type": "stream",
     "text": [
      "((1, 2, 3, 4, 5), ('a', 'b', (10, 11, 12, 13, 14), 'c', 'd'))\n",
      "<class 'tuple'>\n"
     ]
    }
   ],
   "source": [
    "nested_tup = ((1,2,3,4,5),('a','b',(10,11,12,13,14),'c','d'))\n",
    "print(nested_tup)\n",
    "print( type ( nested_tup ))"
   ]
  },
  {
   "cell_type": "code",
   "execution_count": 27,
   "metadata": {},
   "outputs": [
    {
     "name": "stdout",
     "output_type": "stream",
     "text": [
      "13\n"
     ]
    }
   ],
   "source": [
    " # to get 13 \n",
    "print(nested_tup[1][2][3])"
   ]
  },
  {
   "cell_type": "code",
   "execution_count": 28,
   "metadata": {},
   "outputs": [
    {
     "name": "stdout",
     "output_type": "stream",
     "text": [
      "d\n"
     ]
    }
   ],
   "source": [
    "# to get d \n",
    "print(nested_tup[1][4])"
   ]
  }
 ],
 "metadata": {
  "kernelspec": {
   "display_name": "Python 3",
   "language": "python",
   "name": "python3"
  },
  "language_info": {
   "codemirror_mode": {
    "name": "ipython",
    "version": 3
   },
   "file_extension": ".py",
   "mimetype": "text/x-python",
   "name": "python",
   "nbconvert_exporter": "python",
   "pygments_lexer": "ipython3",
   "version": "3.7.4"
  }
 },
 "nbformat": 4,
 "nbformat_minor": 2
}
