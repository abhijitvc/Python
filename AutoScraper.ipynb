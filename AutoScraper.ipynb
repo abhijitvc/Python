{
 "cells": [
  {
   "cell_type": "code",
   "execution_count": null,
   "metadata": {},
   "outputs": [],
   "source": [
    "# !pip install autoscraper"
   ]
  },
  {
   "cell_type": "code",
   "execution_count": 2,
   "metadata": {},
   "outputs": [
    {
     "name": "stdout",
     "output_type": "stream",
     "text": [
      "['How do I merge two dictionaries in a single expression in Python (taking union of dictionaries)?', 'How to call an external command?', 'What are metaclasses in Python?', 'Does Python have a ternary conditional operator?', 'How do you remove duplicates from a list whilst preserving order?', 'Convert bytes to a string', 'How to get line count of a large file cheaply in Python?', \"Does Python have a string 'contains' substring method?\", 'Why is “1000000000000000 in range(1000000000000001)” so fast in Python 3?']\n"
     ]
    }
   ],
   "source": [
    "from autoscraper import AutoScraper\n",
    "\n",
    "url = 'https://stackoverflow.com/questions/2081586/web-scraping-with-python'\n",
    "\n",
    "# We can add one or multiple candidates here.\n",
    "# You can also put urls here to retrieve urls.\n",
    "wanted_list = [\"How to call an external command?\"]\n",
    "\n",
    "scraper = AutoScraper()\n",
    "result = scraper.build(url, wanted_list)\n",
    "print(result)"
   ]
  },
  {
   "cell_type": "code",
   "execution_count": 3,
   "metadata": {},
   "outputs": [
    {
     "data": {
      "text/plain": [
       "['What is the difference between String and string in C#?',\n",
       " 'How do I read / convert an InputStream into a String in Java?',\n",
       " \"Case insensitive 'Contains(string)'\",\n",
       " 'Converting string into datetime',\n",
       " 'How do I make the first letter of a string uppercase in JavaScript?',\n",
       " 'How to replace all occurrences of a string?',\n",
       " 'How to check whether a string contains a substring in JavaScript?',\n",
       " \"Does Python have a string 'contains' substring method?\",\n",
       " 'How do I convert a String to an int in Java?',\n",
       " 'Why is char[] preferred over String for passwords?']"
      ]
     },
     "execution_count": 3,
     "metadata": {},
     "output_type": "execute_result"
    }
   ],
   "source": [
    "scraper.get_result_similar('https://stackoverflow.com/questions/606191/convert-bytes-to-a-string')"
   ]
  }
 ],
 "metadata": {
  "kernelspec": {
   "display_name": "Python 3",
   "language": "python",
   "name": "python3"
  },
  "language_info": {
   "codemirror_mode": {
    "name": "ipython",
    "version": 3
   },
   "file_extension": ".py",
   "mimetype": "text/x-python",
   "name": "python",
   "nbconvert_exporter": "python",
   "pygments_lexer": "ipython3",
   "version": "3.7.4"
  }
 },
 "nbformat": 4,
 "nbformat_minor": 2
}
