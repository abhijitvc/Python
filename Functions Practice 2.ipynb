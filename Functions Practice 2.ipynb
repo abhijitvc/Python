{
 "cells": [
  {
   "cell_type": "markdown",
   "metadata": {},
   "source": [
    "**1.  Producing a list of even numbers with the user inputted range.**"
   ]
  },
  {
   "cell_type": "code",
   "execution_count": null,
   "metadata": {},
   "outputs": [],
   "source": [
    "range1 = int(input(\"Insert a range: \"))\n",
    "\n",
    "def even_numbers(range1):\n",
    "    return (\"Even numbers are: \",[x for x in range(range1) if x%2 == 0]) #for even numbers\n",
    "\n",
    "even_numbers(range1)"
   ]
  },
  {
   "cell_type": "markdown",
   "metadata": {},
   "source": [
    "**2.  Producing a list of even numbers with the user inputted range.**"
   ]
  },
  {
   "cell_type": "code",
   "execution_count": null,
   "metadata": {},
   "outputs": [],
   "source": [
    "range2 = int(input(\"Insert a range: \"))\n",
    "\n",
    "def odd_numbers(range2):\n",
    "    return (\"Odd numbers are: \",[x for x in range(range2) if x%2 != 0]) #for odd numbers\n",
    "\n",
    "odd_numbers(range2)"
   ]
  },
  {
   "cell_type": "markdown",
   "metadata": {},
   "source": [
    "**3. Producing a list of prime numbers from the given range.**"
   ]
  },
  {
   "cell_type": "code",
   "execution_count": null,
   "metadata": {},
   "outputs": [],
   "source": [
    "range3 = int(input(\"Insert a range: \"))\n",
    "\n",
    "def prime_numbers(range3):\n",
    "    return [x for x in range(range3) if all(x % y != 0 for y in range(2, x))]\n",
    "\n",
    "prime_numbers(range3)"
   ]
  },
  {
   "cell_type": "markdown",
   "metadata": {},
   "source": [
    "**4.  Producing a list of Fibonacci series till the range entered by user.**"
   ]
  },
  {
   "cell_type": "code",
   "execution_count": null,
   "metadata": {},
   "outputs": [],
   "source": [
    "fib = int(input(\"Please enter a range:\"))\n",
    "\n",
    "def fibonacci_in_range(fib):\n",
    "    sq_list = [x*x for x in range(fib)]\n",
    "    return (sq_list)\n",
    "\n",
    "fibonacci_in_range(fib)"
   ]
  },
  {
   "cell_type": "markdown",
   "metadata": {},
   "source": [
    "**5. Write a Python program to compute the frequency of the words from the input. The output should output after sorting the key alphanumerically.**"
   ]
  },
  {
   "cell_type": "code",
   "execution_count": null,
   "metadata": {},
   "outputs": [],
   "source": [
    "test_string=str(input(\"Enter string:\"))\n",
    "\n",
    "def frequency_of_words(test_string):\n",
    "    l=[]\n",
    "    l=test_string.split()\n",
    "    wordfreq=[l.count(p) for p in l]\n",
    "    return (dict(zip(l,wordfreq)))\n",
    "\n",
    "frequency_of_words(test_string)"
   ]
  },
  {
   "cell_type": "markdown",
   "metadata": {},
   "source": [
    "**6. Program that accepts a comma separated sequence of words as input and prints the words in a comma-separated sequence after sorting them alphabetically.**"
   ]
  },
  {
   "cell_type": "code",
   "execution_count": null,
   "metadata": {},
   "outputs": [],
   "source": [
    "items = input(\"Enter the comma separated sequence of words: \")\n",
    "\n",
    "def word_sort(items):\n",
    "    words = [word for word in items.split(',')]\n",
    "    return (','.join(sorted(list(set(words)))))\n",
    "\n",
    "word_sort(items)"
   ]
  },
  {
   "cell_type": "markdown",
   "metadata": {},
   "source": [
    "**7. Write a Python program a) To add 'ing' at the end of a given string (length should be at least 3). If the given string already ends with 'ing' then add 'ly' instead. If the string length of the given string 5. is less than 3, leave it unchanged. Sample String : 'abc' Expected Result : 'abcing' Sample String : 'string' Expected Result : 'stringly'.**"
   ]
  },
  {
   "cell_type": "code",
   "execution_count": null,
   "metadata": {},
   "outputs": [],
   "source": [
    "str1 = str(input(\"Enter a string: \"))\n",
    "\n",
    "def add_ly(str1):\n",
    "    if str1.endswith('ing'):\n",
    "        print(str1+'ly')\n",
    "    elif len(str1) <3:\n",
    "        print(str1)\n",
    "\n",
    "add_ly(str1)"
   ]
  },
  {
   "cell_type": "markdown",
   "metadata": {},
   "source": [
    "**8.  To get a string from a given string where all occurrences of its first char have been changed to '$', except the first char itself.**"
   ]
  },
  {
   "cell_type": "code",
   "execution_count": null,
   "metadata": {},
   "outputs": [],
   "source": [
    "string = input('string : ')\n",
    "\n",
    "def add_dollars(string):\n",
    "    new = [] \n",
    "    new_string = ''\n",
    "    for i in list(string):\n",
    "        if i == (string[0]):\n",
    "            new.append('$')\n",
    "        else:\n",
    "            new.append(i)\n",
    "    b = new_string.join(new)\n",
    "    return (string[0]+b[1:])\n",
    "\n",
    "add_dollars(string)"
   ]
  },
  {
   "cell_type": "markdown",
   "metadata": {},
   "source": [
    "**9. Write a python function named moderateDays that is given a dictionary containing the average daily temperature for each day of a week and returns a list of the days in which the average temperature was between 70 and 79 degrees.**"
   ]
  },
  {
   "cell_type": "code",
   "execution_count": null,
   "metadata": {},
   "outputs": [],
   "source": [
    "a = {'Sunday':66, 'Monday':78, 'Tuesday':72, 'Wednesday':69, 'Thursday': 80, 'Friday':75, 'Saturday':80}\n",
    "\n",
    "def moderateDays(a):\n",
    "    l = []\n",
    "    for key, val in a.items():\n",
    "        if val in range(70,80):\n",
    "            l.append(key)\n",
    "    print(l)\n",
    "\n",
    "moderateDays(a)"
   ]
  },
  {
   "cell_type": "markdown",
   "metadata": {},
   "source": [
    "**10.  Write a program to create an input file and then write 10 lines in it further write a function which will read that file and count no of vowels , no of consonants, no of upper case letters, no of lower case letters, no of digits if present, size of minimum word and size of maximum word. Total no of characters and then no of digits like how many a’s, how many b’s etc. Both upper case and lower case separately.**"
   ]
  },
  {
   "cell_type": "code",
   "execution_count": null,
   "metadata": {},
   "outputs": [],
   "source": [
    "f = open('10lines.txt','a')\n",
    "for i in range(1,11):\n",
    "    f.write(input())\n",
    "    \n",
    "f.close()\n",
    "f= open('10lines.txt','r')\n",
    "lines= f.read()\n",
    "print()\n",
    "print()\n",
    "def modify(lines):\n",
    "    lst = [x for x in lines if x!='a'and x!='e' and x!='i'and x!='o' and x!='u' and x!='A' and x!='E' and x!='I' and x!='O' and x!='U']\n",
    "    print('no of consonant : ',len(lst))\n",
    "    lst1 = [x for x in lines if x=='a'or x=='e' or x=='i'or x=='o' or x=='u' or x=='A' or x=='E' or x=='I' or x=='O' or x=='U']\n",
    "    print('no of vowels : ',len(lst1))\n",
    "    lst3 = [i for i in lines if i.isupper()]\n",
    "    print('no of uppercase letter : ' , len(lst3))\n",
    "    lst4 = [x for x in lines if x.isdigit()]\n",
    "    print('no of digits : ',len(lst4))\n",
    "    lst5 = [len(x) for x in lines.split()]\n",
    "    print('size of minimum word',min(lst5))\n",
    "    print('size of maximum word',max(lst5))\n",
    "    lst6 = [x for x in lines if x in ['%','$','*','#','@','~']]\n",
    "    print('total no of char : ',len(lst6))\n",
    "    print('total no of characters ',len(lines))\n",
    "    dic1 = {}\n",
    "    \n",
    "    for i in lines:\n",
    "        if i not in ('@','%','&','*',' ','.','$','#') and i.isdigit()==False:\n",
    "            if i in dic1:\n",
    "                dic1[i] +=1\n",
    "            else:\n",
    "                dic1[i]=1\n",
    "    print(\"Count of all characters  :\\n \")\n",
    "    return dic1\n",
    "\n",
    "            \n",
    "    \n",
    "modify(lines)"
   ]
  },
  {
   "cell_type": "code",
   "execution_count": null,
   "metadata": {},
   "outputs": [],
   "source": []
  }
 ],
 "metadata": {
  "kernelspec": {
   "display_name": "Python 3",
   "language": "python",
   "name": "python3"
  },
  "language_info": {
   "codemirror_mode": {
    "name": "ipython",
    "version": 3
   },
   "file_extension": ".py",
   "mimetype": "text/x-python",
   "name": "python",
   "nbconvert_exporter": "python",
   "pygments_lexer": "ipython3",
   "version": "3.7.4"
  }
 },
 "nbformat": 4,
 "nbformat_minor": 2
}
