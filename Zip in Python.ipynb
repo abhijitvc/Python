{
 "cells": [
  {
   "cell_type": "markdown",
   "metadata": {},
   "source": [
    "**The purpose of zip() is to map the similar index of multiple containers so that they can be used just using as single entity.**"
   ]
  },
  {
   "cell_type": "markdown",
   "metadata": {},
   "source": [
    "Syntax :\n",
    "zip(*iterators)\n",
    "\n",
    "Parameters :\n",
    "Python iterables or containers ( list, string etc )\n",
    "\n",
    "Return Value :\n",
    "Returns a single iterator object, having mapped values from all the containers."
   ]
  },
  {
   "cell_type": "markdown",
   "metadata": {},
   "source": [
    "**zip combines two or more lists into a single variable. Say you have collected a list of customer names, their ages, and their favorite ice cream flavor.**"
   ]
  },
  {
   "cell_type": "code",
   "execution_count": 27,
   "metadata": {},
   "outputs": [
    {
     "name": "stdout",
     "output_type": "stream",
     "text": [
      "[('John', 26, 'cherry'), ('Natasha', 31, 'chocolate'), ('Eric', 39, 'strawberry'), ('Sally', 22, 'lemon')]\n"
     ]
    }
   ],
   "source": [
    "customers = ['John', 'Natasha', 'Eric', 'Sally']\n",
    "ages = [26, 31, 39, 22]\n",
    "flavors = ['cherry', 'chocolate', 'strawberry', 'lemon']\n",
    "\n",
    "combined = zip(customers, ages, flavors) #zipping all the lists together into a tuple\n",
    "customers_ice_cream = list(combined) #converting that tuple into a list\n",
    "print(customers_ice_cream)"
   ]
  },
  {
   "cell_type": "code",
   "execution_count": 2,
   "metadata": {},
   "outputs": [
    {
     "name": "stdout",
     "output_type": "stream",
     "text": [
      "John is 26 years old and likes cherry\n",
      "Natasha is 31 years old and likes chocolate\n",
      "Eric is 39 years old and likes strawberry\n",
      "Sally is 22 years old and likes lemon\n"
     ]
    }
   ],
   "source": [
    "for cust in customers_ice_cream:\n",
    "    print(\"{} is {} years old and likes {}\".format(*cust))"
   ]
  },
  {
   "cell_type": "markdown",
   "metadata": {},
   "source": [
    "**How to unzip?**\n",
    "Unzipping means converting the zipped values back to the individual self as they were. This is done with the help of ' * ' operator."
   ]
  },
  {
   "cell_type": "code",
   "execution_count": 16,
   "metadata": {},
   "outputs": [
    {
     "name": "stdout",
     "output_type": "stream",
     "text": [
      "The zipped result is : [('Manjeet', 4, 40), ('Nikhil', 1, 50), ('Shambhavi', 3, 60), ('Astha', 2, 70)]\n",
      "\n",
      "\n"
     ]
    }
   ],
   "source": [
    "name = [ \"Manjeet\", \"Nikhil\", \"Shambhavi\", \"Astha\" ] \n",
    "roll_no = [ 4, 1, 3, 2 ] \n",
    "marks = [ 40, 50, 60, 70 ] \n",
    "\n",
    "# using zip() to map values \n",
    "mapped = zip(name, roll_no, marks) \n",
    "  \n",
    "# converting values to print as list \n",
    "mapped = list(mapped) \n",
    "  \n",
    "# printing resultant values  \n",
    "print (\"The zipped result is : \",end=\"\") \n",
    "print (mapped) \n",
    "  \n",
    "print(\"\\n\")"
   ]
  },
  {
   "cell_type": "code",
   "execution_count": 14,
   "metadata": {},
   "outputs": [],
   "source": [
    "# unzipping values \n",
    "namz, roll_noz, marksz = zip(*mapped)"
   ]
  },
  {
   "cell_type": "code",
   "execution_count": 11,
   "metadata": {},
   "outputs": [
    {
     "name": "stdout",
     "output_type": "stream",
     "text": [
      "The name list is : ('Manjeet', 'Nikhil', 'Shambhavi', 'Astha')\n"
     ]
    }
   ],
   "source": [
    "# printing initial lists \n",
    "\n",
    "print (\"The name list is : \",end=\"\") \n",
    "print (namz)"
   ]
  },
  {
   "cell_type": "code",
   "execution_count": 12,
   "metadata": {},
   "outputs": [
    {
     "name": "stdout",
     "output_type": "stream",
     "text": [
      "The roll_no list is : (4, 1, 3, 2)\n"
     ]
    }
   ],
   "source": [
    "print (\"The roll_no list is : \",end=\"\") \n",
    "print (roll_noz) "
   ]
  },
  {
   "cell_type": "code",
   "execution_count": 13,
   "metadata": {},
   "outputs": [
    {
     "name": "stdout",
     "output_type": "stream",
     "text": [
      "The marks list is : (40, 50, 60, 70)\n"
     ]
    }
   ],
   "source": [
    "print (\"The marks list is : \",end=\"\") \n",
    "print (marksz)"
   ]
  },
  {
   "cell_type": "markdown",
   "metadata": {},
   "source": [
    "Python code to demonstrate the application of  zip()"
   ]
  },
  {
   "cell_type": "code",
   "execution_count": 19,
   "metadata": {},
   "outputs": [],
   "source": [
    "# initializing list of players. \n",
    "players = [ \"Sachin\", \"Sehwag\", \"Gambhir\", \"Dravid\", \"Raina\" ] \n",
    "  \n",
    "# initializing their scores \n",
    "scores = [100, 101, 17, 135, 43 ]"
   ]
  },
  {
   "cell_type": "code",
   "execution_count": 25,
   "metadata": {},
   "outputs": [
    {
     "name": "stdout",
     "output_type": "stream",
     "text": [
      "Player :  Sachin     Score : 100\n",
      "Player :  Sehwag     Score : 101\n",
      "Player :  Gambhir     Score : 17\n",
      "Player :  Dravid     Score : 135\n",
      "Player :  Raina     Score : 43\n",
      "                    Total:  396\n"
     ]
    }
   ],
   "source": [
    "# printing players and scores. \n",
    "for pl, sc in zip(players, scores): \n",
    "    print (\"Player :  %s     Score : %d\" %(pl, sc))\n",
    "print(\"                    Total: \",sum(scores))"
   ]
  }
 ],
 "metadata": {
  "kernelspec": {
   "display_name": "Python 3",
   "language": "python",
   "name": "python3"
  },
  "language_info": {
   "codemirror_mode": {
    "name": "ipython",
    "version": 3
   },
   "file_extension": ".py",
   "mimetype": "text/x-python",
   "name": "python",
   "nbconvert_exporter": "python",
   "pygments_lexer": "ipython3",
   "version": "3.7.4"
  }
 },
 "nbformat": 4,
 "nbformat_minor": 2
}
