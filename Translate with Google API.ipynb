{
 "cells": [
  {
   "cell_type": "markdown",
   "metadata": {},
   "source": [
    "*Install googletrans if not already installed.*"
   ]
  },
  {
   "cell_type": "code",
   "execution_count": 1,
   "metadata": {},
   "outputs": [],
   "source": [
    "# !pip install googletrans"
   ]
  },
  {
   "cell_type": "markdown",
   "metadata": {},
   "source": [
    "*The most basic use of the Google Translate API is, of course, translating words or sentences from one language into another. To do so, we have to import the Translator class from googletrans module.*"
   ]
  },
  {
   "cell_type": "code",
   "execution_count": 1,
   "metadata": {},
   "outputs": [],
   "source": [
    "import googletrans\n",
    "from googletrans import Translator"
   ]
  },
  {
   "cell_type": "markdown",
   "metadata": {},
   "source": [
    "*Print and identify what languages and how many languages are covered under this API*"
   ]
  },
  {
   "cell_type": "code",
   "execution_count": 3,
   "metadata": {},
   "outputs": [
    {
     "name": "stdout",
     "output_type": "stream",
     "text": [
      "{'af': 'afrikaans', 'sq': 'albanian', 'am': 'amharic', 'ar': 'arabic', 'hy': 'armenian', 'az': 'azerbaijani', 'eu': 'basque', 'be': 'belarusian', 'bn': 'bengali', 'bs': 'bosnian', 'bg': 'bulgarian', 'ca': 'catalan', 'ceb': 'cebuano', 'ny': 'chichewa', 'zh-cn': 'chinese (simplified)', 'zh-tw': 'chinese (traditional)', 'co': 'corsican', 'hr': 'croatian', 'cs': 'czech', 'da': 'danish', 'nl': 'dutch', 'en': 'english', 'eo': 'esperanto', 'et': 'estonian', 'tl': 'filipino', 'fi': 'finnish', 'fr': 'french', 'fy': 'frisian', 'gl': 'galician', 'ka': 'georgian', 'de': 'german', 'el': 'greek', 'gu': 'gujarati', 'ht': 'haitian creole', 'ha': 'hausa', 'haw': 'hawaiian', 'iw': 'hebrew', 'he': 'hebrew', 'hi': 'hindi', 'hmn': 'hmong', 'hu': 'hungarian', 'is': 'icelandic', 'ig': 'igbo', 'id': 'indonesian', 'ga': 'irish', 'it': 'italian', 'ja': 'japanese', 'jw': 'javanese', 'kn': 'kannada', 'kk': 'kazakh', 'km': 'khmer', 'ko': 'korean', 'ku': 'kurdish (kurmanji)', 'ky': 'kyrgyz', 'lo': 'lao', 'la': 'latin', 'lv': 'latvian', 'lt': 'lithuanian', 'lb': 'luxembourgish', 'mk': 'macedonian', 'mg': 'malagasy', 'ms': 'malay', 'ml': 'malayalam', 'mt': 'maltese', 'mi': 'maori', 'mr': 'marathi', 'mn': 'mongolian', 'my': 'myanmar (burmese)', 'ne': 'nepali', 'no': 'norwegian', 'or': 'odia', 'ps': 'pashto', 'fa': 'persian', 'pl': 'polish', 'pt': 'portuguese', 'pa': 'punjabi', 'ro': 'romanian', 'ru': 'russian', 'sm': 'samoan', 'gd': 'scots gaelic', 'sr': 'serbian', 'st': 'sesotho', 'sn': 'shona', 'sd': 'sindhi', 'si': 'sinhala', 'sk': 'slovak', 'sl': 'slovenian', 'so': 'somali', 'es': 'spanish', 'su': 'sundanese', 'sw': 'swahili', 'sv': 'swedish', 'tg': 'tajik', 'ta': 'tamil', 'te': 'telugu', 'th': 'thai', 'tr': 'turkish', 'uk': 'ukrainian', 'ur': 'urdu', 'ug': 'uyghur', 'uz': 'uzbek', 'vi': 'vietnamese', 'cy': 'welsh', 'xh': 'xhosa', 'yi': 'yiddish', 'yo': 'yoruba', 'zu': 'zulu'}\n",
      "\n",
      "Total Languages Supported:  107\n"
     ]
    }
   ],
   "source": [
    "print(googletrans.LANGUAGES)\n",
    "print()\n",
    "print(\"Total Languages Supported: \", len(googletrans.LANGUAGES))"
   ]
  },
  {
   "cell_type": "code",
   "execution_count": 4,
   "metadata": {},
   "outputs": [],
   "source": [
    "\n",
    "    # src: The source language\n",
    "    \n",
    "    # dest: Destination language, which is set to English (en)\n",
    "    \n",
    "    # origin: Original text, that is which we will type in our example\n",
    "    \n",
    "    # text: The text we want to be translated\n",
    "    "
   ]
  },
  {
   "cell_type": "code",
   "execution_count": 2,
   "metadata": {},
   "outputs": [],
   "source": [
    "translator = Translator() #create an object of the Translator class"
   ]
  },
  {
   "cell_type": "code",
   "execution_count": 6,
   "metadata": {},
   "outputs": [
    {
     "name": "stdout",
     "output_type": "stream",
     "text": [
      "en\n",
      "mr\n",
      "!! Om Gam Ganapataye Namaha !!\n",
      "!! ओम गं गणपतये नमहा !!\n"
     ]
    }
   ],
   "source": [
    "text = \"!! Om Gam Ganapataye Namaha !!\"\n",
    "\n",
    "result = translator.translate(text, src='en', dest='mr') #scr='en' is source=English, dest='mr' is destination=marathi\n",
    "                                                         #translate() method of the Translator() class\n",
    "\n",
    "print(result.src)\n",
    "print(result.dest)\n",
    "print(result.origin)\n",
    "print(result.text)"
   ]
  },
  {
   "cell_type": "markdown",
   "metadata": {},
   "source": [
    "**Translate from English to Marathi**"
   ]
  },
  {
   "cell_type": "code",
   "execution_count": 9,
   "metadata": {},
   "outputs": [
    {
     "name": "stdout",
     "output_type": "stream",
     "text": [
      "en\n",
      "mr\n",
      "Imagine there's no countries.  It isn't hard to do.  Nothing to kill or die for and no religion too.  Imagine all the people, living life in peace.  You may say I'm a dreamer, but I'm not the only one.  I hope someday you will join us and the world will be as one.  Imagine no possessions.  I wonder if you can.  No need for greed or hunger, a brotherhood of man.  Imagine…by John Lennon.\n",
      "\n",
      "\n",
      "कल्पना करा की कोणतेही देश नाहीत. हे करणे कठीण नाही. मारण्यासाठी किंवा मरण्यासाठी काहीही नाही आणि धर्मही नाही. शांततेत आयुष्य जगणा all्या सर्व लोकांची कल्पना करा. तू म्हणशील हि कि मी स्वप्नाळू आहे पण मी एकटाच असा नाहीये. मला आशा आहे की एखाद्या दिवशी आपण आमच्यात सामील व्हाल आणि जग एकसारखे होईल. कोणत्याही मालमत्तेची कल्पना करू नका. मला आश्चर्य आहे की आपण हे करू शकता का. लोभ किंवा भुकेल्याची गरज नाही, मनुष्याचा बंधुभाव. जॉन लेनन द्वारे कल्पना करा ...\n"
     ]
    }
   ],
   "source": [
    "text = \"Imagine there's no countries.  It isn't hard to do.  Nothing to kill or die for and no religion too.  Imagine all the people, living life in peace.  You may say I'm a dreamer, but I'm not the only one.  I hope someday you will join us and the world will be as one.  Imagine no possessions.  I wonder if you can.  No need for greed or hunger, a brotherhood of man.  Imagine…by John Lennon.\"\n",
    "\n",
    "result = translator.translate(text, src='en', dest='mr') #scr='en' is source=English, dest='mr' is destination=marathi\n",
    "                                                         #translate() method of the Translator() class\n",
    "\n",
    "print(result.src)\n",
    "print(result.dest)\n",
    "print(result.origin)\n",
    "print()\n",
    "print()\n",
    "print(result.text)"
   ]
  },
  {
   "cell_type": "markdown",
   "metadata": {},
   "source": [
    "**Translate from English to Hindi**"
   ]
  },
  {
   "cell_type": "code",
   "execution_count": 10,
   "metadata": {},
   "outputs": [
    {
     "name": "stdout",
     "output_type": "stream",
     "text": [
      "en\n",
      "hi\n",
      "Imagine there's no countries.  It isn't hard to do.  Nothing to kill or die for and no religion too.  Imagine all the people, living life in peace.  You may say I'm a dreamer, but I'm not the only one.  I hope someday you will join us and the world will be as one.  Imagine no possessions.  I wonder if you can.  No need for greed or hunger, a brotherhood of man.  Imagine…by John Lennon.\n",
      "\n",
      "\n",
      "कल्पना करें कि कोई देश नहीं है। यह करना मुश्किल नहीं है। कुछ भी नहीं और न ही किसी धर्म को मारने या मरने के लिए। कल्पना करें कि सभी लोग शांतिपूर्वक जी रहे हैं। आप मुझे एक सपने देखने वाला कह सकते हैं लेकिन मैं केवल अकेला ऐसा नहीं हूँ। मुझे उम्मीद है कि किसी दिन आप हमारे साथ होंगे और दुनिया एक होगी। बिना किसी अधिकार के कल्पना करें। मुझे खुशी है यदि तुम कर सकते हो। लालच या भूख की जरूरत नहीं, इंसान का भाईचारा। कल्पना कीजिए ... जॉन लेनन द्वारा।\n"
     ]
    }
   ],
   "source": [
    "text = \"Imagine there's no countries.  It isn't hard to do.  Nothing to kill or die for and no religion too.  Imagine all the people, living life in peace.  You may say I'm a dreamer, but I'm not the only one.  I hope someday you will join us and the world will be as one.  Imagine no possessions.  I wonder if you can.  No need for greed or hunger, a brotherhood of man.  Imagine…by John Lennon.\"\n",
    "\n",
    "result = translator.translate(text, src='en', dest='hi') #scr='en' is source=English, dest='mr' is destination=marathi\n",
    "                                                         #translate() method of the Translator() class\n",
    "\n",
    "print(result.src)\n",
    "print(result.dest)\n",
    "print(result.origin)\n",
    "print()\n",
    "print()\n",
    "print(result.text)"
   ]
  },
  {
   "cell_type": "markdown",
   "metadata": {},
   "source": [
    "**Translate from English to Gujrati**"
   ]
  },
  {
   "cell_type": "code",
   "execution_count": 4,
   "metadata": {},
   "outputs": [
    {
     "name": "stdout",
     "output_type": "stream",
     "text": [
      "en\n",
      "gu\n",
      "Imagine there's no countries.  It isn't hard to do.  Nothing to kill or die for and no religion too.  Imagine all the people, living life in peace.  You may say I'm a dreamer, but I'm not the only one.  I hope someday you will join us and the world will be as one.  Imagine no possessions.  I wonder if you can.  No need for greed or hunger, a brotherhood of man.  Imagine…by John Lennon. Abhijit Chendvankar\n",
      "\n",
      "\n",
      "કલ્પના કરો કે ત્યાં કોઈ દેશ નથી. તે કરવું મુશ્કેલ નથી. મારવા અથવા મરવા માટે કંઈ નથી અને ધર્મ પણ નથી. ધારો કે બધા લોકો શાંતિ થી જીવતા હોય. તમે એમ કહી શકો છો કે હું સપના જોવું છું, પણ હું એકલો નથી. મને આશા છે કે કોઈ દિવસ તમે અમારી સાથે જોડાશો અને દુનિયા એક જેવી થઈ જશે. કોઈ સંપત્તિની કલ્પના નહીં. હું આશ્ચર્ય જો તમે કરી શકો છો. લોભ અથવા ભૂખની જરૂર નથી, માણસનો ભાઈચારો. કલ્પના કરો ... જ્હોન લેનન દ્વારા. અભિજિત ચેંડવંકર\n"
     ]
    }
   ],
   "source": [
    "text = \"Imagine there's no countries.  It isn't hard to do.  Nothing to kill or die for and no religion too.  Imagine all the people, living life in peace.  You may say I'm a dreamer, but I'm not the only one.  I hope someday you will join us and the world will be as one.  Imagine no possessions.  I wonder if you can.  No need for greed or hunger, a brotherhood of man.  Imagine…by John Lennon. Abhijit Chendvankar\"\n",
    "\n",
    "result = translator.translate(text, src='en', dest='gu') #scr='en' is source=English, dest='mr' is destination=marathi\n",
    "                                                         #translate() method of the Translator() class\n",
    "\n",
    "print(result.src)\n",
    "print(result.dest)\n",
    "print(result.origin)\n",
    "print()\n",
    "print()\n",
    "print(result.text)"
   ]
  },
  {
   "cell_type": "code",
   "execution_count": null,
   "metadata": {},
   "outputs": [],
   "source": []
  }
 ],
 "metadata": {
  "kernelspec": {
   "display_name": "Python 3",
   "language": "python",
   "name": "python3"
  },
  "language_info": {
   "codemirror_mode": {
    "name": "ipython",
    "version": 3
   },
   "file_extension": ".py",
   "mimetype": "text/x-python",
   "name": "python",
   "nbconvert_exporter": "python",
   "pygments_lexer": "ipython3",
   "version": "3.7.4"
  }
 },
 "nbformat": 4,
 "nbformat_minor": 2
}
