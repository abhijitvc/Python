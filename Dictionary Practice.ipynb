{
 "cells": [
  {
   "cell_type": "code",
   "execution_count": 1,
   "metadata": {},
   "outputs": [
    {
     "name": "stdout",
     "output_type": "stream",
     "text": [
      "['two', 'three', 'one', 'five']\n",
      "['five', 'one', 'three', 'two']\n"
     ]
    }
   ],
   "source": [
    "#1. Write a Python script to sort (ascending and descending) a dictionary by value.\n",
    "#NOTE: dictionary when sorted this way is sorted in ascending and descending by ASCII values.\n",
    "\n",
    "dict1 = {1:\"one\",2:\"two\",5:\"five\",3:\"three\"}\n",
    "print(sorted(dict1.values(),reverse=True))\n",
    "print(sorted(dict1.values()))"
   ]
  },
  {
   "cell_type": "code",
   "execution_count": 4,
   "metadata": {},
   "outputs": [
    {
     "name": "stdout",
     "output_type": "stream",
     "text": [
      "[1, 2, 3, 5]\n",
      "['five', 'one', 'three', 'two']\n",
      "[5, 3, 2, 1]\n",
      "['two', 'three', 'one', 'five']\n"
     ]
    }
   ],
   "source": [
    "dict1 = {1:\"one\",2:\"two\",5:\"five\",3:\"three\"}\n",
    "\n",
    "print(sorted(dict1.keys()))\n",
    "print(sorted(dict1.values()))\n",
    "print(sorted(dict1.keys(),reverse=True))\n",
    "print(sorted(dict1.values(),reverse=True))"
   ]
  },
  {
   "cell_type": "code",
   "execution_count": 5,
   "metadata": {},
   "outputs": [
    {
     "name": "stdout",
     "output_type": "stream",
     "text": [
      "{1: 'one', 2: 'two', 5: 'five', 3: 'three', 4: 'four'}\n"
     ]
    }
   ],
   "source": [
    "#2.  Write a Python script to add a key to a dictionary.\n",
    "\n",
    "dict1 = {1:\"one\",2:\"two\",5:\"five\",3:\"three\"}\n",
    "dict1[4]=\"four\"\n",
    "print(dict1)"
   ]
  },
  {
   "cell_type": "code",
   "execution_count": 2,
   "metadata": {},
   "outputs": [
    {
     "name": "stdout",
     "output_type": "stream",
     "text": [
      "{1: 10, 2: 20, 3: 30, 4: 40}\n",
      "\n",
      "<class 'dict'>\n"
     ]
    }
   ],
   "source": [
    "#3. Write a Python script to concatenate following dictionaries to create a new one.\n",
    "\n",
    "#Sample Dictionary: dic1={1:10,2:20} dic2={3:30,4:40}\n",
    "\n",
    "dic1={1:10,2:20}\n",
    "dic2={3:30,4:40}\n",
    "dic1.update(dic2)\n",
    "print(dic1)\n",
    "print()\n",
    "print(type(dic1))"
   ]
  },
  {
   "cell_type": "code",
   "execution_count": 2,
   "metadata": {},
   "outputs": [
    {
     "name": "stdout",
     "output_type": "stream",
     "text": [
      "{1: 10, 2: 20, 3: 30, 4: 40}\n"
     ]
    }
   ],
   "source": [
    "dic1={1:10,2:20}\n",
    "dic2={3:30,4:40}\n",
    "\n",
    "dic1.update(dic2)\n",
    "print(dic1)"
   ]
  },
  {
   "cell_type": "code",
   "execution_count": 7,
   "metadata": {},
   "outputs": [
    {
     "name": "stdout",
     "output_type": "stream",
     "text": [
      "False\n",
      "\n",
      "True\n"
     ]
    }
   ],
   "source": [
    "#4.  Write a Python script to check whether a given key already exists in a dictionary.\n",
    "\n",
    "dict1 = {1:\"one\",2:\"two\",5:\"five\",3:\"three\"}\n",
    "print(4 in dict1)\n",
    "print()\n",
    "print(2 in dict1)"
   ]
  },
  {
   "cell_type": "code",
   "execution_count": 2,
   "metadata": {},
   "outputs": [
    {
     "name": "stdout",
     "output_type": "stream",
     "text": [
      "1 2 5 3 "
     ]
    }
   ],
   "source": [
    "#5.  Write a Python program to iterate over dictionaries using for loops.\n",
    "\n",
    "dict1 = {1:\"one\",2:\"two\",5:\"five\",3:\"three\"}\n",
    "for i in dict1.keys():\n",
    "    print(i,end=' ')"
   ]
  },
  {
   "cell_type": "code",
   "execution_count": 14,
   "metadata": {},
   "outputs": [
    {
     "name": "stdout",
     "output_type": "stream",
     "text": [
      "one two five three "
     ]
    }
   ],
   "source": [
    "dict1 = {1:\"one\",2:\"two\",5:\"five\",3:\"three\"}\n",
    "\n",
    "for i in dict1.values():\n",
    "    print(i,end = \" \")"
   ]
  },
  {
   "cell_type": "code",
   "execution_count": 20,
   "metadata": {},
   "outputs": [
    {
     "name": "stdout",
     "output_type": "stream",
     "text": [
      "{0: 0, 1: 1, 2: 4, 3: 9, 4: 16, 5: 25, 6: 36}\n"
     ]
    }
   ],
   "source": [
    "#6. Write a Python script to generate and print a dictionary that contains a number (between 1 and n) in the form (x, x*x).\n",
    "\n",
    "dict2 = {x:x*x for x in range (7)}\n",
    "print(dict2)"
   ]
  },
  {
   "cell_type": "code",
   "execution_count": 4,
   "metadata": {},
   "outputs": [
    {
     "name": "stdout",
     "output_type": "stream",
     "text": [
      "{1: 1, 2: 4, 3: 9, 4: 16, 5: 25, 6: 36, 7: 49, 8: 64, 9: 81, 10: 100, 11: 121, 12: 144, 13: 169, 14: 196, 15: 225}\n"
     ]
    }
   ],
   "source": [
    "#7. Write a Python script to print a dictionary where the keys are numbers between 1 and 15 (both included) and\n",
    "#the values are square of keysSample Dictionary.\n",
    "\n",
    "dict3 = {x:x*x for x in range(1,16)}\n",
    "print(dict3)"
   ]
  },
  {
   "cell_type": "code",
   "execution_count": 18,
   "metadata": {},
   "outputs": [
    {
     "name": "stdout",
     "output_type": "stream",
     "text": [
      "{9: 1, 8: 2, 7: 3, 6: 4, 5: 5, 4: 6}\n"
     ]
    }
   ],
   "source": [
    "#8. Write a Python script to merge two Python dictionaries.\n",
    "\n",
    "dict4 = {9:1,8:2,7:3}\n",
    "dict5 = {6:4,5:5,4:6}\n",
    "dict4.update(dict5)\n",
    "print(dict4)"
   ]
  },
  {
   "cell_type": "code",
   "execution_count": 24,
   "metadata": {},
   "outputs": [
    {
     "data": {
      "text/plain": [
       "24"
      ]
     },
     "execution_count": 24,
     "metadata": {},
     "output_type": "execute_result"
    }
   ],
   "source": [
    "#9. Write a Python program to sum all the items in a dictionary.\n",
    "\n",
    "dict5 = {6:4,5:5,4:6,9:8}\n",
    "sum(dict5)"
   ]
  },
  {
   "cell_type": "code",
   "execution_count": 23,
   "metadata": {},
   "outputs": [
    {
     "data": {
      "text/plain": [
       "15"
      ]
     },
     "execution_count": 23,
     "metadata": {},
     "output_type": "execute_result"
    }
   ],
   "source": [
    "dict5 = {6:4,5:5,4:6}\n",
    "sum(dict5.values())"
   ]
  },
  {
   "cell_type": "markdown",
   "metadata": {},
   "source": [
    "#10. Write a Python program to multiply all the items in a dictionary."
   ]
  },
  {
   "cell_type": "code",
   "execution_count": 5,
   "metadata": {},
   "outputs": [
    {
     "name": "stdout",
     "output_type": "stream",
     "text": [
      "120\n"
     ]
    }
   ],
   "source": [
    "dict5 = {6:4,5:5,4:6}\n",
    "total = 1\n",
    "\n",
    "for i in dict5.values():\n",
    "    total = total * i\n",
    "print(total)"
   ]
  },
  {
   "cell_type": "code",
   "execution_count": 19,
   "metadata": {},
   "outputs": [
    {
     "name": "stdout",
     "output_type": "stream",
     "text": [
      "72\n"
     ]
    }
   ],
   "source": [
    "dict5 = {6:4,3:5,4:6}\n",
    "total = 1\n",
    "\n",
    "for i in dict5.keys():\n",
    "    total = total * i\n",
    "print(total)"
   ]
  },
  {
   "cell_type": "code",
   "execution_count": 43,
   "metadata": {},
   "outputs": [
    {
     "name": "stdout",
     "output_type": "stream",
     "text": [
      "{1: 3, 2: 4, 3: 9}\n"
     ]
    }
   ],
   "source": [
    "#11. Write a Python program to remove a key from a dictionary.\n",
    "\n",
    "dict6 = {1:3,2:4,4:7,3:9}\n",
    "dict6.pop(4)\n",
    "print(dict6)"
   ]
  },
  {
   "cell_type": "markdown",
   "metadata": {},
   "source": [
    "#12. Write a Python program to map two lists into a dictionary.\n",
    "\n",
    "list1 = [1,2,3,3,4]\n"
   ]
  },
  {
   "cell_type": "code",
   "execution_count": 31,
   "metadata": {},
   "outputs": [
    {
     "name": "stdout",
     "output_type": "stream",
     "text": [
      "{1: 2, 3: 4, 5: 6, 7: 8}\n",
      "<class 'dict'>\n"
     ]
    }
   ],
   "source": [
    "#12. Write a Python program to map two lists into a dictionary.\n",
    "\n",
    "list1 = [1,3,5,7,9]\n",
    "list2 = [2,4,6,8]\n",
    "\n",
    "dict7 = dict(zip(list1,list2))\n",
    "\n",
    "\n",
    "print(dict7)\n",
    "print(type(dict7))"
   ]
  },
  {
   "cell_type": "code",
   "execution_count": 50,
   "metadata": {},
   "outputs": [
    {
     "name": "stdout",
     "output_type": "stream",
     "text": [
      "[1, 2, 3, 5]\n"
     ]
    }
   ],
   "source": [
    "#13. Write a Python program to sort a dictionary by key.\n",
    "\n",
    "dict1 = {1:\"one\",2:\"two\",5:\"five\",3:\"three\"}\n",
    "print(sorted(dict1.keys()))"
   ]
  },
  {
   "cell_type": "code",
   "execution_count": 1,
   "metadata": {},
   "outputs": [
    {
     "name": "stdout",
     "output_type": "stream",
     "text": [
      "[(1, 'one'), (2, 'two'), (3, 'three'), (5, 'five')]\n"
     ]
    }
   ],
   "source": [
    "dict1 = {1:\"one\",2:\"two\",5:\"five\",3:\"three\"}\n",
    "print(sorted(dict1.items()))"
   ]
  },
  {
   "cell_type": "code",
   "execution_count": 29,
   "metadata": {},
   "outputs": [
    {
     "name": "stdout",
     "output_type": "stream",
     "text": [
      "111\n",
      "\n",
      "4\n",
      "Min Key:  1\n"
     ]
    }
   ],
   "source": [
    "#14.  Write a Python program to get the maximum and minimum value in a dictionary.\n",
    "\n",
    "dict8 = {1:22,2:4,3:44,4:5,55:111}\n",
    "print(max(dict8.values()))\n",
    "print()\n",
    "print(min(dict8.values()))\n",
    "(print)\n",
    "print(\"Min Key: \",min(dict8.keys()))"
   ]
  },
  {
   "cell_type": "code",
   "execution_count": 4,
   "metadata": {},
   "outputs": [
    {
     "name": "stdout",
     "output_type": "stream",
     "text": [
      "(55, 111)\n"
     ]
    }
   ],
   "source": [
    "dict8 = {1:22,2:4,3:44,4:5,55:111}\n",
    "print(max(dict8.items()))"
   ]
  },
  {
   "cell_type": "code",
   "execution_count": 9,
   "metadata": {},
   "outputs": [
    {
     "name": "stdout",
     "output_type": "stream",
     "text": [
      "{1: 22, 2: 4, 3: 44, 4: 5, 55: 111}\n"
     ]
    }
   ],
   "source": [
    "#15. Write a Python program to remove duplicates from Dictionary.\n",
    "\n",
    "dict9 = {1:22,2:4,3:44,4:5,55:111,6:22,8:4}\n",
    "\n",
    "result = {}\n",
    "\n",
    "for key,value in dict9.items():\n",
    "    if value not in result.values():\n",
    "        result[key] = value\n",
    "\n",
    "print(result)"
   ]
  },
  {
   "cell_type": "code",
   "execution_count": 12,
   "metadata": {},
   "outputs": [
    {
     "name": "stdout",
     "output_type": "stream",
     "text": [
      "Dictionary is empty\n"
     ]
    }
   ],
   "source": [
    "#16. Write a Python program to check a dictionary is empty or not.\n",
    "\n",
    "dict10 = {}\n",
    "if not dict10:\n",
    "    print(\"Dictionary is empty\")"
   ]
  },
  {
   "cell_type": "code",
   "execution_count": 13,
   "metadata": {},
   "outputs": [
    {
     "name": "stdout",
     "output_type": "stream",
     "text": [
      "{'a': 400, 'b': 400, 'c': 300, 'd': 400}\n"
     ]
    }
   ],
   "source": [
    "# 17.  Write a Python program to combine two dictionaries adding values for common key.\n",
    "\n",
    "# d1 = {'a': 100, 'b': 200, 'c':300}\n",
    "# d2 = {'a': 300, 'b': 200, 'd':400}\n",
    "# Sample output: Counter({'a': 400, 'b': 400, 'd': 400, 'c': 300})\n",
    "\n",
    "d1 = {'a': 100, 'b': 200, 'c': 300}\n",
    "\n",
    "d2 = {'a': 300, 'b': 200, 'd': 400}\n",
    "\n",
    "d3 = dict(d1)\n",
    "\n",
    "d3.update(d2)\n",
    "\n",
    "for i,j in d1.items():\n",
    "    for x,y in d2.items():\n",
    "        if i == x:\n",
    "            d3[i]=(j+y)\n",
    "\n",
    "print(d3)"
   ]
  },
  {
   "cell_type": "code",
   "execution_count": 14,
   "metadata": {},
   "outputs": [
    {
     "name": "stdout",
     "output_type": "stream",
     "text": [
      "{1: {2: {3: {4: {}}}}}\n"
     ]
    }
   ],
   "source": [
    "# 18. Write a Python program to convert a list into a nested dictionary of keys.\n",
    "\n",
    "num_list = [1, 2, 3, 4]\n",
    "new_dict = current = {}\n",
    "for name in num_list:\n",
    "    current[name] = {}\n",
    "    current = current[name]\n",
    "print(new_dict)"
   ]
  },
  {
   "cell_type": "code",
   "execution_count": 16,
   "metadata": {},
   "outputs": [
    {
     "name": "stdout",
     "output_type": "stream",
     "text": [
      "{'n1': [1, 2, 3], 'n2': [1, 2, 5], 'n3': [2, 3, 4]}\n"
     ]
    }
   ],
   "source": [
    "#19. Write a Python program to sort a list alphabetically in a dictionary.\n",
    "\n",
    "num = {'n1': [2, 3, 1], 'n2': [5, 1, 2], 'n3': [3, 2, 4]}\n",
    "sorted_dict = {x: sorted(y) for x, y in num.items()}\n",
    "print(sorted_dict)"
   ]
  },
  {
   "cell_type": "markdown",
   "metadata": {},
   "source": [
    "# 20. Write a Python program to remove spaces from dictionary keys."
   ]
  },
  {
   "cell_type": "code",
   "execution_count": 17,
   "metadata": {},
   "outputs": [
    {
     "name": "stdout",
     "output_type": "stream",
     "text": [
      "{'Bob': '1', 'Dylan': '2'}\n"
     ]
    }
   ],
   "source": [
    "dict8 = {'Bo b': '1','Dy lan': '2'}\n",
    "\n",
    "dict8 = {x.replace(' ',''):v for x,v in dict8.items()}\n",
    "\n",
    "print(dict8)"
   ]
  }
 ],
 "metadata": {
  "kernelspec": {
   "display_name": "Python 3",
   "language": "python",
   "name": "python3"
  },
  "language_info": {
   "codemirror_mode": {
    "name": "ipython",
    "version": 3
   },
   "file_extension": ".py",
   "mimetype": "text/x-python",
   "name": "python",
   "nbconvert_exporter": "python",
   "pygments_lexer": "ipython3",
   "version": "3.7.4"
  }
 },
 "nbformat": 4,
 "nbformat_minor": 2
}
