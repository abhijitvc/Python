{
 "cells": [
  {
   "cell_type": "markdown",
   "metadata": {},
   "source": [
    "# 1. Write a Python program to calculate the length of a string."
   ]
  },
  {
   "cell_type": "code",
   "execution_count": 18,
   "metadata": {},
   "outputs": [
    {
     "data": {
      "text/plain": [
       "2"
      ]
     },
     "execution_count": 18,
     "metadata": {},
     "output_type": "execute_result"
    }
   ],
   "source": [
    "str1 = ('Rahul','Dravid')\n",
    "len(str1)"
   ]
  },
  {
   "cell_type": "markdown",
   "metadata": {},
   "source": [
    "# 2. Write a Python program to remove the nth index character from a nonempty string."
   ]
  },
  {
   "cell_type": "code",
   "execution_count": 21,
   "metadata": {},
   "outputs": [
    {
     "name": "stdout",
     "output_type": "stream",
     "text": [
      "Rahul\n",
      "Dravid\n"
     ]
    }
   ],
   "source": [
    "str1 = ('Rahul','Sharad','Dravid')\n",
    "print(str1[0])\n",
    "print(str1[-1])"
   ]
  },
  {
   "cell_type": "markdown",
   "metadata": {},
   "source": [
    "# 3. Write a Python program to change a given string to a new string where the first and last chars have been exchanged."
   ]
  },
  {
   "cell_type": "code",
   "execution_count": 34,
   "metadata": {},
   "outputs": [
    {
     "name": "stdout",
     "output_type": "stream",
     "text": [
      "Original String:  ('Malcolm', 'Denzil', 'Marshall')\n",
      "\n",
      "Changed String:  ('Marshall', 'Denzil', 'Malcolm')\n"
     ]
    }
   ],
   "source": [
    "str1 = ('Malcolm','Denzil','Marshall')\n",
    "print(\"Original String: \",str1)\n",
    "print()\n",
    "print(\"Changed String: \",(str1[::-1]))"
   ]
  },
  {
   "cell_type": "markdown",
   "metadata": {},
   "source": [
    "# 4. Write a Python program to remove the characters which have odd index values of a given string."
   ]
  },
  {
   "cell_type": "code",
   "execution_count": 38,
   "metadata": {},
   "outputs": [
    {
     "name": "stdout",
     "output_type": "stream",
     "text": [
      "Original String:  ('mary', 'had', 'a', 'little', 'lamb')\n",
      "\n",
      "had little "
     ]
    }
   ],
   "source": [
    "str2 = ('mary','had','a','little','lamb')\n",
    "print(\"Original String: \",str2)\n",
    "print()\n",
    "for i in range (len(str2)):\n",
    "    if i % 2!=0:\n",
    "        print(str2[i], end = ' ')"
   ]
  },
  {
   "cell_type": "code",
   "execution_count": 41,
   "metadata": {},
   "outputs": [
    {
     "name": "stdout",
     "output_type": "stream",
     "text": [
      "quick fox over lazy "
     ]
    }
   ],
   "source": [
    "str2 = ('the','quick','brown','fox','jumps','over','the','lazy','dog')\n",
    "\n",
    "for i in range(len(str2)):\n",
    "    if i % 2 != 0:\n",
    "        print(st[i],end=' ')"
   ]
  },
  {
   "cell_type": "markdown",
   "metadata": {},
   "source": [
    "# 5. Write a Python program to count the occurrences of each word in a given sentence."
   ]
  },
  {
   "cell_type": "code",
   "execution_count": 1,
   "metadata": {},
   "outputs": [
    {
     "name": "stdout",
     "output_type": "stream",
     "text": [
      "Enter string: chiti chiti bang bang chiti chiti bang bang\n",
      "Enter word: chiti\n",
      "Count of the word is:  4\n"
     ]
    }
   ],
   "source": [
    "string = input(\"Enter string: \")\n",
    "word = input(\"Enter word: \")\n",
    "a=[]\n",
    "count=0\n",
    "a=string.split(\" \")\n",
    "for i in range(0,len(a)):\n",
    "      if(word==a[i]):\n",
    "            count=count+1\n",
    "print(\"Count of the word is: \",count)"
   ]
  },
  {
   "cell_type": "code",
   "execution_count": 25,
   "metadata": {},
   "outputs": [
    {
     "name": "stdout",
     "output_type": "stream",
     "text": [
      "1 mary\n",
      "2 had\n",
      "3 a\n",
      "4 little\n",
      "5 lamb\n",
      "6 little\n",
      "7 lamb\n",
      "8 little\n",
      "9 lamb.\n"
     ]
    }
   ],
   "source": [
    "str3 = ('Mary had a little lamb little lamb little lamb.')\n",
    "\n",
    "b = str3.split(\" \")\n",
    "#print(b)\n",
    "#print(tuple(enumerate(b)))\n",
    "\n",
    "enum = [c.lower() for c in b]\n",
    "\n",
    "for i, c in enumerate(enum,1):\n",
    "    print(i,c)\n",
    "    \n",
    "\n",
    "#print(tuple(enumerate(str3)))"
   ]
  },
  {
   "cell_type": "code",
   "execution_count": 44,
   "metadata": {},
   "outputs": [
    {
     "name": "stdout",
     "output_type": "stream",
     "text": [
      "The quick brown fox jumps over the lazy dog. \n",
      "[(0, 'The'), (1, 'quick'), (2, 'brown'), (3, 'fox'), (4, 'jumps'), (5, 'over'), (6, 'the'), (7, 'lazy'), (8, 'dog.')]\n",
      "<class 'list'>\n"
     ]
    }
   ],
   "source": [
    "str3 = ('The quick brown fox jumps over the lazy dog.')\n",
    "\n",
    "d = list(str3)\n",
    "\n",
    "d = str3.split(\" \")\n",
    "\n",
    "for i in d:\n",
    "    print(i,end = ' ')\n",
    "\n",
    "print()\n",
    "print(list(enumerate(d)))\n",
    "\n",
    "print(type(d))"
   ]
  },
  {
   "cell_type": "code",
   "execution_count": 14,
   "metadata": {},
   "outputs": [
    {
     "name": "stdout",
     "output_type": "stream",
     "text": [
      "6\n"
     ]
    }
   ],
   "source": [
    "str3 = (\"chiti chiti bang bang bang bang chiti chiti bang bang\")\n",
    "count = str3.count('bang')\n",
    "print(count)"
   ]
  },
  {
   "cell_type": "markdown",
   "metadata": {},
   "source": [
    "# 6. Write a Python script that takes input from the user and displays that input back in upper and lower cases."
   ]
  },
  {
   "cell_type": "code",
   "execution_count": 47,
   "metadata": {},
   "outputs": [
    {
     "name": "stdout",
     "output_type": "stream",
     "text": [
      "Please enter a sentence: the quick brown fox jumps over the lazy dog.\n",
      "THE QUICK BROWN FOX JUMPS OVER THE LAZY DOG.\n"
     ]
    }
   ],
   "source": [
    "str3 = input('Please enter a sentence: ')\n",
    "a = str3.upper()\n",
    "print(a)"
   ]
  },
  {
   "cell_type": "code",
   "execution_count": 48,
   "metadata": {},
   "outputs": [
    {
     "name": "stdout",
     "output_type": "stream",
     "text": [
      "Please enter a sentence: THE QUICK BROWN FOX JUMPS OVER THE LAZY DOG.\n",
      "the quick brown fox jumps over the lazy dog.\n"
     ]
    }
   ],
   "source": [
    "str4 = input('Please enter a sentence: ')\n",
    "b = str4.lower()\n",
    "print(b)"
   ]
  },
  {
   "cell_type": "code",
   "execution_count": 49,
   "metadata": {},
   "outputs": [
    {
     "name": "stdout",
     "output_type": "stream",
     "text": [
      "Please enter a sentence: the quick brown fox jumps over the lazy dog.\n",
      "The quick brown fox jumps over the lazy dog.\n"
     ]
    }
   ],
   "source": [
    "str5 = input(\"Please enter a sentence: \")\n",
    "c = str5.capitalize()\n",
    "print(c)"
   ]
  },
  {
   "cell_type": "markdown",
   "metadata": {},
   "source": [
    "# **7. Write a Python program that accepts a comma separated sequence of words as input and prints the unique words in sorted form (alphanumerically Sample Words : red, white, black, red, green, black Expected Result : black, green, red, white,red.**"
   ]
  },
  {
   "cell_type": "code",
   "execution_count": 50,
   "metadata": {},
   "outputs": [
    {
     "name": "stdout",
     "output_type": "stream",
     "text": [
      "Enter the comma separated sequence of words: red,white,black,red,green,black\n",
      "\n",
      "black, green, red, white\n"
     ]
    }
   ],
   "source": [
    "items = input(\"Enter the comma separated sequence of words: \")\n",
    "print()\n",
    "words = [word for word in items.split(',')]\n",
    "print(', '.join(sorted(list(set(words)))))"
   ]
  },
  {
   "cell_type": "markdown",
   "metadata": {},
   "source": [
    "# 8. Write a Python program to remove a newline in Python."
   ]
  },
  {
   "cell_type": "code",
   "execution_count": 16,
   "metadata": {},
   "outputs": [
    {
     "name": "stdout",
     "output_type": "stream",
     "text": [
      "Original string:  sachin tendulkar\n",
      "\n",
      "sachin tendulkar\n"
     ]
    }
   ],
   "source": [
    "str1='sachin tendulkar\\n'\n",
    "print(\"Original string: \",str1)\n",
    "print(str1.rstrip())"
   ]
  },
  {
   "cell_type": "markdown",
   "metadata": {},
   "source": [
    "# 9.  Write a Python program to check whether a string starts with specified characters."
   ]
  },
  {
   "cell_type": "code",
   "execution_count": 12,
   "metadata": {},
   "outputs": [
    {
     "name": "stdout",
     "output_type": "stream",
     "text": [
      "True\n"
     ]
    }
   ],
   "source": [
    "str3 = \"Elvis has left the building.\"\n",
    "print(str3.startswith('Elvis'))"
   ]
  },
  {
   "cell_type": "code",
   "execution_count": 13,
   "metadata": {},
   "outputs": [
    {
     "name": "stdout",
     "output_type": "stream",
     "text": [
      "False\n"
     ]
    }
   ],
   "source": [
    "str3 = \"Elvis has left the building.\"\n",
    "print(str3.endswith('Elvis'))"
   ]
  },
  {
   "cell_type": "code",
   "execution_count": 16,
   "metadata": {},
   "outputs": [
    {
     "name": "stdout",
     "output_type": "stream",
     "text": [
      "True\n"
     ]
    }
   ],
   "source": [
    "str3 = \"Elvis has left the building.\"\n",
    "print(str3.endswith('building.'))"
   ]
  },
  {
   "cell_type": "markdown",
   "metadata": {},
   "source": [
    "# 10. Write a Python program to display a number with a comma separator."
   ]
  },
  {
   "cell_type": "code",
   "execution_count": 23,
   "metadata": {},
   "outputs": [
    {
     "name": "stdout",
     "output_type": "stream",
     "text": [
      "336,699,774,422\n"
     ]
    }
   ],
   "source": [
    "str4 = 336699774422\n",
    "\n",
    "print(f\"{str4:,}\")"
   ]
  },
  {
   "cell_type": "markdown",
   "metadata": {},
   "source": [
    "# 11. Write a Python program to count occurrences of a substring in a string."
   ]
  },
  {
   "cell_type": "code",
   "execution_count": 7,
   "metadata": {},
   "outputs": [
    {
     "name": "stdout",
     "output_type": "stream",
     "text": [
      "2\n"
     ]
    }
   ],
   "source": [
    "str1 = \"The quick brown fox jumps over the lazy dog but the lazy dog chased the fox away.\"\n",
    "\n",
    "print(str1.count(\"fox\"))"
   ]
  },
  {
   "cell_type": "markdown",
   "metadata": {},
   "source": [
    "# 12. Write a Python program to reverse a string."
   ]
  },
  {
   "cell_type": "code",
   "execution_count": 9,
   "metadata": {},
   "outputs": [
    {
     "name": "stdout",
     "output_type": "stream",
     "text": [
      "Racecar.\n"
     ]
    }
   ],
   "source": [
    "str4 = \".racecaR\"\n",
    "\n",
    "rev_str = str4[::-1]\n",
    "\n",
    "print(rev_str)"
   ]
  },
  {
   "cell_type": "markdown",
   "metadata": {},
   "source": [
    "# 13. Write a Python program to reverse words in a string."
   ]
  },
  {
   "cell_type": "code",
   "execution_count": 17,
   "metadata": {},
   "outputs": [
    {
     "name": "stdout",
     "output_type": "stream",
     "text": [
      "gnidliub eht tfel sah sivlE\n"
     ]
    }
   ],
   "source": [
    "str5 = \"Elvis has left the building\"\n",
    "\n",
    "print(str5[::-1])"
   ]
  },
  {
   "cell_type": "markdown",
   "metadata": {},
   "source": [
    "# 14. Write a Python program to strip a set of characters from a string."
   ]
  },
  {
   "cell_type": "code",
   "execution_count": 58,
   "metadata": {},
   "outputs": [
    {
     "data": {
      "text/plain": [
       "'palin'"
      ]
     },
     "execution_count": 58,
     "metadata": {},
     "output_type": "execute_result"
    }
   ],
   "source": [
    "str6 = 'palingram'\n",
    "\n",
    "str6.rstrip('gram')"
   ]
  },
  {
   "cell_type": "code",
   "execution_count": 12,
   "metadata": {},
   "outputs": [
    {
     "data": {
      "text/plain": [
       "'ingram'"
      ]
     },
     "execution_count": 12,
     "metadata": {},
     "output_type": "execute_result"
    }
   ],
   "source": [
    "str6 = 'palingram'\n",
    "\n",
    "str6.lstrip('pal')"
   ]
  },
  {
   "cell_type": "markdown",
   "metadata": {},
   "source": [
    "# 15. Write a Python program to check if a string contains all letters of the alphabet."
   ]
  },
  {
   "cell_type": "code",
   "execution_count": 2,
   "metadata": {},
   "outputs": [
    {
     "name": "stdout",
     "output_type": "stream",
     "text": [
      "['h', 'e', 'q', 'u', 'i', 'c', 'k', 'b', 'r', 'o', 'w', 'n', 'f', 'o', 'x', 'j', 'u', 'm', 'p', 's', 'o', 'v', 'e', 'r', 'a', 'l', 'a', 'z', 'y', 'd', 'o', 'g'] "
     ]
    }
   ],
   "source": [
    "str5 = \"The quick brown fox jumps over a lazy dog.\"\n",
    "\n",
    "alpha = [i for i in str5 if i in 'abcdefghijklmnopqrstuvwxyz']\n",
    "print(alpha,end=' ')"
   ]
  },
  {
   "cell_type": "markdown",
   "metadata": {},
   "source": [
    "# 16. Write a Python program to convert a string in a list."
   ]
  },
  {
   "cell_type": "code",
   "execution_count": 4,
   "metadata": {},
   "outputs": [
    {
     "name": "stdout",
     "output_type": "stream",
     "text": [
      "['T', 'h', 'e', ' ', 'q', 'u', 'i', 'c', 'k', ' ', 'b', 'r', 'o', 'w', 'n', ' ', 'f', 'o', 'x', ' ', 'j', 'u', 'm', 'p', 's', ' ', 'o', 'v', 'e', 'r', ' ', 'a', ' ', 'l', 'a', 'z', 'y', ' ', 'd', 'o', 'g', '.']\n",
      "<class 'list'>\n",
      "The quick brown fox jumps over a lazy dog.\n",
      "\n",
      "<class 'list'>\n"
     ]
    }
   ],
   "source": [
    "str5 = \"The quick brown fox jumps over a lazy dog.\"\n",
    "\n",
    "str5 = list(str5)\n",
    "\n",
    "print(str5)\n",
    "print(type(str5))\n",
    "\n",
    "print(''.join(str5))\n",
    "print()\n",
    "print(type(str5))"
   ]
  },
  {
   "cell_type": "code",
   "execution_count": 22,
   "metadata": {},
   "outputs": [
    {
     "name": "stdout",
     "output_type": "stream",
     "text": [
      "['T', 'h', 'e', ' ', 'q', 'u', 'i', 'c', 'k', ' ', 'b', 'r', 'o', 'w', 'n', ' ', 'f', 'o', 'x', ' ', 'j', 'u', 'm', 'p', 's', ' ', 'o', 'v', 'e', 'r', ' ', 'a', ' ', 'l', 'a', 'z', 'y', ' ', 'd', 'o', 'g', '.']\n",
      "<class 'list'>\n"
     ]
    }
   ],
   "source": [
    "str5 = \"The quick brown fox jumps over a lazy dog.\"\n",
    "\n",
    "str5 = list(str5)\n",
    "print(str5)\n",
    "print(type(str5))"
   ]
  },
  {
   "cell_type": "markdown",
   "metadata": {},
   "source": [
    "# 17. Write a Python program to lowercase first n characters in a string."
   ]
  },
  {
   "cell_type": "code",
   "execution_count": 13,
   "metadata": {},
   "outputs": [
    {
     "data": {
      "text/plain": [
       "'the quick brown fox jumps over a lazy dog.'"
      ]
     },
     "execution_count": 13,
     "metadata": {},
     "output_type": "execute_result"
    }
   ],
   "source": [
    "str6 = \"The Quick Brown fox jumps over a lazy dog.\"\n",
    "\n",
    "str5.casefold()"
   ]
  },
  {
   "cell_type": "code",
   "execution_count": 16,
   "metadata": {},
   "outputs": [
    {
     "data": {
      "text/plain": [
       "'The quick brown fox jumps over a lazy dog.'"
      ]
     },
     "execution_count": 16,
     "metadata": {},
     "output_type": "execute_result"
    }
   ],
   "source": [
    "#Below program is not a part of the above question, just practice.\n",
    "\n",
    "str6 = \"The Quick Brown fox jumps over a lazy dog.\"\n",
    "\n",
    "str5.capitalize()"
   ]
  },
  {
   "cell_type": "markdown",
   "metadata": {},
   "source": [
    "# 18. Write a Python program to count and display the vowels of a given text."
   ]
  },
  {
   "cell_type": "code",
   "execution_count": 3,
   "metadata": {},
   "outputs": [
    {
     "name": "stdout",
     "output_type": "stream",
     "text": [
      "Please enter a sentence of your choice: the girl loves eating mangoes\n",
      "\n",
      "The number of vowels are: 10\n"
     ]
    }
   ],
   "source": [
    "str7 = str(input(\"Please enter a sentence of your choice: \"))\n",
    "print()\n",
    "\n",
    "vowels = 0\n",
    "\n",
    "for i in str7:\n",
    "    if (i=='a' or i=='e' or i=='i' or i=='o' or i=='u'):\n",
    "        vowels = vowels+1\n",
    "print(\"The number of vowels are:\",vowels)\n",
    "\n",
    "#unable to print the vowels, Sir please help."
   ]
  },
  {
   "cell_type": "code",
   "execution_count": 14,
   "metadata": {},
   "outputs": [
    {
     "name": "stdout",
     "output_type": "stream",
     "text": [
      "Please enter a sentence of your choice: the quick brown fox jumps over the lazy dog\n",
      "Vowels:  ['e', 'u', 'i', 'o', 'o', 'u', 'o', 'e', 'e', 'a', 'o']\n",
      "Number of vowels are:  11\n"
     ]
    }
   ],
   "source": [
    "str7 = str(input(\"Please enter a sentence of your choice: \"))\n",
    "\n",
    "vowels = [i for i in str7 if i in 'aeiouAEIOU']\n",
    "\n",
    "print(\"Vowels: \",vowels)\n",
    "print(\"Number of vowels are: \",len(vowels))"
   ]
  },
  {
   "cell_type": "markdown",
   "metadata": {},
   "source": [
    "# 19. Write a Python program to split a string on the last occurrence of the delimiter."
   ]
  },
  {
   "cell_type": "code",
   "execution_count": 12,
   "metadata": {},
   "outputs": [
    {
     "name": "stdout",
     "output_type": "stream",
     "text": [
      "['Mary had a little', 'lamb']\n"
     ]
    }
   ],
   "source": [
    "str8 = \"Mary had a little,lamb\"\n",
    "\n",
    "print(str8.rsplit(',',1))"
   ]
  },
  {
   "cell_type": "code",
   "execution_count": 8,
   "metadata": {},
   "outputs": [
    {
     "data": {
      "text/plain": [
       "'MARY HAD A LITTLE,LAMB'"
      ]
     },
     "execution_count": 8,
     "metadata": {},
     "output_type": "execute_result"
    }
   ],
   "source": [
    "str8 = \"Mary had a little,lamb\"\n",
    "str8.swapcase()\n",
    "str8.upper()"
   ]
  },
  {
   "cell_type": "markdown",
   "metadata": {},
   "source": [
    "# 20. Write a Python program to count the number of alphabets of a given word."
   ]
  },
  {
   "cell_type": "code",
   "execution_count": 24,
   "metadata": {},
   "outputs": [
    {
     "name": "stdout",
     "output_type": "stream",
     "text": [
      "Please enter the word that needs to be counted: sachintendulkar\n",
      "\n",
      "Original Word: sachintendulkar\n",
      "\n",
      "The Alphabets: ['a', 'a', 'c', 'd', 'e', 'h', 'i', 'k', 'l', 'n', 'n', 'r', 's', 't', 'u']\n",
      "\n",
      "Counter({'a': 2, 'n': 2, 'c': 1, 'd': 1, 'e': 1, 'h': 1, 'i': 1, 'k': 1, 'l': 1, 'r': 1, 's': 1, 't': 1, 'u': 1})\n"
     ]
    }
   ],
   "source": [
    "from collections import Counter\n",
    "\n",
    "name = input(\"Please enter the word that needs to be counted: \")\n",
    "print()\n",
    "print(\"Original Word:\", name)\n",
    "print()\n",
    "alphabets = list(name)\n",
    "alphabets.sort()\n",
    "print('The Alphabets:', alphabets)\n",
    "print()\n",
    "print(Counter(alphabets))"
   ]
  },
  {
   "cell_type": "code",
   "execution_count": 5,
   "metadata": {},
   "outputs": [
    {
     "name": "stdout",
     "output_type": "stream",
     "text": [
      "Counter({'a': 3, 'h': 2, 'i': 2, 'n': 2, 'b': 1, 'c': 1, 'd': 1, 'e': 1, 'j': 1, 'k': 1, 'r': 1, 't': 1, 'v': 1})\n"
     ]
    }
   ],
   "source": [
    "from collections import Counter\n",
    "ac = 'sachintendulkar'\n",
    "alpha = list(ac)\n",
    "alpha.sort()\n",
    "print(Counter(alpha))"
   ]
  },
  {
   "cell_type": "markdown",
   "metadata": {},
   "source": [
    "# **21.Python program to print ascii values from 0 to 100.**"
   ]
  },
  {
   "cell_type": "code",
   "execution_count": 8,
   "metadata": {},
   "outputs": [
    {
     "name": "stdout",
     "output_type": "stream",
     "text": [
      "['\\x00', '\\x01', '\\x02', '\\x03', '\\x04', '\\x05', '\\x06', '\\x07', '\\x08', '\\t', '\\n', '\\x0b', '\\x0c', '\\r', '\\x0e', '\\x0f', '\\x10', '\\x11', '\\x12', '\\x13', '\\x14', '\\x15', '\\x16', '\\x17', '\\x18', '\\x19', '\\x1a', '\\x1b', '\\x1c', '\\x1d', '\\x1e', '\\x1f', ' ', '!', '\"', '#', '$', '%', '&', \"'\", '(', ')', '*', '+', ',', '-', '.', '/', '0', '1', '2', '3', '4', '5', '6', '7', '8', '9', ':', ';', '<', '=', '>', '?', '@', 'A', 'B', 'C', 'D', 'E', 'F', 'G', 'H', 'I', 'J', 'K', 'L', 'M', 'N', 'O', 'P', 'Q', 'R', 'S', 'T', 'U', 'V', 'W', 'X', 'Y', 'Z', '[', '\\\\', ']', '^', '_', '`', 'a', 'b', 'c']\n",
      "\n",
      "Length:  100\n"
     ]
    }
   ],
   "source": [
    "a = [chr(i) for i in range(100)]\n",
    "print(a)\n",
    "print()\n",
    "print(\"Length: \",len(a))"
   ]
  },
  {
   "cell_type": "markdown",
   "metadata": {},
   "source": [
    "# 22.  Python program to print all uppercase alphabets."
   ]
  },
  {
   "cell_type": "code",
   "execution_count": 11,
   "metadata": {},
   "outputs": [
    {
     "name": "stdout",
     "output_type": "stream",
     "text": [
      "ABCDEFGHIJKLMNOPQRSTUVWXYZ\n"
     ]
    }
   ],
   "source": [
    "import string\n",
    "\n",
    "print(string.ascii_uppercase)"
   ]
  },
  {
   "cell_type": "markdown",
   "metadata": {},
   "source": [
    "# 23.  Python program to print all lower case alphabets."
   ]
  },
  {
   "cell_type": "code",
   "execution_count": 12,
   "metadata": {},
   "outputs": [
    {
     "name": "stdout",
     "output_type": "stream",
     "text": [
      "abcdefghijklmnopqrstuvwxyz\n"
     ]
    }
   ],
   "source": [
    "import string\n",
    "\n",
    "print(string.ascii_lowercase)"
   ]
  },
  {
   "cell_type": "markdown",
   "metadata": {},
   "source": [
    "# 24.  Python program to print all printable ascii letters."
   ]
  },
  {
   "cell_type": "code",
   "execution_count": 13,
   "metadata": {},
   "outputs": [
    {
     "name": "stdout",
     "output_type": "stream",
     "text": [
      "0123456789abcdefghijklmnopqrstuvwxyzABCDEFGHIJKLMNOPQRSTUVWXYZ!\"#$%&'()*+,-./:;<=>?@[\\]^_`{|}~ \t\n",
      "\r",
      "\u000b",
      "\f",
      "\n"
     ]
    }
   ],
   "source": [
    "import string\n",
    "\n",
    "print(string.printable)"
   ]
  }
 ],
 "metadata": {
  "kernelspec": {
   "display_name": "Python 3",
   "language": "python",
   "name": "python3"
  },
  "language_info": {
   "codemirror_mode": {
    "name": "ipython",
    "version": 3
   },
   "file_extension": ".py",
   "mimetype": "text/x-python",
   "name": "python",
   "nbconvert_exporter": "python",
   "pygments_lexer": "ipython3",
   "version": "3.7.4"
  }
 },
 "nbformat": 4,
 "nbformat_minor": 2
}
