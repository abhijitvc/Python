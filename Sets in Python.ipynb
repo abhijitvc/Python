{
 "cells": [
  {
   "cell_type": "markdown",
   "metadata": {},
   "source": [
    "**Sets is an unordered collection of data type. Sets are mutable (Changeable) in nature and a set has no duplicate elements.  Sets are represented by curly braces { }**"
   ]
  },
  {
   "cell_type": "markdown",
   "metadata": {},
   "source": [
    "**It is a collection of elements and enclosed within curly braces { } separated by commas. Every element is unique (no duplicates) in Sets. Sets have no index as it unordered.**"
   ]
  },
  {
   "cell_type": "markdown",
   "metadata": {},
   "source": [
    "**basket = {'apple', 'orange', 'apple', 'pear', 'orange', 'banana'} #example of how a set looks like**"
   ]
  },
  {
   "cell_type": "markdown",
   "metadata": {},
   "source": [
    "**You cannot access or change an element of set using indexing or slicing.**"
   ]
  },
  {
   "cell_type": "code",
   "execution_count": null,
   "metadata": {},
   "outputs": [],
   "source": [
    "hi = {'Welcome','Sir'}\n",
    "\n",
    "for i in hi:\n",
    "    print(i, end=\" \")\n",
    "    \n",
    "print()\n",
    "print()\n",
    "print(type(hi))"
   ]
  },
  {
   "cell_type": "markdown",
   "metadata": {},
   "source": [
    "# help()"
   ]
  },
  {
   "cell_type": "code",
   "execution_count": null,
   "metadata": {},
   "outputs": [],
   "source": [
    "help()\n",
    "\n",
    "#the help function can be used to access help.\n",
    "\n",
    "#once we run help, a input window will open.\n",
    "\n",
    "#Here we can just input \"set\" and all the help that Python provides for Sets will be displayed."
   ]
  },
  {
   "cell_type": "markdown",
   "metadata": {},
   "source": [
    "# What are sets used for?"
   ]
  },
  {
   "cell_type": "markdown",
   "metadata": {},
   "source": [
    "The order of element in set is undefined, we can perform mathematical\n",
    "expression like union , intersection, difference and symmetric difference. This can be done\n",
    "by using operator or methods.  These are mentioned in detail below."
   ]
  },
  {
   "cell_type": "markdown",
   "metadata": {},
   "source": [
    "# 1.  No duplication in sets."
   ]
  },
  {
   "cell_type": "code",
   "execution_count": null,
   "metadata": {},
   "outputs": [],
   "source": [
    "students = {'audumbar', 'vivek', 'abhijit', 'abhijit', 'audumbar', 'vivek'} #to demonstrate no duplication in sets\n",
    "print(students)\n",
    "print(type(students))"
   ]
  },
  {
   "cell_type": "markdown",
   "metadata": {},
   "source": [
    "# 2.  How to form an empty set.\n",
    "\n",
    "You can cannot create a set just by declaring \"{}\" because by default it will be considered as a dictionary."
   ]
  },
  {
   "cell_type": "code",
   "execution_count": null,
   "metadata": {},
   "outputs": [],
   "source": [
    "example = {}\n",
    "\n",
    "print(type(example))"
   ]
  },
  {
   "cell_type": "markdown",
   "metadata": {},
   "source": [
    "The correct way to form a set is mentioned below."
   ]
  },
  {
   "cell_type": "code",
   "execution_count": null,
   "metadata": {},
   "outputs": [],
   "source": [
    "a = set() #creating an empty set by calling in set method.\n",
    "print(a)\n",
    "print(type(a))"
   ]
  },
  {
   "cell_type": "markdown",
   "metadata": {},
   "source": [
    "# 3.  Sets can have any number of items and different data type (string, float, tuple, integer etc.), basically it contains heterogenous items."
   ]
  },
  {
   "cell_type": "code",
   "execution_count": null,
   "metadata": {},
   "outputs": [],
   "source": [
    "# sets with mixed data type\n",
    "\n",
    "my_set1 = {\"feb\",23,9.55} #a set with string, integer, and float values.\n",
    "\n",
    "print(my_set1)"
   ]
  },
  {
   "cell_type": "markdown",
   "metadata": {},
   "source": [
    "# 4.  How to check data type of a set?"
   ]
  },
  {
   "cell_type": "code",
   "execution_count": null,
   "metadata": {},
   "outputs": [],
   "source": [
    "basket = {'apple', 'orange', 'apple', 'pear', 'orange', 'banana'} #to demonstrate no duplication in sets\n",
    "\n",
    "print(basket)\n",
    "print()\n",
    "print(type(basket))"
   ]
  },
  {
   "cell_type": "markdown",
   "metadata": {},
   "source": [
    "# 5. You can change element by adding and updating element in the set."
   ]
  },
  {
   "cell_type": "code",
   "execution_count": null,
   "metadata": {},
   "outputs": [],
   "source": [
    "# adding an element\n",
    "\n",
    "my_set2 = {1,2,4}\n",
    "print(my_set2)\n",
    "print()\n",
    "my_set2.add(3) # adding an element using .add() method for a set\n",
    "print(my_set2)"
   ]
  },
  {
   "cell_type": "code",
   "execution_count": null,
   "metadata": {},
   "outputs": [],
   "source": [
    "# add multiple elements to the original set\n",
    "\n",
    "my_set2.update([4,5,6]) #the .update() method to add multiple elements to a set.\n",
    "\n",
    "print(my_set2)"
   ]
  },
  {
   "cell_type": "code",
   "execution_count": null,
   "metadata": {},
   "outputs": [],
   "source": [
    "#add a list and set\n",
    "\n",
    "my_set2.update([10.5,9], {11,12,8})\n",
    "print(my_set2)"
   ]
  },
  {
   "cell_type": "markdown",
   "metadata": {},
   "source": [
    "# Built-in Functions"
   ]
  },
  {
   "cell_type": "markdown",
   "metadata": {},
   "source": [
    "# union()\n",
    "\n",
    "This function returns a set which contains all the elements of both the sets without repitition."
   ]
  },
  {
   "cell_type": "code",
   "execution_count": null,
   "metadata": {},
   "outputs": [],
   "source": [
    "set1 = set([1,2,3])\n",
    "\n",
    "set2 = set([2,3,4,5])\n",
    "\n",
    "set1.union(set2) #the .union() method in sets to update 2 sets but without repitition."
   ]
  },
  {
   "cell_type": "markdown",
   "metadata": {},
   "source": [
    "# intersection()"
   ]
  },
  {
   "cell_type": "markdown",
   "metadata": {},
   "source": [
    "function outputs a set which contains all the elements that are Common in both sets"
   ]
  },
  {
   "cell_type": "code",
   "execution_count": 1,
   "metadata": {},
   "outputs": [
    {
     "data": {
      "text/plain": [
       "{2, 3}"
      ]
     },
     "execution_count": 1,
     "metadata": {},
     "output_type": "execute_result"
    }
   ],
   "source": [
    "set1 = {1,2,3}\n",
    "\n",
    "set2 = {2,3,4,5,6,7,8,9}\n",
    "\n",
    "set1.intersection(set2) # the .intersection() method in sets which are Common elements in both sets."
   ]
  },
  {
   "cell_type": "markdown",
   "metadata": {},
   "source": [
    "# difference()"
   ]
  },
  {
   "cell_type": "markdown",
   "metadata": {},
   "source": [
    "function ouptuts a set which contains elements that are in set1 and not in set2."
   ]
  },
  {
   "cell_type": "code",
   "execution_count": null,
   "metadata": {},
   "outputs": [],
   "source": [
    "a={1,2,3,5}\n",
    "b={3,4,5,6,7}\n",
    "\n",
    "print(a.difference(b)) #the .difference method in sets\n",
    "print()\n",
    "print(b.difference(a))\n",
    "print()\n",
    "print(\"Difference of these two sets was: 3,4,5.\")"
   ]
  },
  {
   "cell_type": "markdown",
   "metadata": {},
   "source": [
    "# symmetric_difference()"
   ]
  },
  {
   "cell_type": "markdown",
   "metadata": {},
   "source": [
    "The Python symmetric_difference() method returns the symmetric difference of two sets."
   ]
  },
  {
   "cell_type": "code",
   "execution_count": 2,
   "metadata": {},
   "outputs": [
    {
     "name": "stdout",
     "output_type": "stream",
     "text": [
      "{1, 2, 3, 6, 7, 8, 9}\n",
      "\n",
      "{1, 2, 3, 6, 7, 8, 9}\n",
      "\n",
      "Symmetric Difference of these two sets was: 4 and 5.\n"
     ]
    }
   ],
   "source": [
    "a={1,2,3,4,5}\n",
    "b={4,5,6,7,8,9}\n",
    "\n",
    "print(a.symmetric_difference(b)) #the .symmetric_difference method in sets.\n",
    "print()\n",
    "print(b.symmetric_difference(a))\n",
    "print()\n",
    "print(\"Symmetric Difference of these two sets was: 4 and 5.\")"
   ]
  },
  {
   "cell_type": "markdown",
   "metadata": {},
   "source": [
    "# symmetric_difference_update()"
   ]
  },
  {
   "cell_type": "markdown",
   "metadata": {},
   "source": [
    "This method updates the set."
   ]
  },
  {
   "cell_type": "code",
   "execution_count": null,
   "metadata": {},
   "outputs": [],
   "source": [
    "set1={1,2,3,4,5,6}\n",
    "print(\"Original set1: \",set1)\n",
    "print()\n",
    "set2={3,4,5,6,7,8,9}\n",
    "\n",
    "set1.symmetric_difference_update(set2)\n",
    "\n",
    "#set2.symmetric_difference_update(set1)\n",
    "\n",
    "print(\"Set1 after operation: \",set1)\n",
    "print()\n",
    "print(\"The digits 3,4,5,6 were the symmetric difference between Set1 and Set2.\")\n",
    "print()\n",
    "print(\"Set2: \",set2)\n",
    "\n",
    "#print(set1)"
   ]
  },
  {
   "cell_type": "markdown",
   "metadata": {},
   "source": [
    "# issubset( )"
   ]
  },
  {
   "cell_type": "markdown",
   "metadata": {},
   "source": [
    "is used to check if the set1/set2 is a subset, disjoint or superset of set2/set1 respectively."
   ]
  },
  {
   "cell_type": "code",
   "execution_count": null,
   "metadata": {},
   "outputs": [],
   "source": [
    "s={1,2,3,4}\n",
    "s2={5,6,7,8}\n",
    "s3={1,3,4}\n",
    "\n",
    "print(s.issubset(s2)) #returns True or False\n",
    "print()\n",
    "print(s3.issubset(s))  #returns True or False"
   ]
  },
  {
   "cell_type": "markdown",
   "metadata": {},
   "source": [
    "# issuperset()"
   ]
  },
  {
   "cell_type": "markdown",
   "metadata": {},
   "source": [
    "The issuperset() method returns True if all elements of a set A occupies set B which is passed as an argument and returns false if all elements of B not present in A."
   ]
  },
  {
   "cell_type": "code",
   "execution_count": null,
   "metadata": {},
   "outputs": [],
   "source": [
    "s={1,2,3,4,5,6,7,8}\n",
    "s2={5,6,7,8}\n",
    "\n",
    "#print(s.issuperset(s2)) #will return True or False\n",
    "\n",
    "\n",
    "print(s2.issuperset(s))"
   ]
  },
  {
   "cell_type": "markdown",
   "metadata": {},
   "source": [
    "# isdisjoint()"
   ]
  },
  {
   "cell_type": "markdown",
   "metadata": {},
   "source": [
    "Set isdisjoint() method checks whether the two sets are disjoint sets or not. If the sets are disjoint, this method returns true else it returns false. Two sets are said to be disjoint if they do not have any common elements."
   ]
  },
  {
   "cell_type": "code",
   "execution_count": null,
   "metadata": {},
   "outputs": [],
   "source": [
    "s={1,2,3,4}\n",
    "s2={5,6,7,8}\n",
    "\n",
    "print(s2.isdisjoint(s))  #will return True or False.  True if there are no common elements in them."
   ]
  },
  {
   "cell_type": "markdown",
   "metadata": {},
   "source": [
    "# pop()"
   ]
  },
  {
   "cell_type": "markdown",
   "metadata": {},
   "source": [
    "pop() is used to remove an element in the set. This begins from the index point of the set."
   ]
  },
  {
   "cell_type": "code",
   "execution_count": null,
   "metadata": {},
   "outputs": [],
   "source": [
    "#set4 = set([44.33,1,2,3,4,5,6,7,8,9])\n",
    "\n",
    "set5 = set([9,8,7,6,5,4,3,2,1])\n",
    "\n",
    "#set4.pop()  #This will pop one element from the set, will begin from the index by this method.\n",
    "\n",
    "set5.pop()\n",
    "\n",
    "#print(set4)"
   ]
  },
  {
   "cell_type": "markdown",
   "metadata": {},
   "source": [
    "# clear()"
   ]
  },
  {
   "cell_type": "markdown",
   "metadata": {},
   "source": [
    "The clear() method removes all elements from the set."
   ]
  },
  {
   "cell_type": "code",
   "execution_count": null,
   "metadata": {},
   "outputs": [],
   "source": [
    "s3 = {1,2,3}\n",
    "s3.clear() #this will clear all element from the set and return a empty set.\n",
    "print(s3)\n",
    "print()\n",
    "print(type(s3))"
   ]
  },
  {
   "cell_type": "markdown",
   "metadata": {},
   "source": [
    "# discard() / remove()"
   ]
  },
  {
   "cell_type": "markdown",
   "metadata": {},
   "source": [
    "# discard()"
   ]
  },
  {
   "cell_type": "code",
   "execution_count": null,
   "metadata": {},
   "outputs": [],
   "source": [
    "my_sets = {1,2,3,4,5}\n",
    "\n",
    "\n",
    "my_sets.discard(6) #works in the same way as remove()\n",
    "print(my_sets)"
   ]
  },
  {
   "cell_type": "markdown",
   "metadata": {},
   "source": [
    "# remove()"
   ]
  },
  {
   "cell_type": "markdown",
   "metadata": {},
   "source": [
    "Function deletes the specified element from the set."
   ]
  },
  {
   "cell_type": "code",
   "execution_count": null,
   "metadata": {},
   "outputs": [],
   "source": [
    "s5 = set([1,2,3])\n",
    "s5.remove(6) # the #2 element from the set is removed by this method\n",
    "print(s5)"
   ]
  },
  {
   "cell_type": "markdown",
   "metadata": {},
   "source": [
    "# Difference between discard() and remove()"
   ]
  },
  {
   "cell_type": "markdown",
   "metadata": {},
   "source": [
    "If you try to delete an item that doesn’t exist in the set, discard() ignores it, but\n",
    "remove() raises a KeyError."
   ]
  },
  {
   "cell_type": "markdown",
   "metadata": {},
   "source": [
    "# copy()"
   ]
  },
  {
   "cell_type": "markdown",
   "metadata": {},
   "source": [
    "The copy() method in Python returns a copy of the Set."
   ]
  },
  {
   "cell_type": "code",
   "execution_count": null,
   "metadata": {},
   "outputs": [],
   "source": [
    "set6 = {1,2,3,4,5,6}\n",
    "\n",
    "print(\"set6: \",set6)\n",
    "print()\n",
    "\n",
    "copy_of_set6 = set6.copy()\n",
    "\n",
    "print(\"Copy_of_set6:\",copy_of_set6)"
   ]
  },
  {
   "cell_type": "markdown",
   "metadata": {},
   "source": [
    "# Accessing Set"
   ]
  },
  {
   "cell_type": "markdown",
   "metadata": {},
   "source": [
    "Sets do not support indexing, it is only possible to access the entire set at once."
   ]
  },
  {
   "cell_type": "code",
   "execution_count": null,
   "metadata": {},
   "outputs": [],
   "source": [
    "My_set={\"hello\",11.1,9}\n",
    "My_set #This way instead of printing My_set, if passed the ouput will be float first, then integer, and then string.\n",
    "       #Float value gets precedence over the rest."
   ]
  },
  {
   "cell_type": "markdown",
   "metadata": {},
   "source": [
    "# Indexing"
   ]
  },
  {
   "cell_type": "markdown",
   "metadata": {},
   "source": [
    "Sets do not support indexing.  So one is unable to use slicing or indexing on sets.  Using these methods will throw an error."
   ]
  },
  {
   "cell_type": "markdown",
   "metadata": {},
   "source": [
    "# len()\n",
    "\n",
    "This will support multiple datatypes unlike the function max()"
   ]
  },
  {
   "cell_type": "code",
   "execution_count": null,
   "metadata": {},
   "outputs": [],
   "source": [
    "aegis = {'Audumbar','Vivek','Jignesh','Raj'}\n",
    "\n",
    "len(aegis)"
   ]
  },
  {
   "cell_type": "code",
   "execution_count": null,
   "metadata": {},
   "outputs": [],
   "source": [
    "mixa = {'audumbar','abhijit',12,12.1}\n",
    "\n",
    "len(mixa)"
   ]
  },
  {
   "cell_type": "markdown",
   "metadata": {},
   "source": [
    "# max()"
   ]
  },
  {
   "cell_type": "code",
   "execution_count": null,
   "metadata": {},
   "outputs": [],
   "source": [
    "maxi = {20,690,450,23,16,69,512}\n",
    "\n",
    "max(maxi)"
   ]
  },
  {
   "cell_type": "code",
   "execution_count": null,
   "metadata": {},
   "outputs": [],
   "source": [
    "week = {'Sunday','Monday','Tuesday','Wednesday','Thursday','Friday','Saturday'}\n",
    "\n",
    "max(week) #the alphabet with the highest ASCII value will be printed."
   ]
  },
  {
   "cell_type": "code",
   "execution_count": null,
   "metadata": {},
   "outputs": [],
   "source": [
    "mix = {1,2,3,'Brian','Lara'}\n",
    "\n",
    "max(mix) #we cannot compare mixed datatypes in sets. #This statement if run will throw an error."
   ]
  },
  {
   "cell_type": "markdown",
   "metadata": {},
   "source": [
    "# min()"
   ]
  },
  {
   "cell_type": "code",
   "execution_count": null,
   "metadata": {},
   "outputs": [],
   "source": [
    "maximum = {20,690,450,23,16,69,512}\n",
    "\n",
    "min(maximum)"
   ]
  },
  {
   "cell_type": "code",
   "execution_count": null,
   "metadata": {},
   "outputs": [],
   "source": [
    "week = {'Sunday','Monday','Tuesday','Wednesday','Thursday','Friday','Saturday'}\n",
    "\n",
    "min(week) #the alphabet with the lowest ASCII value will be printed."
   ]
  },
  {
   "cell_type": "code",
   "execution_count": null,
   "metadata": {},
   "outputs": [],
   "source": [
    "mix = {1,2,3,'Brian','Lara'}\n",
    "\n",
    "min(mix) #we cannot compare mixed datatypes in sets. #This statement if run will throw an error."
   ]
  },
  {
   "cell_type": "markdown",
   "metadata": {},
   "source": [
    "# sum()"
   ]
  },
  {
   "cell_type": "code",
   "execution_count": null,
   "metadata": {},
   "outputs": [],
   "source": [
    "maxi = {20,690,450,23,16,69,512}\n",
    "\n",
    "sum(maxi)"
   ]
  },
  {
   "cell_type": "markdown",
   "metadata": {},
   "source": [
    "# any()"
   ]
  },
  {
   "cell_type": "markdown",
   "metadata": {},
   "source": [
    "This function returns True even if one item in the set has a Boolean value of True."
   ]
  },
  {
   "cell_type": "code",
   "execution_count": null,
   "metadata": {},
   "outputs": [],
   "source": [
    "any({8,''}) #running this will throw a result as True or False(Boolean Value)"
   ]
  },
  {
   "cell_type": "code",
   "execution_count": null,
   "metadata": {},
   "outputs": [],
   "source": [
    "any({})  #running this will throw a result as False or True(Boolean Value)"
   ]
  },
  {
   "cell_type": "markdown",
   "metadata": {},
   "source": [
    "# all()\n",
    "Unlike the any() function, all() returns True only if all items in the Python set have a Boolean\n",
    "value of True. Otherwise, it returns False."
   ]
  },
  {
   "cell_type": "code",
   "execution_count": null,
   "metadata": {},
   "outputs": [],
   "source": [
    "all({8,''}) #this will return True or False"
   ]
  },
  {
   "cell_type": "code",
   "execution_count": null,
   "metadata": {},
   "outputs": [],
   "source": [
    "week = {'Sunday','Monday','Tuesday','Wednesday','Thursday','Friday','Saturday'}\n",
    "\n",
    "any(week) #Running this will return True or False(Boolean Value)"
   ]
  },
  {
   "cell_type": "markdown",
   "metadata": {},
   "source": [
    "# sorted()\n",
    "\n",
    "The sorted() function returns a sorted python set to list. It is sorted in ascending order, but it\n",
    "doesn’t modify the original set."
   ]
  },
  {
   "cell_type": "code",
   "execution_count": null,
   "metadata": {},
   "outputs": [],
   "source": [
    "to_sort = {1, 2, 3, 4, 5, 4.5, 6, 3.5, 2.2}\n",
    "\n",
    "print(\"Unsorted Set: \",to_sort)\n",
    "print()\n",
    "sorted(to_sort) #This will sort the entire set but will not modify the original set"
   ]
  },
  {
   "cell_type": "markdown",
   "metadata": {},
   "source": [
    "# Membership"
   ]
  },
  {
   "cell_type": "code",
   "execution_count": null,
   "metadata": {},
   "outputs": [],
   "source": [
    "students = {1,2,3,4,5,6}\n",
    "\n",
    "256 in students\n",
    "\n",
    "#3 in members #3 in member #will throw True as it is part of the set\n",
    "\n",
    "#8 in members #8 in member #will throw False as it is not part of the set"
   ]
  },
  {
   "cell_type": "markdown",
   "metadata": {},
   "source": [
    "#                                            FrozenSet\n",
    "\n",
    "\n",
    "The frozenset() is an inbuilt function is Python, which takes an iterable object as input and makes\n",
    "them immutable. It freezes the iterable objects and makes them unchangeable.\n",
    "\n",
    "Frozenset is needed when we have declared a list whose items are changeable but after certain steps,\n",
    "we want to stop allowing the elements in it to change.\n",
    "\n",
    "Syntax\n",
    "frozenset(iterable)\n",
    "\n",
    "\n",
    "frozenset()\n",
    "It takes single parameter. iterable (optional) – It is a sequence from which frozenset is constructed.\n",
    "It returns an empty frozenset if no parameter is supplied."
   ]
  },
  {
   "cell_type": "markdown",
   "metadata": {},
   "source": [
    "# Difference Between set() and frozenset()\n",
    "\n",
    "\n",
    "The difference between set() and frozenset() is in their mutablity only.\n",
    "\n",
    "frozenset() is immutable and set() is mutable containing immutable objects."
   ]
  },
  {
   "cell_type": "markdown",
   "metadata": {},
   "source": [
    "# Creating an empty FrozenSet"
   ]
  },
  {
   "cell_type": "code",
   "execution_count": null,
   "metadata": {},
   "outputs": [],
   "source": [
    "child = frozenset()\n",
    "\n",
    "print(child)\n",
    "print()\n",
    "print(type(child))"
   ]
  },
  {
   "cell_type": "markdown",
   "metadata": {},
   "source": [
    "# help()"
   ]
  },
  {
   "cell_type": "code",
   "execution_count": null,
   "metadata": {},
   "outputs": [],
   "source": [
    "help(frozenset) #to access help regarding frozenset"
   ]
  },
  {
   "cell_type": "markdown",
   "metadata": {},
   "source": [
    "# Creating Frozenset"
   ]
  },
  {
   "cell_type": "code",
   "execution_count": null,
   "metadata": {},
   "outputs": [],
   "source": [
    "example_1 = frozenset((7,8,6))\n",
    "\n",
    "print(example_1)"
   ]
  },
  {
   "cell_type": "code",
   "execution_count": null,
   "metadata": {},
   "outputs": [],
   "source": [
    "example_2 = frozenset('audumbar')\n",
    "\n",
    "print(example_2)"
   ]
  },
  {
   "cell_type": "markdown",
   "metadata": {},
   "source": [
    "# Frozenset with List"
   ]
  },
  {
   "cell_type": "code",
   "execution_count": null,
   "metadata": {},
   "outputs": [],
   "source": [
    "example_3 = [\"Have\",\"a\",\"good\",\"day\"]\n",
    "\n",
    "fs = frozenset(example_3)\n",
    "\n",
    "print(fs)\n",
    "print()\n",
    "print(type(fs))"
   ]
  },
  {
   "cell_type": "markdown",
   "metadata": {},
   "source": [
    "# Frozenset with Tupple"
   ]
  },
  {
   "cell_type": "code",
   "execution_count": null,
   "metadata": {},
   "outputs": [],
   "source": [
    "example_4 = (\"Www\")\n",
    "\n",
    "fs1 = frozenset(example_4)\n",
    "\n",
    "print(fs1)"
   ]
  }
 ],
 "metadata": {
  "kernelspec": {
   "display_name": "Python 3",
   "language": "python",
   "name": "python3"
  },
  "language_info": {
   "codemirror_mode": {
    "name": "ipython",
    "version": 3
   },
   "file_extension": ".py",
   "mimetype": "text/x-python",
   "name": "python",
   "nbconvert_exporter": "python",
   "pygments_lexer": "ipython3",
   "version": "3.7.4"
  }
 },
 "nbformat": 4,
 "nbformat_minor": 2
}
