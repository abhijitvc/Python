{
 "cells": [
  {
   "cell_type": "code",
   "execution_count": 1,
   "metadata": {},
   "outputs": [
    {
     "name": "stdout",
     "output_type": "stream",
     "text": [
      "Enter the no of units:264\n",
      "A bill amount of 475.2 has to be paid and 79.2 is the additional charge applied:\n"
     ]
    }
   ],
   "source": [
    "#Q.16 Write a python program to input electricity unit charge and calculate the total electricity bill according\n",
    "# to the given condition:\n",
    "\n",
    "# For first 50 units Rs. 0.50/unit For next 100 units Rs. 0.75/unit For next 100 units Rs. 1.20/unit\n",
    "# For unit above 250 Rs. 1.50/unit An additional surcharge of 20% is added to the bill\n",
    "\n",
    "u = int(input('Enter the no of units:'))\n",
    "n = 0.50\n",
    "extra = 0.00\n",
    "if u in range(0,50):\n",
    "    n = 0.50\n",
    "    bill = u * n\n",
    "    \n",
    "elif u in range(50,150):\n",
    "    n = 0.75\n",
    "    bill = u * n\n",
    "\n",
    "elif u in range(150,250):\n",
    "    n = 1.20\n",
    "    bill = u * n\n",
    "    \n",
    "else:\n",
    "    n = 1.50\n",
    "    bill = u * n\n",
    "    extra = (bill * 20/100)\n",
    "    bill = bill + extra\n",
    "\n",
    "print('A bill amount of {} has to be paid and {} is the additional charge applied:'.format(bill,extra))"
   ]
  },
  {
   "cell_type": "code",
   "execution_count": 2,
   "metadata": {},
   "outputs": [
    {
     "name": "stdout",
     "output_type": "stream",
     "text": [
      "Please enter a Natural number: 10\n",
      "The list of natural numbers from 1 to 10 are listed below\n",
      "1 2 3 4 5 6 7 8 9 10 "
     ]
    }
   ],
   "source": [
    "# 17. Print First 10 natural numbers using while loop\n",
    "\n",
    "num = int(input(\"Please enter a Natural number: \"))\n",
    "i = 1\n",
    "print(\"The list of natural numbers from 1 to {} are listed below\".format(num))\n",
    "while i<=num:\n",
    "    print(i,end = ' ')\n",
    "    i = i + 1"
   ]
  },
  {
   "cell_type": "code",
   "execution_count": 3,
   "metadata": {},
   "outputs": [
    {
     "name": "stdout",
     "output_type": "stream",
     "text": [
      "Please enter a number: 16\n",
      "16 x 1 = 16\n",
      "16 x 2 = 32\n",
      "16 x 3 = 48\n",
      "16 x 4 = 64\n",
      "16 x 5 = 80\n",
      "16 x 6 = 96\n",
      "16 x 7 = 112\n",
      "16 x 8 = 128\n",
      "16 x 9 = 144\n",
      "16 x 10 = 160\n"
     ]
    }
   ],
   "source": [
    "#18. Accept n number from user and print its multiplication table.\n",
    "\n",
    "num = int(input(\"Please enter a number: \"))\n",
    "for i in range(1,11):\n",
    "    print(num,'x',i,'=',num*i)"
   ]
  },
  {
   "cell_type": "code",
   "execution_count": 4,
   "metadata": {},
   "outputs": [
    {
     "name": "stdout",
     "output_type": "stream",
     "text": [
      "50\n",
      "40\n",
      "30\n",
      "20\n",
      "10\n"
     ]
    }
   ],
   "source": [
    "#19.  Q.3 Reverse the following list using for loop.  List1 = [10,20,30,40,50].\n",
    "\n",
    "List1 = [10,20,30,40,50]\n",
    "for i in reversed(List1):\n",
    "    print(i)"
   ]
  },
  {
   "cell_type": "code",
   "execution_count": 5,
   "metadata": {},
   "outputs": [
    {
     "name": "stdout",
     "output_type": "stream",
     "text": [
      "-10\n",
      "-9\n",
      "-8\n",
      "-7\n",
      "-6\n",
      "-5\n",
      "-4\n",
      "-3\n",
      "-2\n",
      "-1\n"
     ]
    }
   ],
   "source": [
    "#20. Display -10 to -1 using for loop \n",
    "\n",
    "List2 = [-10,-9,-8,-7,-6,-5,-4,-3,-2,-1]\n",
    "for x in range(len(List2)):\n",
    "    print(List2[x])"
   ]
  },
  {
   "cell_type": "code",
   "execution_count": 6,
   "metadata": {},
   "outputs": [
    {
     "name": "stdout",
     "output_type": "stream",
     "text": [
      "10\n",
      "20\n",
      "30\n",
      "40\n",
      "50\n",
      "Done\n"
     ]
    }
   ],
   "source": [
    "#21.  Display a message “Done” after successful execution of for loop\n",
    "\n",
    "List1 = [10,20,30,40,50]\n",
    "List3 = ['Done']\n",
    "List4 = List1+List3\n",
    "for i in (List4):\n",
    "    print(i)"
   ]
  },
  {
   "cell_type": "code",
   "execution_count": 7,
   "metadata": {},
   "outputs": [
    {
     "name": "stdout",
     "output_type": "stream",
     "text": [
      "6\n"
     ]
    }
   ],
   "source": [
    "#22. Write a python program to read three numbers (a,b,c) and check how many numbers between ‘a’ and ‘b’ are divisible\n",
    "#   by ‘c’.\n",
    "\n",
    "a = 6\n",
    "b = 8\n",
    "c = 3\n",
    "for i in range(a,b,c):\n",
    "    if(i%c==0):\n",
    "        print(i)"
   ]
  },
  {
   "cell_type": "code",
   "execution_count": 9,
   "metadata": {},
   "outputs": [
    {
     "name": "stdout",
     "output_type": "stream",
     "text": [
      "Enter a number :4\n",
      "0b100\n"
     ]
    }
   ],
   "source": [
    "#23.  Q.7 Write a python program to read a number and print the binary of that number\n",
    "#    (hint: if ‘a’ is a string, a[::-1] will be reverse of that string)\n",
    "\n",
    "binary = int(input('Enter a number :'))\n",
    "b = bin(binary)\n",
    "print(b)"
   ]
  },
  {
   "cell_type": "code",
   "execution_count": 10,
   "metadata": {},
   "outputs": [
    {
     "name": "stdout",
     "output_type": "stream",
     "text": [
      " 2 3 5 7 11 13 17 19 23 29 31 37 41 43 47 53 59 61 67 71 73 79 83 89 97"
     ]
    }
   ],
   "source": [
    "#24.  Write a python program to print all prime numbers between 0 to 100 , and print how many prime numbers are there.\n",
    "#     (Using both While and For loop)\n",
    "\n",
    "Number = 1\n",
    "\n",
    "while(Number <= 100):\n",
    "    count = 0\n",
    "    i = 2\n",
    "    \n",
    "    while(i <= Number//2):\n",
    "        if(Number % i == 0):\n",
    "            count = count + 1\n",
    "            break\n",
    "        i = i + 1\n",
    "\n",
    "    if (count == 0 and Number != 1):\n",
    "        print(\" %d\" %Number, end = '')\n",
    "    Number = Number  + 1"
   ]
  },
  {
   "cell_type": "code",
   "execution_count": 11,
   "metadata": {},
   "outputs": [
    {
     "name": "stdout",
     "output_type": "stream",
     "text": [
      "Please enter one hobby followed by a comma: sports,\n",
      "Please enter another hobby followed by a comma: reading,\n",
      "Please enter one more hobby and end it with a period: photography.\n",
      "your favorite hobbies are:  sports,reading,photography.\n"
     ]
    }
   ],
   "source": [
    "#25. Create a for loop that prompts the user for a hobby 3 times, then appends each one to hobbies.\n",
    "\n",
    "x = str(input(\"Please enter one hobby followed by a comma: \"))\n",
    "\n",
    "y = str(input(\"Please enter another hobby followed by a comma: \"))\n",
    "\n",
    "z = str(input(\"Please enter one more hobby and end it with a period: \"))\n",
    "\n",
    "hobbies = [x+y+z]\n",
    "\n",
    "for i in(hobbies):\n",
    "    print(\"your favorite hobbies are: \",i)"
   ]
  },
  {
   "cell_type": "code",
   "execution_count": 12,
   "metadata": {},
   "outputs": [
    {
     "name": "stdout",
     "output_type": "stream",
     "text": [
      "10\n",
      "9\n",
      "8\n",
      "7\n",
      "6\n",
      "5\n",
      "4\n",
      "3\n",
      "2\n",
      "1\n",
      "The numbers divisible by 2 are [8, 6, 4, 2, 0]\n"
     ]
    }
   ],
   "source": [
    "#26.  Write a program to Output the numbers 1 to 10 backwards using a loop and create a loop that counts all even numbers\n",
    "#     to 10.\n",
    "\n",
    "n = 10\n",
    "res = []\n",
    "while(n > 0):\n",
    "    print(n)\n",
    "    n -=1\n",
    "    if n % 2 == 0:\n",
    "        res.append(n)\n",
    "print('The numbers divisible by 2 are {}'.format(res))"
   ]
  },
  {
   "cell_type": "code",
   "execution_count": 1,
   "metadata": {},
   "outputs": [
    {
     "name": "stdout",
     "output_type": "stream",
     "text": [
      "Enter a number: 1\n",
      "Enter a number: 2\n",
      "Enter a number: q\n",
      "q\n"
     ]
    }
   ],
   "source": [
    "#27.  Write an infinite loop. A inifinte loop never ends. Condition is always true.\n",
    "\n",
    "while True:\n",
    "    user_input = input('Enter a number: ')\n",
    "    if user_input == 'q': break\n",
    "    user_input = int(user_input)\n",
    "print(user_input)"
   ]
  },
  {
   "cell_type": "code",
   "execution_count": 2,
   "metadata": {},
   "outputs": [
    {
     "name": "stdout",
     "output_type": "stream",
     "text": [
      "GCD of 2 and 64 is 2\n"
     ]
    }
   ],
   "source": [
    "# Q.28 Write a program to find greatest common divisor (GCD) or highest common factor (HCF) of given two numbers.\n",
    "\n",
    "def gcd(a,b):\n",
    "    if (b == 0):\n",
    "         return a\n",
    "    return gcd(b, a%b)\n",
    "\n",
    "a = 2\n",
    "b = 64\n",
    "if(gcd(a, b)):\n",
    "    print('GCD of', a, 'and', b, 'is', gcd(a, b)) \n",
    "else:\n",
    "    print('not found')"
   ]
  },
  {
   "cell_type": "code",
   "execution_count": 3,
   "metadata": {},
   "outputs": [
    {
     "name": "stdout",
     "output_type": "stream",
     "text": [
      "Enter a number: 1\n",
      "Enter a number: 2\n",
      "Enter a number: 3\n",
      "Enter a number: 4\n",
      "Enter a number: q\n",
      "Average: 2.5\n",
      "Product: 24\n"
     ]
    }
   ],
   "source": [
    "# Q.29 Take integer inputs from user until he/she presses q ( Ask to press q to quit after every integer input ).\n",
    "# Print average and product of all numbers.\n",
    "\n",
    "\n",
    "# Initialization\n",
    "count = 0 \n",
    "sum = 0 \n",
    "product = 1 \n",
    "\n",
    "# Loop will run infinitely till user presses 'q'\n",
    "while True:\n",
    "    # Uncomment user_input = comp_input, Comment user_input = input(...) for magic\n",
    "    # user_input = comp_input\n",
    "    user_input = input('Enter a number: ')\n",
    "    if user_input == 'q': break\n",
    "    user_input = int(user_input)\n",
    "\n",
    "    # Store the result of addition of prev sum and user input\n",
    "    sum = sum + user_input\n",
    "        \n",
    "    # Store the result of addition of prev sum and user input\n",
    "    product = product * user_input\n",
    "\n",
    "    # Count the number of times user gave integer input\n",
    "    count = count + 1\n",
    "\n",
    "print('Average:', sum/count)\n",
    "print('Product:', product)"
   ]
  },
  {
   "cell_type": "code",
   "execution_count": 4,
   "metadata": {},
   "outputs": [
    {
     "name": "stdout",
     "output_type": "stream",
     "text": [
      "Enter an alphabet: e\n",
      "Vowel.\n"
     ]
    }
   ],
   "source": [
    "#Q.30 Write a program that takes the user to provide a single character from the alphabet\n",
    "#Print Vowel or Consonant, depending on the user input.\n",
    "#If the user input is not a letter (between a and z or A and Z), or is a string of length > 1, print an error message.\n",
    "\n",
    "user_input = input(\"Enter an alphabet: \")\n",
    "\n",
    "alpha = 'abcdefghijklmnopqrstuvwxyzABCDEFGHIJKLMNOPQRSTUVWXYZ'\n",
    "\n",
    "vowel = 'aeiouAEIOU'\n",
    "\n",
    "\n",
    "if user_input in vowel:\n",
    "    print('Vowel.')\n",
    "elif len(user_input)>1 or user_input not in alpha:\n",
    "    print('Error: Please enter valid input.')\n",
    "else:\n",
    "    print('Consonant.')"
   ]
  }
 ],
 "metadata": {
  "kernelspec": {
   "display_name": "Python 3",
   "language": "python",
   "name": "python3"
  },
  "language_info": {
   "codemirror_mode": {
    "name": "ipython",
    "version": 3
   },
   "file_extension": ".py",
   "mimetype": "text/x-python",
   "name": "python",
   "nbconvert_exporter": "python",
   "pygments_lexer": "ipython3",
   "version": "3.7.4"
  }
 },
 "nbformat": 4,
 "nbformat_minor": 2
}
