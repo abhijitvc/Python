{
 "cells": [
  {
   "cell_type": "code",
   "execution_count": 23,
   "metadata": {},
   "outputs": [
    {
     "name": "stdout",
     "output_type": "stream",
     "text": [
      "********\n",
      "*      *\n",
      "*      *\n",
      "*      *\n",
      "*      *\n",
      "*      *\n",
      "********\n",
      "\n",
      "Another way to print 0 with curves below.\n"
     ]
    }
   ],
   "source": [
    "# 2 pattern for 0\n",
    "\n",
    "for i in range(8):\n",
    "    if i==0:\n",
    "        print('*'*8)\n",
    "    elif i in (2,3):\n",
    "        print('*',' '*4,'*')\n",
    "    elif i==4:\n",
    "        print('*',' '*4,'*')\n",
    "    elif i in(5,6):\n",
    "        print('*',' '*4,'*')\n",
    "    elif i==7:\n",
    "        print('*'*8)\n",
    "        \n",
    "print()\n",
    "print(\"Another way to print 0 with curves below.\")        "
   ]
  },
  {
   "cell_type": "code",
   "execution_count": 21,
   "metadata": {},
   "outputs": [
    {
     "name": "stdout",
     "output_type": "stream",
     "text": [
      " ******\n",
      "*      *\n",
      "*      *\n",
      "*      *\n",
      "*      *\n",
      "*      *\n",
      " ******\n"
     ]
    }
   ],
   "source": [
    "#pattern for 0\n",
    "\n",
    "for i in range(8):\n",
    "    if i==0:\n",
    "        print('','*'*6)\n",
    "    elif i in (2,3):\n",
    "        print('*',' '*4,'*')\n",
    "    elif i==4:\n",
    "        print('*',' '*4,'*')\n",
    "    elif i in(5,6):\n",
    "        print('*',' '*4,'*')\n",
    "    elif i==7:\n",
    "        print('','*'*6)"
   ]
  },
  {
   "cell_type": "code",
   "execution_count": 2,
   "metadata": {},
   "outputs": [
    {
     "name": "stdout",
     "output_type": "stream",
     "text": [
      "    *\n",
      "   **\n",
      "  * *\n",
      "    *    \n",
      "    *    \n",
      "    *    \n",
      "*********\n"
     ]
    }
   ],
   "source": [
    "#pattern for 1\n",
    "\n",
    "for i in range(8):\n",
    "    if i==0:\n",
    "        print(' '*3,'*')\n",
    "    elif i==2:\n",
    "        print(' '*2,'**')\n",
    "    elif i==3:\n",
    "        print(' '*1,'* *')\n",
    "    elif i in (4,5,6):\n",
    "        print(' '*3,'*',' '*3)\n",
    "    elif i==7:\n",
    "        print('*'*9)"
   ]
  },
  {
   "cell_type": "code",
   "execution_count": 3,
   "metadata": {},
   "outputs": [
    {
     "name": "stdout",
     "output_type": "stream",
     "text": [
      "********\n",
      "       *\n",
      "       *\n",
      "********\n",
      "*\n",
      "*\n",
      "********\n"
     ]
    }
   ],
   "source": [
    "#pattern for 2\n",
    "\n",
    "for i in range(8):\n",
    "    if i==0:\n",
    "        print('*'*8)\n",
    "    elif i in (2,3):\n",
    "        print(' '*6,'*')\n",
    "    elif i==4:\n",
    "        print('*'*8)\n",
    "    elif i in(5,6):\n",
    "        print('*')\n",
    "    elif i==7:\n",
    "        print('*'*8)"
   ]
  },
  {
   "cell_type": "code",
   "execution_count": 4,
   "metadata": {},
   "outputs": [
    {
     "name": "stdout",
     "output_type": "stream",
     "text": [
      "********\n",
      "       *\n",
      "       *\n",
      "  ******\n",
      "       *\n",
      "       *\n",
      "********\n"
     ]
    }
   ],
   "source": [
    "#pattern for 3\n",
    "\n",
    "for i in range(8):\n",
    "    if i==0:\n",
    "        print('*'*8)\n",
    "    elif i in (2,3):\n",
    "        print(' '*6,'*')\n",
    "    elif i==4:\n",
    "        print(' ','*'*6)\n",
    "    elif i in(5,6):\n",
    "        print(' '*6,'*')\n",
    "    elif i==7:\n",
    "        print('*'*8)"
   ]
  },
  {
   "cell_type": "code",
   "execution_count": 5,
   "metadata": {},
   "outputs": [
    {
     "name": "stdout",
     "output_type": "stream",
     "text": [
      "*      *\n",
      "*      *\n",
      "*      *\n",
      "********\n",
      "       *\n",
      "       *\n",
      "       *\n"
     ]
    }
   ],
   "source": [
    "#pattern for 4\n",
    "\n",
    "for i in range(8):\n",
    "    if i==0:\n",
    "        print('*',' '*4,'*')\n",
    "    elif i in (2,3):\n",
    "        print('*',' '*4,'*')\n",
    "    elif i==4:\n",
    "        print('*'*8)\n",
    "    elif i in(5,6):\n",
    "        print(' '*6,'*')\n",
    "    elif i==7:\n",
    "        print(' '*6,'*')"
   ]
  },
  {
   "cell_type": "code",
   "execution_count": 6,
   "metadata": {},
   "outputs": [
    {
     "name": "stdout",
     "output_type": "stream",
     "text": [
      "********\n",
      "*\n",
      "*\n",
      "********\n",
      "       *\n",
      "       *\n",
      "********\n"
     ]
    }
   ],
   "source": [
    "#pattern for 5\n",
    "\n",
    "for i in range(8):\n",
    "    if i==0:\n",
    "        print('*'*8)\n",
    "    elif i in (2,3):\n",
    "        print('*')\n",
    "    elif i==4:\n",
    "        print('*'*8)\n",
    "    elif i in(5,6):\n",
    "        print(' '*6,'*')\n",
    "    elif i==7:\n",
    "        print('*'*8)"
   ]
  },
  {
   "cell_type": "code",
   "execution_count": 7,
   "metadata": {},
   "outputs": [
    {
     "name": "stdout",
     "output_type": "stream",
     "text": [
      "********\n",
      "*\n",
      "*\n",
      "********\n",
      "*      *\n",
      "*      *\n",
      "********\n"
     ]
    }
   ],
   "source": [
    "#pattern for 6\n",
    "\n",
    "for i in range(8):\n",
    "    if i==0:\n",
    "        print('*'*8)\n",
    "    elif i in (2,3):\n",
    "        print('*')\n",
    "    elif i==4:\n",
    "        print('*'*8)\n",
    "    elif i in(5,6):\n",
    "        print('*',' '*4,'*')\n",
    "    elif i==7:\n",
    "        print('*'*8)"
   ]
  },
  {
   "cell_type": "code",
   "execution_count": 8,
   "metadata": {},
   "outputs": [
    {
     "name": "stdout",
     "output_type": "stream",
     "text": [
      "********\n",
      "       *\n",
      "       *\n",
      "       *\n",
      "       *\n",
      "       *\n",
      "       *\n"
     ]
    }
   ],
   "source": [
    "#pattern for 7\n",
    "\n",
    "for i in range(8):\n",
    "    if i==0:\n",
    "        print('*'*8)\n",
    "    elif i in (2,3):\n",
    "        print(' '*6,'*')\n",
    "    elif i==4:\n",
    "        print(' '*6,'*')\n",
    "    elif i in(5,6):\n",
    "        print(' '*6,'*')\n",
    "    elif i==7:\n",
    "        print(' '*6,'*')"
   ]
  },
  {
   "cell_type": "code",
   "execution_count": 9,
   "metadata": {},
   "outputs": [
    {
     "name": "stdout",
     "output_type": "stream",
     "text": [
      "********\n",
      "*      *\n",
      "*      *\n",
      "********\n",
      "*      *\n",
      "*      *\n",
      "********\n"
     ]
    }
   ],
   "source": [
    "#pattern for 8\n",
    "\n",
    "\n",
    "for i in range(8):\n",
    "    if i==0:\n",
    "        print('*'*8)\n",
    "    elif i in (2,3):\n",
    "        print('*',' '*4,'*')\n",
    "    elif i==4:\n",
    "        print('*'*8)\n",
    "    elif i in(5,6):\n",
    "        print('*',' '*4,'*')\n",
    "    elif i==7:\n",
    "        print('*'*8)"
   ]
  },
  {
   "cell_type": "code",
   "execution_count": 10,
   "metadata": {},
   "outputs": [
    {
     "name": "stdout",
     "output_type": "stream",
     "text": [
      " ****** \n",
      "*      *\n",
      "*      *\n",
      " ****** \n",
      "*      *\n",
      "*      *\n",
      " ****** \n"
     ]
    }
   ],
   "source": [
    "#pattern for 8\n",
    "\n",
    "\n",
    "for i in range(8):\n",
    "    if i==0:\n",
    "        print('','*'*6,'')\n",
    "    elif i in (2,3):\n",
    "        print('*',' '*4,'*')\n",
    "    elif i==4:\n",
    "        print('','*'*6,'')\n",
    "    elif i in(5,6):\n",
    "        print('*',' '*4,'*')\n",
    "    elif i==7:\n",
    "        print('','*'*6,'')"
   ]
  },
  {
   "cell_type": "code",
   "execution_count": 11,
   "metadata": {},
   "outputs": [
    {
     "name": "stdout",
     "output_type": "stream",
     "text": [
      "********\n",
      "*      *\n",
      "*      *\n",
      "********\n",
      "       *\n",
      "       *\n",
      "********\n"
     ]
    }
   ],
   "source": [
    "#pattern for 9\n",
    "\n",
    "\n",
    "for i in range(8):\n",
    "    if i==0:\n",
    "        print('*'*8)\n",
    "    elif i in (2,3):\n",
    "        print('*',' '*4,'*')\n",
    "    elif i==4:\n",
    "        print('*'*8)\n",
    "    elif i in(5,6):\n",
    "        print(' '*6,'*')\n",
    "    elif i==7:\n",
    "        print('*'*8)"
   ]
  },
  {
   "cell_type": "code",
   "execution_count": 20,
   "metadata": {},
   "outputs": [
    {
     "name": "stdout",
     "output_type": "stream",
     "text": [
      " ******\n",
      "*      *\n",
      "*      *\n",
      " *******\n",
      "       *\n",
      "       *\n",
      " ******\n"
     ]
    }
   ],
   "source": [
    "#pattern for 9\n",
    "\n",
    "\n",
    "for i in range(8):\n",
    "    if i==0:\n",
    "        print('','*'*6)\n",
    "    elif i in (2,3):\n",
    "        print('*',' '*4,'*')\n",
    "    elif i==4:\n",
    "        print('','*'*7)\n",
    "    elif i in(5,6):\n",
    "        print(' '*6,'*')\n",
    "    elif i==7:\n",
    "        print('','*'*6)"
   ]
  },
  {
   "cell_type": "code",
   "execution_count": null,
   "metadata": {},
   "outputs": [],
   "source": []
  }
 ],
 "metadata": {
  "kernelspec": {
   "display_name": "Python 3",
   "language": "python",
   "name": "python3"
  },
  "language_info": {
   "codemirror_mode": {
    "name": "ipython",
    "version": 3
   },
   "file_extension": ".py",
   "mimetype": "text/x-python",
   "name": "python",
   "nbconvert_exporter": "python",
   "pygments_lexer": "ipython3",
   "version": "3.7.4"
  }
 },
 "nbformat": 4,
 "nbformat_minor": 2
}
