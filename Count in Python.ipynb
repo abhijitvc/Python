{
 "cells": [
  {
   "cell_type": "markdown",
   "metadata": {},
   "source": [
    "**Counting items**\n",
    "\n",
    "Often, you want to know how many times a certain value occurs in a list. For instance, say we’ve collected a list of 1-10 ratings from an online survey. To simulate this, we’ll generate a list of 1,000 random numbers from 1 to 10 using the randint() function."
   ]
  },
  {
   "cell_type": "code",
   "execution_count": 1,
   "metadata": {},
   "outputs": [
    {
     "name": "stdout",
     "output_type": "stream",
     "text": [
      "1: 86 occurences\n",
      "2: 119 occurences\n",
      "3: 96 occurences\n",
      "4: 100 occurences\n",
      "5: 99 occurences\n",
      "6: 121 occurences\n",
      "7: 98 occurences\n",
      "8: 106 occurences\n",
      "9: 97 occurences\n",
      "10: 78 occurences\n"
     ]
    }
   ],
   "source": [
    "from random import randint\n",
    "\n",
    "ratings = [randint(1, 10) for _ in range(1,1001)]\n",
    "\n",
    "for i in range(1, 11):\n",
    "    print(\"{}: {} occurences\".format(i, ratings.count(i)))"
   ]
  },
  {
   "cell_type": "markdown",
   "metadata": {},
   "source": [
    "Now, we want to know how many of each rating is included in the list. One way to do this is to use the built-in count function of the list. count() takes a value and returns the number of times that value occurs in the list."
   ]
  },
  {
   "cell_type": "markdown",
   "metadata": {},
   "source": [
    "However, this only works if you know in advance what is the range of values in your list. In case you don’t know the possible values, you can use a set, which creates a list of unique items contained in another list. For instance, if you have a list of names and want to know how many times each name has occurred you can use the following code."
   ]
  },
  {
   "cell_type": "code",
   "execution_count": 8,
   "metadata": {},
   "outputs": [
    {
     "name": "stdout",
     "output_type": "stream",
     "text": [
      "Sachin: 2 occurences\n",
      "Kapil: 1 occurences\n",
      "Rahul: 1 occurences\n",
      "Dravid: 1 occurences\n",
      "Sunil: 1 occurences\n"
     ]
    }
   ],
   "source": [
    "names = ['Sachin', 'Rahul', 'Dravid', 'Sunil', 'Kapil', 'Sachin']\n",
    "\n",
    "for name in set(names):\n",
    "    print(\"{}: {} occurences\".format(name, names.count(name)))"
   ]
  },
  {
   "cell_type": "markdown",
   "metadata": {},
   "source": [
    "Alternatively, you can use the Counter class, which specializes in counting values in lists."
   ]
  },
  {
   "cell_type": "code",
   "execution_count": 2,
   "metadata": {},
   "outputs": [
    {
     "name": "stdout",
     "output_type": "stream",
     "text": [
      "4: 100 occurences\n",
      "1: 86 occurences\n",
      "3: 96 occurences\n",
      "10: 78 occurences\n",
      "9: 97 occurences\n",
      "7: 98 occurences\n",
      "5: 99 occurences\n",
      "2: 119 occurences\n",
      "6: 121 occurences\n",
      "8: 106 occurences\n"
     ]
    }
   ],
   "source": [
    "from collections import Counter\n",
    "\n",
    "ratings_count = Counter(ratings)\n",
    "\n",
    "for rating in ratings_count:\n",
    "    print(\"{}: {} occurences\".format(rating, ratings_count[rating]))"
   ]
  },
  {
   "cell_type": "markdown",
   "metadata": {},
   "source": [
    "Counter provides some added functionality, such as the most_common() function, which gives you the most occurring values in a list. For instance, the following code will print out the three most-popular values:"
   ]
  },
  {
   "cell_type": "code",
   "execution_count": 3,
   "metadata": {},
   "outputs": [
    {
     "name": "stdout",
     "output_type": "stream",
     "text": [
      "6: 121 occurences\n",
      "2: 119 occurences\n",
      "8: 106 occurences\n"
     ]
    }
   ],
   "source": [
    "for rating in ratings_count.most_common(3):\n",
    "    print(\"{}: {} occurences\".format(*rating))"
   ]
  }
 ],
 "metadata": {
  "kernelspec": {
   "display_name": "Python 3",
   "language": "python",
   "name": "python3"
  },
  "language_info": {
   "codemirror_mode": {
    "name": "ipython",
    "version": 3
   },
   "file_extension": ".py",
   "mimetype": "text/x-python",
   "name": "python",
   "nbconvert_exporter": "python",
   "pygments_lexer": "ipython3",
   "version": "3.7.4"
  }
 },
 "nbformat": 4,
 "nbformat_minor": 2
}
