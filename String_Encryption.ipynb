{
 "cells": [
  {
   "cell_type": "code",
   "execution_count": 1,
   "metadata": {},
   "outputs": [
    {
     "name": "stdout",
     "output_type": "stream",
     "text": [
      "b'gAAAAABgJiwDNnHs5yqzNE3taKSPsc9tdRMPM3rF0CFMHMN7-Roc4ahVXJi4q2Eo-7Gut170klM7v7ZyLaZopyI0CjRbBUnpMw=='\n"
     ]
    }
   ],
   "source": [
    "from cryptography.fernet import Fernet #fernet is an implementation of symmetric authenticated cryptography\n",
    "\n",
    "def write_key():\n",
    "    key = Fernet.generate_key()\n",
    "    with open('key.key','wb') as key_file:\n",
    "        key_file.write(key)\n",
    "        \n",
    "def load_key():\n",
    "    return open('key.key','rb').read()\n",
    "\n",
    "write_key()\n",
    "key = load_key()\n",
    "f = Fernet(key)\n",
    "message = \"Hello World.\".encode()\n",
    "encrypted = f.encrypt(message)\n",
    "print(encrypted)"
   ]
  },
  {
   "cell_type": "code",
   "execution_count": 2,
   "metadata": {},
   "outputs": [
    {
     "name": "stdout",
     "output_type": "stream",
     "text": [
      "b'Hello World.'\n"
     ]
    }
   ],
   "source": [
    "decrypted_encrypted = f.decrypt((encrypted))\n",
    "print(decrypted_encrypted)"
   ]
  },
  {
   "cell_type": "code",
   "execution_count": 3,
   "metadata": {},
   "outputs": [
    {
     "name": "stdout",
     "output_type": "stream",
     "text": [
      "Enter a sentence you want to encrypthey there how is it going\n",
      "b'gAAAAABgJiwTKAgr0C3yxGj77ld2kndGX8rUwg6aT379VfSYKpuwBCSN5rwiX_V9PvUGAL94lx_2RSpS-VopsMT7oluuQ2S7VFIkbRTizWsrdFB9o1-Je_g='\n"
     ]
    }
   ],
   "source": [
    "from cryptography.fernet import Fernet #fernet is an implementation of symmetric authenticated cryptography\n",
    "\n",
    "def write_key():\n",
    "    key = Fernet.generate_key()\n",
    "    with open('key.key','wb') as key_file:\n",
    "        key_file.write(key)\n",
    "        \n",
    "def load_key():\n",
    "    return open('key.key','rb').read()\n",
    "\n",
    "write_key()\n",
    "key = load_key()\n",
    "f = Fernet(key)\n",
    "message = input('Enter a sentence you want to encrypt').encode()\n",
    "encrypted = f.encrypt(message)\n",
    "print(encrypted)"
   ]
  },
  {
   "cell_type": "code",
   "execution_count": 4,
   "metadata": {},
   "outputs": [
    {
     "name": "stdout",
     "output_type": "stream",
     "text": [
      "b'hey there how is it going'\n"
     ]
    }
   ],
   "source": [
    "decrypted_encrypted = f.decrypt((encrypted))\n",
    "print(decrypted_encrypted)"
   ]
  },
  {
   "cell_type": "code",
   "execution_count": 5,
   "metadata": {},
   "outputs": [
    {
     "name": "stdout",
     "output_type": "stream",
     "text": [
      "Enter a sentence you want to encryptstring encryption\n",
      "b'gAAAAABgJiwp6N9AaM9BabqcITPbh29Qb8OVt7iXE-g-oiDyR-QuzojUlA6Ru7l5awZUs4OmpaO6u3htrRcFtiAD6B-VVZHjjalKgFBFLFWSUiyyApdbJNI='\n"
     ]
    }
   ],
   "source": [
    "from cryptography.fernet import Fernet #fernet is an implementation of symmetric authenticated cryptography\n",
    "\n",
    "def write_key():\n",
    "    key = Fernet.generate_key()\n",
    "    with open('key.key','wb') as key_file:\n",
    "        key_file.write(key)\n",
    "        \n",
    "def load_key():\n",
    "    return open('key.key','rb').read()\n",
    "\n",
    "write_key()\n",
    "key = load_key()\n",
    "f = Fernet(key)\n",
    "message = input('Enter a sentence you want to encrypt').encode()\n",
    "encrypted = f.encrypt(message)\n",
    "print(encrypted)"
   ]
  },
  {
   "cell_type": "code",
   "execution_count": 6,
   "metadata": {},
   "outputs": [
    {
     "name": "stdout",
     "output_type": "stream",
     "text": [
      "b'string encryption'\n"
     ]
    }
   ],
   "source": [
    "decrypted_encrypted = f.decrypt((encrypted))\n",
    "print(decrypted_encrypted)"
   ]
  }
 ],
 "metadata": {
  "kernelspec": {
   "display_name": "Python 3",
   "language": "python",
   "name": "python3"
  },
  "language_info": {
   "codemirror_mode": {
    "name": "ipython",
    "version": 3
   },
   "file_extension": ".py",
   "mimetype": "text/x-python",
   "name": "python",
   "nbconvert_exporter": "python",
   "pygments_lexer": "ipython3",
   "version": "3.7.4"
  }
 },
 "nbformat": 4,
 "nbformat_minor": 2
}
