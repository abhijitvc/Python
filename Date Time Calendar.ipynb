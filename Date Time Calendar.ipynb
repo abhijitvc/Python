{
 "cells": [
  {
   "cell_type": "markdown",
   "metadata": {},
   "source": [
    "# 1. Write a Python script to display the various Date Timeformats - Go to the editor a) Current date and time b) Current year c) Month of year d) Weeknumber of the year e) Weekday of the week f) Day of year g) Day of the month h) Day of week"
   ]
  },
  {
   "cell_type": "code",
   "execution_count": 1,
   "metadata": {},
   "outputs": [],
   "source": [
    "import time\n",
    "import calendar\n",
    "import datetime"
   ]
  },
  {
   "cell_type": "code",
   "execution_count": 2,
   "metadata": {},
   "outputs": [
    {
     "name": "stdout",
     "output_type": "stream",
     "text": [
      "time.struct_time(tm_year=2020, tm_mon=11, tm_mday=3, tm_hour=12, tm_min=54, tm_sec=40, tm_wday=1, tm_yday=308, tm_isdst=0)\n"
     ]
    }
   ],
   "source": [
    "#a\n",
    "print(time.localtime())"
   ]
  },
  {
   "cell_type": "code",
   "execution_count": 3,
   "metadata": {},
   "outputs": [
    {
     "name": "stdout",
     "output_type": "stream",
     "text": [
      "Current Year: 2020\n"
     ]
    }
   ],
   "source": [
    "#b\n",
    "print(\"Current Year:\",datetime.datetime.today().strftime('%Y'))"
   ]
  },
  {
   "cell_type": "code",
   "execution_count": 4,
   "metadata": {},
   "outputs": [
    {
     "name": "stdout",
     "output_type": "stream",
     "text": [
      "Current Month: November\n"
     ]
    }
   ],
   "source": [
    "#c\n",
    "print(\"Current Month:\",datetime.datetime.today().strftime('%B'))"
   ]
  },
  {
   "cell_type": "code",
   "execution_count": 5,
   "metadata": {},
   "outputs": [
    {
     "name": "stdout",
     "output_type": "stream",
     "text": [
      "Week Number: 44\n"
     ]
    }
   ],
   "source": [
    "#d\n",
    "print(\"Week Number:\",datetime.datetime.today().strftime('%W'))"
   ]
  },
  {
   "cell_type": "code",
   "execution_count": 6,
   "metadata": {},
   "outputs": [
    {
     "name": "stdout",
     "output_type": "stream",
     "text": [
      "Day of Year: 308\n"
     ]
    }
   ],
   "source": [
    "#e\n",
    "print(\"Day of Year:\",datetime.datetime.today().strftime('%j'))"
   ]
  },
  {
   "cell_type": "code",
   "execution_count": 7,
   "metadata": {},
   "outputs": [
    {
     "name": "stdout",
     "output_type": "stream",
     "text": [
      "Day of Week: Tuesday\n"
     ]
    }
   ],
   "source": [
    "#f\n",
    "print(\"Day of Week:\",datetime.datetime.today().strftime('%A'))"
   ]
  },
  {
   "cell_type": "code",
   "execution_count": 8,
   "metadata": {},
   "outputs": [
    {
     "name": "stdout",
     "output_type": "stream",
     "text": [
      "Day of Month: 03\n"
     ]
    }
   ],
   "source": [
    "#g day of month\n",
    "print(\"Day of Month:\",datetime.datetime.today().strftime(\"%d\"))"
   ]
  },
  {
   "cell_type": "code",
   "execution_count": 9,
   "metadata": {},
   "outputs": [
    {
     "name": "stdout",
     "output_type": "stream",
     "text": [
      "Day of Week: Tuesday\n"
     ]
    }
   ],
   "source": [
    "#h\n",
    "print(\"Day of Week:\",datetime.datetime.today().strftime(\"%A\"))"
   ]
  },
  {
   "cell_type": "markdown",
   "metadata": {},
   "source": [
    "# 2. Write a Python program to determine whether a given year is a leap year."
   ]
  },
  {
   "cell_type": "code",
   "execution_count": 10,
   "metadata": {},
   "outputs": [
    {
     "name": "stdout",
     "output_type": "stream",
     "text": [
      "Enter the initial year : 1900\n",
      "Enter the final year : 2021\n",
      "1904 1908 1912 1916 1920 1924 1928 1932 1936 1940 1944 1948 1952 1956 1960 1964 1968 1972 1976 1980 1984 1988 1992 1996 2000 2004 2008 2012 2016 2020 "
     ]
    }
   ],
   "source": [
    "a=int(input(\"Enter the initial year : \"))\n",
    "b=int(input(\"Enter the final year : \"))\n",
    "for i in range(a,b):\n",
    "    if calendar.isleap(i)==True:\n",
    "        print(i, end =' ')"
   ]
  },
  {
   "cell_type": "code",
   "execution_count": 11,
   "metadata": {},
   "outputs": [
    {
     "name": "stdout",
     "output_type": "stream",
     "text": [
      "Year: 2020\n",
      "2020 is not a leap year.\n"
     ]
    }
   ],
   "source": [
    "import time\n",
    "import calendar\n",
    "import datetime\n",
    "\n",
    "a = int(input(\"Year: \"))\n",
    "\n",
    "if calendar.isleap==True:\n",
    "        print(a,\"is a leap year.\")\n",
    "else:\n",
    "    print(a,\"is not a leap year.\")"
   ]
  },
  {
   "cell_type": "markdown",
   "metadata": {},
   "source": [
    "# 3. Write a Python program to convert a string to datetime. Sample String : Jan 1 2014 2:43 PM, Expected Output : 2014-07-01 14:43:00"
   ]
  },
  {
   "cell_type": "code",
   "execution_count": 12,
   "metadata": {},
   "outputs": [],
   "source": [
    "import time\n",
    "import calendar\n",
    "import datetime"
   ]
  },
  {
   "cell_type": "code",
   "execution_count": 13,
   "metadata": {},
   "outputs": [
    {
     "name": "stdout",
     "output_type": "stream",
     "text": [
      "2014-07-01 14:43:00\n"
     ]
    }
   ],
   "source": [
    "sample_string = (\"Jan 1 2014 2:43 pm\")\n",
    "\n",
    "expected_output = (datetime.datetime.strptime('Jul 1 2014 2:43PM', '%b %d %Y %I:%M%p'))\n",
    "print(expected_output)"
   ]
  },
  {
   "cell_type": "markdown",
   "metadata": {},
   "source": [
    "# 4. Write a Python program to get the current time in Python.  Sample Format: 13:19:49.078205 5."
   ]
  },
  {
   "cell_type": "code",
   "execution_count": 14,
   "metadata": {},
   "outputs": [
    {
     "name": "stdout",
     "output_type": "stream",
     "text": [
      "12:54:56.770146\n"
     ]
    }
   ],
   "source": [
    "print(datetime.datetime.now().time())"
   ]
  },
  {
   "cell_type": "markdown",
   "metadata": {},
   "source": [
    "# 5. Write a Python program to subtract five days from current date. Sample Date: Current Date : 2015-06-22 5 days before Current Date : 2015-06-17"
   ]
  },
  {
   "cell_type": "code",
   "execution_count": 15,
   "metadata": {},
   "outputs": [
    {
     "name": "stdout",
     "output_type": "stream",
     "text": [
      "2020-11-03 12:54:56.785694\n",
      "\n",
      "2020-10-29 12:54:58.785723\n"
     ]
    }
   ],
   "source": [
    "import datetime\n",
    "from datetime import timedelta\n",
    "print(datetime.datetime.now())\n",
    "print()\n",
    "time.sleep(2)\n",
    "print(datetime.datetime.today()-timedelta(days=5))"
   ]
  },
  {
   "cell_type": "markdown",
   "metadata": {},
   "source": [
    "# 6. Write a Python program to convert unix timestamp string to readable date. Sample Unix timestamp string : 1284105682 Expected Output : 2010-09-10 13:31:22"
   ]
  },
  {
   "cell_type": "code",
   "execution_count": 16,
   "metadata": {},
   "outputs": [
    {
     "name": "stdout",
     "output_type": "stream",
     "text": [
      "2020-11-03 12:54:58.801815\n"
     ]
    }
   ],
   "source": [
    "print(datetime.datetime.now())"
   ]
  },
  {
   "cell_type": "markdown",
   "metadata": {},
   "source": [
    "# 7. Write a Python program to print yesterday, today, tomorrow."
   ]
  },
  {
   "cell_type": "code",
   "execution_count": 17,
   "metadata": {},
   "outputs": [
    {
     "name": "stdout",
     "output_type": "stream",
     "text": [
      "Yesterday: 2020-11-02 12:54:58.829779\n",
      "\n",
      "Today: 2020-11-03 12:54:58.835798\n",
      "\n",
      "Tomorrow: 2020-11-04 12:54:58.838717\n"
     ]
    }
   ],
   "source": [
    "import datetime\n",
    "from datetime import timedelta\n",
    "print(\"Yesterday:\",datetime.datetime.today()-timedelta(days=1))\n",
    "print()\n",
    "print(\"Today:\",datetime.datetime.now())\n",
    "print()\n",
    "print(\"Tomorrow:\",datetime.datetime.today()+timedelta(days=1))"
   ]
  },
  {
   "cell_type": "markdown",
   "metadata": {},
   "source": [
    "# 8. Write a Python program to convert the date to datetime (midnight of the date) in Python. Sample Output : 2015-06-22 00:00:00"
   ]
  },
  {
   "cell_type": "code",
   "execution_count": 18,
   "metadata": {},
   "outputs": [
    {
     "name": "stdout",
     "output_type": "stream",
     "text": [
      "2020-11-03 00:00:00\n"
     ]
    }
   ],
   "source": [
    "from datetime import date\n",
    "from datetime import datetime\n",
    "dt = date.today()\n",
    "print(datetime.combine(dt, datetime.min.time()))"
   ]
  },
  {
   "cell_type": "code",
   "execution_count": 19,
   "metadata": {},
   "outputs": [
    {
     "name": "stdout",
     "output_type": "stream",
     "text": [
      "00:00:00\n"
     ]
    }
   ],
   "source": [
    "#min time of day\n",
    "\n",
    "print(datetime.min.time())"
   ]
  },
  {
   "cell_type": "code",
   "execution_count": 20,
   "metadata": {},
   "outputs": [
    {
     "name": "stdout",
     "output_type": "stream",
     "text": [
      "23:59:59.999999\n"
     ]
    }
   ],
   "source": [
    "#max time of day\n",
    "\n",
    "print(datetime.max.time())"
   ]
  },
  {
   "cell_type": "markdown",
   "metadata": {},
   "source": [
    "# 9. Write a Python program to print next 5 days starting from today."
   ]
  },
  {
   "cell_type": "code",
   "execution_count": 21,
   "metadata": {},
   "outputs": [
    {
     "name": "stdout",
     "output_type": "stream",
     "text": [
      "2020-11-03 12:54:58.950831\n",
      "2020-11-04 12:54:58.953202\n",
      "2020-11-05 12:54:58.955190\n",
      "2020-11-06 12:54:58.957110\n",
      "2020-11-07 12:54:58.958239\n"
     ]
    }
   ],
   "source": [
    "import datetime\n",
    "from datetime import timedelta\n",
    "print(datetime.datetime.now())\n",
    "print(datetime.datetime.now()+timedelta(days=1))\n",
    "print(datetime.datetime.now()+timedelta(days=2))\n",
    "print(datetime.datetime.now()+timedelta(days=3))\n",
    "print(datetime.datetime.now()+timedelta(days=4))"
   ]
  },
  {
   "cell_type": "code",
   "execution_count": 22,
   "metadata": {},
   "outputs": [
    {
     "name": "stdout",
     "output_type": "stream",
     "text": [
      "2020-11-03 12:54:58.978993\n",
      "2020-11-04 12:54:58.978993\n",
      "2020-11-05 12:54:58.978993\n",
      "2020-11-06 12:54:58.978993\n",
      "2020-11-07 12:54:58.978993\n"
     ]
    }
   ],
   "source": [
    "import datetime\n",
    "from datetime import timedelta\n",
    "a = datetime.datetime.today()\n",
    "for i in range(0,5):\n",
    "    print(a+datetime.timedelta(days = i))"
   ]
  },
  {
   "cell_type": "markdown",
   "metadata": {},
   "source": [
    "# 10. Write a Python program to add 5 seconds with the current time. Sample Data : 13:28:32.953088 13:28:37.953088"
   ]
  },
  {
   "cell_type": "code",
   "execution_count": 23,
   "metadata": {},
   "outputs": [
    {
     "name": "stdout",
     "output_type": "stream",
     "text": [
      "12:54:59.003639\n",
      "12:55:04.003639\n"
     ]
    }
   ],
   "source": [
    "import datetime\n",
    "x = datetime.datetime.now()\n",
    "y = x + datetime.timedelta(0,5)\n",
    "print(x.time())\n",
    "print(y.time())"
   ]
  },
  {
   "cell_type": "markdown",
   "metadata": {},
   "source": [
    "# 11. Write a Python program to convert Year/Month/Day 55 to Day of Year in Python."
   ]
  },
  {
   "cell_type": "code",
   "execution_count": 24,
   "metadata": {},
   "outputs": [
    {
     "name": "stdout",
     "output_type": "stream",
     "text": [
      "248\n"
     ]
    }
   ],
   "source": [
    "import datetime\n",
    "today = datetime.datetime.now()\n",
    "day_of_year = (today - datetime.datetime(today.year, 1, 1)).days + 1 - 60\n",
    "print(day_of_year)"
   ]
  },
  {
   "cell_type": "markdown",
   "metadata": {},
   "source": [
    "# 12. Write a Python program to get current time in milliseconds in Python."
   ]
  },
  {
   "cell_type": "code",
   "execution_count": 25,
   "metadata": {},
   "outputs": [
    {
     "name": "stdout",
     "output_type": "stream",
     "text": [
      "2020-11-03 12:54:59.051814\n"
     ]
    }
   ],
   "source": [
    "print(datetime.datetime.now())"
   ]
  },
  {
   "cell_type": "markdown",
   "metadata": {},
   "source": [
    "# 13. Write a Python program to get week number. Sample Date : 2015, 6, 16 Expected Output : 25."
   ]
  },
  {
   "cell_type": "code",
   "execution_count": 26,
   "metadata": {},
   "outputs": [
    {
     "name": "stdout",
     "output_type": "stream",
     "text": [
      "Todays Date: 2020-11-03 12:54:59.071761\n",
      "\n",
      "Week Number: 44\n"
     ]
    }
   ],
   "source": [
    "print('Todays Date:',datetime.datetime.now())\n",
    "print()\n",
    "print('Week Number:',datetime.datetime.now().strftime('%W'))"
   ]
  },
  {
   "cell_type": "markdown",
   "metadata": {},
   "source": [
    "# 14. Write a Python program to find the date of the first Monday of a given week. Sample Year and week : 2015, 50 Expected Output : Mon Dec 14 00:00:00 2015"
   ]
  },
  {
   "cell_type": "code",
   "execution_count": 27,
   "metadata": {},
   "outputs": [
    {
     "name": "stdout",
     "output_type": "stream",
     "text": [
      "Mon Dec 14 00:00:00 2020\n"
     ]
    }
   ],
   "source": [
    "import time\n",
    "print(time.asctime(time.strptime('2020 50 1', '%Y %W %w')))"
   ]
  },
  {
   "cell_type": "markdown",
   "metadata": {},
   "source": [
    "# 15. Write a Python program to select all the Sundays of a specified year."
   ]
  },
  {
   "cell_type": "code",
   "execution_count": 28,
   "metadata": {},
   "outputs": [
    {
     "name": "stdout",
     "output_type": "stream",
     "text": [
      "2021-01-03 / 2021-01-10 / 2021-01-17 / 2021-01-24 / 2021-01-31 / 2021-02-07 / 2021-02-14 / 2021-02-21 / 2021-02-28 / 2021-03-07 / 2021-03-14 / 2021-03-21 / 2021-03-28 / 2021-04-04 / 2021-04-11 / 2021-04-18 / 2021-04-25 / 2021-05-02 / 2021-05-09 / 2021-05-16 / 2021-05-23 / 2021-05-30 / 2021-06-06 / 2021-06-13 / 2021-06-20 / 2021-06-27 / 2021-07-04 / 2021-07-11 / 2021-07-18 / 2021-07-25 / 2021-08-01 / 2021-08-08 / 2021-08-15 / 2021-08-22 / 2021-08-29 / 2021-09-05 / 2021-09-12 / 2021-09-19 / 2021-09-26 / 2021-10-03 / 2021-10-10 / 2021-10-17 / 2021-10-24 / 2021-10-31 / 2021-11-07 / 2021-11-14 / 2021-11-21 / 2021-11-28 / 2021-12-05 / 2021-12-12 / 2021-12-19 / 2021-12-26 / "
     ]
    }
   ],
   "source": [
    "from datetime import date, timedelta\n",
    "\n",
    "def all_sundays(year):\n",
    "    dt = date(year,1,1)\n",
    "    dt+= timedelta(days = 6 - dt.weekday())\n",
    "    while dt.year == year:\n",
    "        yield dt\n",
    "        dt += timedelta(days = 7)\n",
    "for s in all_sundays(2021):\n",
    "    print(s,end = ' / ')"
   ]
  }
 ],
 "metadata": {
  "kernelspec": {
   "display_name": "Python 3",
   "language": "python",
   "name": "python3"
  },
  "language_info": {
   "codemirror_mode": {
    "name": "ipython",
    "version": 3
   },
   "file_extension": ".py",
   "mimetype": "text/x-python",
   "name": "python",
   "nbconvert_exporter": "python",
   "pygments_lexer": "ipython3",
   "version": "3.7.4"
  }
 },
 "nbformat": 4,
 "nbformat_minor": 2
}
