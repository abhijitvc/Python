{
 "cells": [
  {
   "cell_type": "markdown",
   "metadata": {},
   "source": [
    "**1.  Write a Python program that will return true if the two given integer values are equal or their sum or difference is 5.**"
   ]
  },
  {
   "cell_type": "code",
   "execution_count": 2,
   "metadata": {},
   "outputs": [
    {
     "name": "stdout",
     "output_type": "stream",
     "text": [
      "Enter a number: 7\n",
      "Enter a number2\n",
      "True\n"
     ]
    }
   ],
   "source": [
    "a = int(input(\"Enter a number: \"))\n",
    "b = int(input(\"Enter a number\"))\n",
    "\n",
    "if a==b or a-b==5 or b-a==5:\n",
    "    print(\"True\")\n",
    "else:\n",
    "    print(\"False\")"
   ]
  },
  {
   "cell_type": "markdown",
   "metadata": {},
   "source": [
    "**2.  Write a Python program to take the user information for n students details like name, age, address and print them on different lines.**"
   ]
  },
  {
   "cell_type": "code",
   "execution_count": 3,
   "metadata": {},
   "outputs": [
    {
     "name": "stdout",
     "output_type": "stream",
     "text": [
      "Please enter number of students:3\n",
      "Please enter student name:Rahul\n",
      "Please enter student's age:24\n",
      "Please enter student's address:bangalore\n",
      "Following is the information for student 1\n",
      "Name: Rahul \n",
      " Age: 24 \n",
      " Address: bangalore\n",
      "Please enter student name:Sachin\n",
      "Please enter student's age:16\n",
      "Please enter student's address:Mumbai\n",
      "Following is the information for student 2\n",
      "Name: Sachin \n",
      " Age: 16 \n",
      " Address: Mumbai\n",
      "Please enter student name:Viru\n",
      "Please enter student's age:22\n",
      "Please enter student's address:Delhi\n",
      "Following is the information for student 3\n",
      "Name: Viru \n",
      " Age: 22 \n",
      " Address: Delhi\n"
     ]
    }
   ],
   "source": [
    "students = int(input(\"Please enter number of students:\"))\n",
    "\n",
    "for i in range(1,students+1):\n",
    "    name = input(\"Please enter student name:\")\n",
    "    age = input(\"Please enter student's age:\")\n",
    "    address = input(\"Please enter student's address:\")\n",
    "    print(\"Following is the information for student {}\".format(i))\n",
    "    print('Name:',name,'\\n','Age:',age,'\\n','Address:',address)"
   ]
  },
  {
   "cell_type": "markdown",
   "metadata": {},
   "source": [
    "**3. Write a Python program to find the sum of array (hint take a list as array).**"
   ]
  },
  {
   "cell_type": "code",
   "execution_count": 6,
   "metadata": {},
   "outputs": [
    {
     "name": "stdout",
     "output_type": "stream",
     "text": [
      "Enter Number: 1\n",
      "Enter Number: 2\n",
      "Enter Number: 3\n",
      "Enter Number: 4\n",
      "Enter Number: 5\n",
      "[1, 2, 3, 4, 5]\n",
      "15\n"
     ]
    }
   ],
   "source": [
    "a = []\n",
    "\n",
    "for i in range(5):\n",
    "    i = int(input(\"Enter Number: \"))\n",
    "    a.append(i)\n",
    "print(a)\n",
    "print(sum(a))"
   ]
  },
  {
   "cell_type": "code",
   "execution_count": 7,
   "metadata": {},
   "outputs": [
    {
     "data": {
      "text/plain": [
       "55"
      ]
     },
     "execution_count": 7,
     "metadata": {},
     "output_type": "execute_result"
    }
   ],
   "source": [
    "list4 = [1,2,3,4,5,6,7,8,9,10]\n",
    "\n",
    "def sum_list(list4):\n",
    "    return sum(list4)\n",
    "\n",
    "sum_list(list4)"
   ]
  },
  {
   "cell_type": "markdown",
   "metadata": {},
   "source": [
    "**4. Write a Python program to imitate login activity of a user also do its validation. (hint:-If user enters the wrong userid or password it should provide a message).**"
   ]
  },
  {
   "cell_type": "code",
   "execution_count": 44,
   "metadata": {},
   "outputs": [
    {
     "name": "stdout",
     "output_type": "stream",
     "text": [
      "Please enter username: leo\n",
      "Enter password: 4567\n",
      "Welcome\n"
     ]
    }
   ],
   "source": [
    "users = {'john':\"1234\",'mark':\"2345\",'paul':\"3456\",'leo':\"4567\"}\n",
    "\n",
    "user_name = input(\"Please enter username: \")\n",
    "password = input(\"Enter password: \")\n",
    "\n",
    "if user_name in users.keys() and password==users[user_name]:\n",
    "    print(\"Welcome\")\n",
    "else:\n",
    "    print(\"ERROR:  User ID and password do not match\")"
   ]
  },
  {
   "cell_type": "markdown",
   "metadata": {},
   "source": [
    "**5. Write a Python program to imitate a shopping transaction where user purchase 5 notebooks of 20 rs each and 2 pens of 5 rs each. Show the total amount to be payable to the shopkeeper.**"
   ]
  },
  {
   "cell_type": "code",
   "execution_count": 18,
   "metadata": {},
   "outputs": [
    {
     "name": "stdout",
     "output_type": "stream",
     "text": [
      "Enter number of notebooks purchased: 500\n",
      "Enter number of pens purchased: 1000\n",
      "\n",
      "Total amount to be paid is:  15000\n"
     ]
    }
   ],
   "source": [
    "transaction_1 = int(input('Enter number of notebooks purchased: '))\n",
    "transaction_2 = int(input('Enter number of pens purchased: '))\n",
    "\n",
    "total = transaction_1*20 + transaction_2*5\n",
    "print()\n",
    "\n",
    "print(\"Total amount to be paid is: \",total)"
   ]
  },
  {
   "cell_type": "markdown",
   "metadata": {},
   "source": [
    "**6. Accept the age of the person and print an appropriate message as per the table given alongside:\n",
    "Age Message: if <=12 You are child, 13-19 You are a teenager, 20-59 You are an adult, >= 60 You are a senior citizen.**"
   ]
  },
  {
   "cell_type": "code",
   "execution_count": 22,
   "metadata": {},
   "outputs": [
    {
     "name": "stdout",
     "output_type": "stream",
     "text": [
      "Enter your age: 61\n",
      "You are a senior citizen.\n"
     ]
    }
   ],
   "source": [
    "age = int(input(\"Enter your age: \"))\n",
    "\n",
    "if age<=12:\n",
    "    print(\"You are a child.\")\n",
    "elif age in range(13,20):\n",
    "    print('You are a teenager.')\n",
    "elif age in range(20,60):\n",
    "    print(\"You are an adult.\")\n",
    "else:\n",
    "    print(\"You are a senior citizen.\")"
   ]
  },
  {
   "cell_type": "markdown",
   "metadata": {},
   "source": [
    "**7.    Accept the purchases made by a customer and calculate and print the discount payable by him. You are given that a discount of 10% is given on purchases greater than Rs. 3000/- and no discount is given for purchases below that.**"
   ]
  },
  {
   "cell_type": "code",
   "execution_count": 32,
   "metadata": {},
   "outputs": [
    {
     "name": "stdout",
     "output_type": "stream",
     "text": [
      "Enter the total amount: 10000\n",
      "Total amount to be paid is 9000.0\n"
     ]
    }
   ],
   "source": [
    "total = int(input(\"Enter the total amount: \"))\n",
    "\n",
    "if total>3000:\n",
    "    print(\"Total amount to be paid is\", total-(0.1*total))\n",
    "else:\n",
    "    print(\"Total amount to be paid is\", total)"
   ]
  },
  {
   "cell_type": "markdown",
   "metadata": {},
   "source": [
    "**8.  Accept the gross salary of an employee. Calculate and print the tax based on the given criteria.**\n",
    "\n",
    "Salary Tax Rate Upto Rs.2,00,000 Nil\n",
    "\n",
    "2,00,001-5,00,000 10%\n",
    "\n",
    "Above 5,00,000 20%"
   ]
  },
  {
   "cell_type": "code",
   "execution_count": 35,
   "metadata": {},
   "outputs": [
    {
     "name": "stdout",
     "output_type": "stream",
     "text": [
      "Enter your gross salary: 1200000\n",
      "Your net salary after 20% tax reduction is:  960000.0\n"
     ]
    }
   ],
   "source": [
    "gross_sal = int(input(\"Enter your gross salary: \"))\n",
    "\n",
    "if gross_sal in range(200001,500000):\n",
    "    print(\"Your net salary after 10% tax reduction is: \", gross_sal-(0.1*gross_sal))\n",
    "elif gross_sal>500000:\n",
    "    print(\"Your net salary after 20% tax reduction is: \", gross_sal-(0.2*gross_sal))\n",
    "else:\n",
    "    print(\"Your net salary is: \", gross_sal)"
   ]
  },
  {
   "cell_type": "markdown",
   "metadata": {},
   "source": [
    "**9.  Scholarships are given to students on the following basis:**\n",
    "\n",
    "Percentage obtained Scholarship Amount>=90 is 5000\n",
    "\n",
    "Or >=80 is 1000\n",
    "\n",
    "Otherwise Nil"
   ]
  },
  {
   "cell_type": "code",
   "execution_count": 40,
   "metadata": {},
   "outputs": [
    {
     "name": "stdout",
     "output_type": "stream",
     "text": [
      "Enter your percentage obtained: 79\n",
      "You are not eligible for any scholarship.\n"
     ]
    }
   ],
   "source": [
    "percentage = int(input(\"Enter your percentage obtained: \"))\n",
    "\n",
    "if percentage>=90:\n",
    "    print(\"You are eligible for a scholarship of 5000.\")\n",
    "elif percentage>=80:\n",
    "    print(\"You are eligible for a scholarship of 1000.\")\n",
    "else:\n",
    "    print(\"You are not eligible for any scholarship.\")"
   ]
  },
  {
   "cell_type": "markdown",
   "metadata": {},
   "source": [
    "**10. Given 2 int arrays, a and b, each length 3, return a new array length 2 containing their middle elements.**"
   ]
  },
  {
   "cell_type": "code",
   "execution_count": 43,
   "metadata": {},
   "outputs": [
    {
     "name": "stdout",
     "output_type": "stream",
     "text": [
      "[2, 5]\n"
     ]
    }
   ],
   "source": [
    "a = [1,2,3]\n",
    "b = [4,5,6]\n",
    "\n",
    "c = [a[1],b[1]]\n",
    "\n",
    "print(c)"
   ]
  }
 ],
 "metadata": {
  "kernelspec": {
   "display_name": "Python 3",
   "language": "python",
   "name": "python3"
  },
  "language_info": {
   "codemirror_mode": {
    "name": "ipython",
    "version": 3
   },
   "file_extension": ".py",
   "mimetype": "text/x-python",
   "name": "python",
   "nbconvert_exporter": "python",
   "pygments_lexer": "ipython3",
   "version": "3.7.4"
  }
 },
 "nbformat": 4,
 "nbformat_minor": 2
}
